{
 "cells": [
  {
   "cell_type": "code",
   "execution_count": 94,
   "metadata": {},
   "outputs": [],
   "source": [
    "import numpy as np\n",
    "import pandas as pd"
   ]
  },
  {
   "cell_type": "code",
   "execution_count": 95,
   "metadata": {},
   "outputs": [
    {
     "name": "stdout",
     "output_type": "stream",
     "text": [
      "[ 1  2 20 70]\n"
     ]
    }
   ],
   "source": [
    "z = np.array([1, 2, 20, 70])\n",
    "print(z)"
   ]
  },
  {
   "cell_type": "code",
   "execution_count": 96,
   "metadata": {},
   "outputs": [],
   "source": [
    "def sigmoid(arr):\n",
    "    return 1/(1+np.exp(arr))"
   ]
  },
  {
   "cell_type": "code",
   "execution_count": 97,
   "metadata": {},
   "outputs": [
    {
     "data": {
      "text/plain": [
       "array([2.68941421e-01, 1.19202922e-01, 2.06115362e-09, 3.97544974e-31])"
      ]
     },
     "execution_count": 97,
     "metadata": {},
     "output_type": "execute_result"
    }
   ],
   "source": [
    "sigmoid(z)"
   ]
  },
  {
   "cell_type": "code",
   "execution_count": 98,
   "metadata": {},
   "outputs": [],
   "source": [
    "# tanh"
   ]
  },
  {
   "cell_type": "code",
   "execution_count": 99,
   "metadata": {},
   "outputs": [],
   "source": [
    "def tanh(a):\n",
    "    return (np.exp(a)-np.exp(-a))/(np.exp(a)+np.exp(-a))"
   ]
  },
  {
   "cell_type": "code",
   "execution_count": 100,
   "metadata": {},
   "outputs": [
    {
     "data": {
      "text/plain": [
       "array([0.76159416, 0.96402758, 1.        , 1.        ])"
      ]
     },
     "execution_count": 100,
     "metadata": {},
     "output_type": "execute_result"
    }
   ],
   "source": [
    "tanh(z)"
   ]
  },
  {
   "cell_type": "code",
   "execution_count": 104,
   "metadata": {},
   "outputs": [],
   "source": [
    "z2 = np.array([2, -7, -700, 5000, 5, 0.5])"
   ]
  },
  {
   "cell_type": "code",
   "execution_count": 109,
   "metadata": {},
   "outputs": [
    {
     "name": "stdout",
     "output_type": "stream",
     "text": [
      "[0.11920292 0.99908895 1.         0.         0.00669285 0.37754067]\n",
      "[-2.0000e+00 -5.6000e+01 -4.9070e+05 -2.4995e+07 -2.0000e+01  2.5000e-01]\n"
     ]
    },
    {
     "name": "stderr",
     "output_type": "stream",
     "text": [
      "C:\\Users\\Kavita manoj\\AppData\\Local\\Temp\\ipykernel_9996\\3318698983.py:2: RuntimeWarning: overflow encountered in exp\n",
      "  return 1/(1+np.exp(arr))\n"
     ]
    }
   ],
   "source": [
    "print(sigmoid(z2))\n",
    "print(z2*(1-z2))"
   ]
  },
  {
   "cell_type": "code",
   "execution_count": 110,
   "metadata": {},
   "outputs": [
    {
     "name": "stderr",
     "output_type": "stream",
     "text": [
      "C:\\Users\\Kavita manoj\\AppData\\Local\\Temp\\ipykernel_9996\\3342930619.py:2: RuntimeWarning: overflow encountered in exp\n",
      "  return (np.exp(a)-np.exp(-a))/(np.exp(a)+np.exp(-a))\n",
      "C:\\Users\\Kavita manoj\\AppData\\Local\\Temp\\ipykernel_9996\\3342930619.py:2: RuntimeWarning: invalid value encountered in divide\n",
      "  return (np.exp(a)-np.exp(-a))/(np.exp(a)+np.exp(-a))\n"
     ]
    },
    {
     "data": {
      "text/plain": [
       "array([ 0.96402758, -0.99999834, -1.        ,         nan,  0.9999092 ,\n",
       "        0.46211716])"
      ]
     },
     "execution_count": 110,
     "metadata": {},
     "output_type": "execute_result"
    }
   ],
   "source": [
    "tanh(z2)"
   ]
  },
  {
   "cell_type": "code",
   "execution_count": 117,
   "metadata": {},
   "outputs": [],
   "source": [
    "def relu(a):\n",
    "    returnedArray = np.zeros(len(a))\n",
    "    for i in range (0, len(a)):\n",
    "        if (a[i]<0):\n",
    "            returnedArray[i] = 0\n",
    "        else:\n",
    "            returnedArray[i] = a[i]\n",
    "    return returnedArray"
   ]
  },
  {
   "cell_type": "code",
   "execution_count": 127,
   "metadata": {},
   "outputs": [
    {
     "name": "stdout",
     "output_type": "stream",
     "text": [
      "[2.e+00 0.e+00 0.e+00 5.e+03 5.e+00 5.e-01]\n"
     ]
    }
   ],
   "source": [
    "reluZ2 = relu(z2)\n",
    "print(reluZ2)"
   ]
  },
  {
   "cell_type": "code",
   "execution_count": null,
   "metadata": {},
   "outputs": [],
   "source": []
  }
 ],
 "metadata": {
  "kernelspec": {
   "display_name": "Python 3",
   "language": "python",
   "name": "python3"
  },
  "language_info": {
   "codemirror_mode": {
    "name": "ipython",
    "version": 3
   },
   "file_extension": ".py",
   "mimetype": "text/x-python",
   "name": "python",
   "nbconvert_exporter": "python",
   "pygments_lexer": "ipython3",
   "version": "3.10.4"
  },
  "orig_nbformat": 4
 },
 "nbformat": 4,
 "nbformat_minor": 2
}
