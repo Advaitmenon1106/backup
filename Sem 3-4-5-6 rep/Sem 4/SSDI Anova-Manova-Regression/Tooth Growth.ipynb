{
 "cells": [
  {
   "cell_type": "code",
   "execution_count": 117,
   "metadata": {},
   "outputs": [],
   "source": [
    "import numpy as np\n",
    "import pandas as pd\n",
    "from statsmodels.formula.api import ols\n",
    "from statsmodels.api import MANOVA\n",
    "from statsmodels.multivariate.manova import MANOVA\n",
    "import statsmodels.api as sm"
   ]
  },
  {
   "cell_type": "code",
   "execution_count": 118,
   "metadata": {},
   "outputs": [],
   "source": [
    "df = pd.read_csv(\"C:/Users/Kavita manoj/Downloads/ToothGrowth.csv\", index_col=0)"
   ]
  },
  {
   "cell_type": "code",
   "execution_count": 119,
   "metadata": {},
   "outputs": [],
   "source": [
    "df.dose = df.dose.astype(str)"
   ]
  },
  {
   "cell_type": "code",
   "execution_count": 120,
   "metadata": {},
   "outputs": [],
   "source": [
    "#question: impact of supplement and dose on length"
   ]
  },
  {
   "cell_type": "code",
   "execution_count": 121,
   "metadata": {},
   "outputs": [],
   "source": [
    "fitAnova = ols('len~supp+dose', data=df).fit()"
   ]
  },
  {
   "cell_type": "code",
   "execution_count": 122,
   "metadata": {},
   "outputs": [
    {
     "data": {
      "text/html": [
       "<div>\n",
       "<style scoped>\n",
       "    .dataframe tbody tr th:only-of-type {\n",
       "        vertical-align: middle;\n",
       "    }\n",
       "\n",
       "    .dataframe tbody tr th {\n",
       "        vertical-align: top;\n",
       "    }\n",
       "\n",
       "    .dataframe thead th {\n",
       "        text-align: right;\n",
       "    }\n",
       "</style>\n",
       "<table border=\"1\" class=\"dataframe\">\n",
       "  <thead>\n",
       "    <tr style=\"text-align: right;\">\n",
       "      <th></th>\n",
       "      <th>df</th>\n",
       "      <th>sum_sq</th>\n",
       "      <th>mean_sq</th>\n",
       "      <th>F</th>\n",
       "      <th>PR(&gt;F)</th>\n",
       "    </tr>\n",
       "  </thead>\n",
       "  <tbody>\n",
       "    <tr>\n",
       "      <th>supp</th>\n",
       "      <td>1.0</td>\n",
       "      <td>205.350000</td>\n",
       "      <td>205.350000</td>\n",
       "      <td>14.016638</td>\n",
       "      <td>4.292793e-04</td>\n",
       "    </tr>\n",
       "    <tr>\n",
       "      <th>dose</th>\n",
       "      <td>2.0</td>\n",
       "      <td>2426.434333</td>\n",
       "      <td>1213.217167</td>\n",
       "      <td>82.810935</td>\n",
       "      <td>1.871163e-17</td>\n",
       "    </tr>\n",
       "    <tr>\n",
       "      <th>Residual</th>\n",
       "      <td>56.0</td>\n",
       "      <td>820.425000</td>\n",
       "      <td>14.650446</td>\n",
       "      <td>NaN</td>\n",
       "      <td>NaN</td>\n",
       "    </tr>\n",
       "  </tbody>\n",
       "</table>\n",
       "</div>"
      ],
      "text/plain": [
       "            df       sum_sq      mean_sq          F        PR(>F)\n",
       "supp       1.0   205.350000   205.350000  14.016638  4.292793e-04\n",
       "dose       2.0  2426.434333  1213.217167  82.810935  1.871163e-17\n",
       "Residual  56.0   820.425000    14.650446        NaN           NaN"
      ]
     },
     "execution_count": 122,
     "metadata": {},
     "output_type": "execute_result"
    }
   ],
   "source": [
    "sm.stats.anova_lm(fitAnova)\n",
    "# both supplement and dose have an impact"
   ]
  },
  {
   "cell_type": "code",
   "execution_count": 123,
   "metadata": {},
   "outputs": [
    {
     "data": {
      "text/html": [
       "<table class=\"simpletable\">\n",
       "<caption>Multiple Comparison of Means - Tukey HSD, FWER=0.05</caption>\n",
       "<tr>\n",
       "  <th>group1</th> <th>group2</th> <th>meandiff</th>  <th>p-adj</th>  <th>lower</th> <th>upper</th> <th>reject</th>\n",
       "</tr>\n",
       "<tr>\n",
       "    <td>OJ</td>     <td>VC</td>     <td>-3.7</td>   <td>0.0604</td> <td>-7.567</td> <td>0.167</td>  <td>False</td>\n",
       "</tr>\n",
       "</table>"
      ],
      "text/plain": [
       "<class 'statsmodels.iolib.table.SimpleTable'>"
      ]
     },
     "execution_count": 123,
     "metadata": {},
     "output_type": "execute_result"
    }
   ],
   "source": [
    "from statsmodels.stats.multicomp import pairwise_tukeyhsd\n",
    "pairwise_tukeyhsd(df['len'], df['supp'])._results_table"
   ]
  },
  {
   "cell_type": "code",
   "execution_count": 124,
   "metadata": {},
   "outputs": [
    {
     "data": {
      "text/html": [
       "<table class=\"simpletable\">\n",
       "<caption>Multiple Comparison of Means - Tukey HSD, FWER=0.05</caption>\n",
       "<tr>\n",
       "  <th>group1</th> <th>group2</th> <th>meandiff</th> <th>p-adj</th>  <th>lower</th>   <th>upper</th>  <th>reject</th>\n",
       "</tr>\n",
       "<tr>\n",
       "    <td>0.5</td>    <td>1.0</td>    <td>9.13</td>    <td>0.0</td>  <td>5.9018</td>  <td>12.3582</td>  <td>True</td> \n",
       "</tr>\n",
       "<tr>\n",
       "    <td>0.5</td>    <td>2.0</td>   <td>15.495</td>   <td>0.0</td>  <td>12.2668</td> <td>18.7232</td>  <td>True</td> \n",
       "</tr>\n",
       "<tr>\n",
       "    <td>1.0</td>    <td>2.0</td>    <td>6.365</td>   <td>0.0</td>  <td>3.1368</td>  <td>9.5932</td>   <td>True</td> \n",
       "</tr>\n",
       "</table>"
      ],
      "text/plain": [
       "<class 'statsmodels.iolib.table.SimpleTable'>"
      ]
     },
     "execution_count": 124,
     "metadata": {},
     "output_type": "execute_result"
    }
   ],
   "source": [
    "pairwise_tukeyhsd(df['len'], df['dose'])._results_table"
   ]
  },
  {
   "cell_type": "code",
   "execution_count": 125,
   "metadata": {},
   "outputs": [],
   "source": [
    "from scipy.stats import ttest_ind"
   ]
  },
  {
   "cell_type": "code",
   "execution_count": 126,
   "metadata": {},
   "outputs": [
    {
     "data": {
      "text/plain": [
       "Ttest_indResult(statistic=-6.476647726589102, pvalue=6.331484806608257e-08)"
      ]
     },
     "execution_count": 126,
     "metadata": {},
     "output_type": "execute_result"
    }
   ],
   "source": [
    "ttest_ind(df[df['dose'] == '0.5']['len'], df[df['dose'] == '1.0']['len'], alternative='less') \n",
    "#H0: dose of 0.5 - dose of 1 >= 0\n",
    "#Ha: dose of 0.5 - dose of 1 < 0\n",
    "# p < 0.05, null hypothesis rejected.\n",
    "#result: dose of 1.0 implies higher tooth length"
   ]
  },
  {
   "cell_type": "code",
   "execution_count": 127,
   "metadata": {},
   "outputs": [
    {
     "data": {
      "text/plain": [
       "Ttest_indResult(statistic=-11.799045956310293, pvalue=1.4187765838373604e-14)"
      ]
     },
     "execution_count": 127,
     "metadata": {},
     "output_type": "execute_result"
    }
   ],
   "source": [
    "ttest_ind(df[df['dose'] == '0.5']['len'], df[df['dose'] == '2.0']['len'], alternative='less')\n",
    "#H0: dose of 0.5 - dose of 2 >= 0\n",
    "#Ha: dose of 0.5 - dose of 2 < 0\n",
    "#result: dose of 0.5 implies lesser tooth length vs dose of 2.0"
   ]
  },
  {
   "cell_type": "code",
   "execution_count": 128,
   "metadata": {},
   "outputs": [
    {
     "data": {
      "text/plain": [
       "Ttest_indResult(statistic=-4.90048431719355, pvalue=9.054142680908653e-06)"
      ]
     },
     "execution_count": 128,
     "metadata": {},
     "output_type": "execute_result"
    }
   ],
   "source": [
    "ttest_ind(df[df['dose'] == '1.0']['len'], df[df['dose'] == '2.0']['len'], alternative='less')\n",
    "#H0: dose of 1 - dose of 2 >= 0\n",
    "#Ha: dose of 1 - dose of 2 < 0\n",
    "#Result: H0 rejected.\n",
    "# dose of 2 results in higher tooth length than dose of 1"
   ]
  },
  {
   "cell_type": "code",
   "execution_count": null,
   "metadata": {},
   "outputs": [],
   "source": []
  }
 ],
 "metadata": {
  "kernelspec": {
   "display_name": "Python 3",
   "language": "python",
   "name": "python3"
  },
  "language_info": {
   "codemirror_mode": {
    "name": "ipython",
    "version": 3
   },
   "file_extension": ".py",
   "mimetype": "text/x-python",
   "name": "python",
   "nbconvert_exporter": "python",
   "pygments_lexer": "ipython3",
   "version": "3.10.4"
  },
  "orig_nbformat": 4
 },
 "nbformat": 4,
 "nbformat_minor": 2
}
