{
 "cells": [
  {
   "cell_type": "code",
   "execution_count": 1,
   "metadata": {},
   "outputs": [],
   "source": [
    "import numpy as np\n",
    "import pandas as pd\n",
    "import statsmodels.api as sm\n",
    "from scipy import stats\n",
    "from statsmodels.formula.api import ols\n",
    "from statsmodels.stats.multicomp import pairwise_tukeyhsd\n",
    "from statsmodels.multivariate.manova import MANOVA"
   ]
  },
  {
   "cell_type": "code",
   "execution_count": 2,
   "metadata": {},
   "outputs": [
    {
     "name": "stdout",
     "output_type": "stream",
     "text": [
      "    Person  Before  After\n",
      "0        1     210    197\n",
      "1        2     205    195\n",
      "2        3     193    191\n",
      "3        4     182    174\n",
      "4        5     259    236\n",
      "5        6     239    226\n",
      "6        7     164    157\n",
      "7        8     197    196\n",
      "8        9     222    201\n",
      "9       10     211    196\n",
      "10      11     187    181\n",
      "11      12     175    164\n",
      "12      13     186    181\n",
      "13      14     243    229\n",
      "14      15     246    231\n"
     ]
    }
   ],
   "source": [
    "dfQ2 = pd.read_csv(\"Q3.csv\")\n",
    "print(dfQ2)"
   ]
  },
  {
   "cell_type": "code",
   "execution_count": 3,
   "metadata": {},
   "outputs": [
    {
     "name": "stdout",
     "output_type": "stream",
     "text": [
      "Ttest_relResult(statistic=6.6896995348736334, pvalue=5.137828140742702e-06)\n"
     ]
    },
    {
     "data": {
      "text/plain": [
       "'\\nthe result gives p = 5.137828140742702e-06, less than 0.5, therefore the null hypothesis is rejected\\nthis means average weight of before > average weight after the program\\nthis in turn means the program was successful at an error of 0.05\\n'"
      ]
     },
     "execution_count": 3,
     "metadata": {},
     "output_type": "execute_result"
    }
   ],
   "source": [
    "\"\"\"\n",
    "H0: average(before)-average(after) <= 0\n",
    "Ha: average(before)-average(after) > 0\n",
    "\"\"\"\n",
    "\n",
    "print(stats.ttest_rel(dfQ2['Before'], dfQ2['After'], alternative=\"greater\"))\n",
    "\n",
    "\"\"\"\n",
    "the result gives p = 5.137828140742702e-06, less than 0.5, therefore the null hypothesis is rejected\n",
    "this means average weight of before > average weight after the program\n",
    "this in turn means the program was successful at an error of 0.05\n",
    "\"\"\""
   ]
  },
  {
   "cell_type": "code",
   "execution_count": 4,
   "metadata": {},
   "outputs": [
    {
     "data": {
      "text/plain": [
       "Ttest_1sampResult(statistic=6.6896995348736334, pvalue=0.9999948621718593)"
      ]
     },
     "execution_count": 4,
     "metadata": {},
     "output_type": "execute_result"
    }
   ],
   "source": [
    "stats.ttest_1samp(dfQ2['Before']-dfQ2['After'], popmean=0, alternative='less')"
   ]
  },
  {
   "cell_type": "code",
   "execution_count": 5,
   "metadata": {},
   "outputs": [],
   "source": [
    "dfQ3 = pd.read_csv(\"Q3(2).csv\")\n",
    "dfQ3['kindness'] = dfQ3['kindness'].astype(str)\n",
    "dfQ3['optimism'] = dfQ3['optimism'].astype(str)"
   ]
  },
  {
   "cell_type": "code",
   "execution_count": 6,
   "metadata": {},
   "outputs": [
    {
     "name": "stdout",
     "output_type": "stream",
     "text": [
      "<class 'pandas.core.frame.DataFrame'>\n",
      "RangeIndex: 24 entries, 0 to 23\n",
      "Data columns (total 4 columns):\n",
      " #   Column               Non-Null Count  Dtype \n",
      "---  ------               --------------  ----- \n",
      " 0   gender               24 non-null     object\n",
      " 1   economic_background  24 non-null     object\n",
      " 2   kindness             24 non-null     object\n",
      " 3   optimism             24 non-null     object\n",
      "dtypes: object(4)\n",
      "memory usage: 896.0+ bytes\n"
     ]
    }
   ],
   "source": [
    "dfQ3.info()"
   ]
  },
  {
   "cell_type": "code",
   "execution_count": 7,
   "metadata": {},
   "outputs": [
    {
     "name": "stdout",
     "output_type": "stream",
     "text": [
      "                                Multivariate linear model\n",
      "==========================================================================================\n",
      "                                                                                          \n",
      "------------------------------------------------------------------------------------------\n",
      "       Intercept                Value         Num DF  Den DF        F Value         Pr > F\n",
      "------------------------------------------------------------------------------------------\n",
      "          Wilks' lambda               -0.0000 8.0000 13.0000 -1463669878895413.0000 1.0000\n",
      "         Pillai's trace                1.0000 8.0000 13.0000 -1463669878895412.7500 1.0000\n",
      " Hotelling-Lawley trace -900719925474100.2500 8.0000 13.0000 -1463669878895413.0000 1.0000\n",
      "    Roy's greatest root -900719925474100.2500 8.0000 13.0000 -1463669878895413.0000 1.0000\n",
      "------------------------------------------------------------------------------------------\n",
      "                                                                                          \n",
      "------------------------------------------------------------------------------------------------\n",
      "               gender               Value        Num DF        Den DF       F Value       Pr > F\n",
      "------------------------------------------------------------------------------------------------\n",
      "                Wilks' lambda       0.6720       7.0000       14.0000        0.9764       0.4848\n",
      "               Pillai's trace       0.3293       7.0000       14.0000        0.9820       0.4814\n",
      "       Hotelling-Lawley trace       0.4863       7.0000       14.0000        0.9727       0.4870\n",
      "          Roy's greatest root       0.4825       7.0000       14.0000        0.9650       0.4918\n",
      "------------------------------------------------------------------------------------------\n",
      "                                                                                          \n",
      "-----------------------------------------------------------------------------------------------\n",
      "           economic_background        Value        Num DF       Den DF      F Value      Pr > F\n",
      "-----------------------------------------------------------------------------------------------\n",
      "                   Wilks' lambda      0.5330      14.0000      28.0000       0.7396      0.7191\n",
      "                  Pillai's trace      0.5125      14.0000      30.0000       0.7382      0.7212\n",
      "          Hotelling-Lawley trace      0.7911      14.0000      19.2941       0.7565      0.6992\n",
      "             Roy's greatest root      0.6625       7.0000      15.0000       1.4196      0.2683\n",
      "==========================================================================================\n",
      "\n"
     ]
    }
   ],
   "source": [
    "manova1 = MANOVA.from_formula(\"kindness~gender+economic_background\", data=dfQ3)\n",
    "print(manova1.mv_test())"
   ]
  },
  {
   "cell_type": "code",
   "execution_count": 8,
   "metadata": {},
   "outputs": [
    {
     "name": "stdout",
     "output_type": "stream",
     "text": [
      "                                Multivariate linear model\n",
      "==========================================================================================\n",
      "                                                                                          \n",
      "------------------------------------------------------------------------------------------\n",
      "       Intercept                Value         Num DF  Den DF        F Value         Pr > F\n",
      "------------------------------------------------------------------------------------------\n",
      "          Wilks' lambda               -0.0000 8.0000 13.0000 -1463669878895413.0000 1.0000\n",
      "         Pillai's trace                1.0000 8.0000 13.0000 -1463669878895412.7500 1.0000\n",
      " Hotelling-Lawley trace -900719925474100.2500 8.0000 13.0000 -1463669878895413.0000 1.0000\n",
      "    Roy's greatest root -900719925474100.2500 8.0000 13.0000 -1463669878895413.0000 1.0000\n",
      "------------------------------------------------------------------------------------------\n",
      "                                                                                          \n",
      "------------------------------------------------------------------------------------------------\n",
      "               gender               Value        Num DF        Den DF       F Value       Pr > F\n",
      "------------------------------------------------------------------------------------------------\n",
      "                Wilks' lambda       0.6720       7.0000       14.0000        0.9764       0.4848\n",
      "               Pillai's trace       0.3293       7.0000       14.0000        0.9820       0.4814\n",
      "       Hotelling-Lawley trace       0.4863       7.0000       14.0000        0.9727       0.4870\n",
      "          Roy's greatest root       0.4825       7.0000       14.0000        0.9650       0.4918\n",
      "------------------------------------------------------------------------------------------\n",
      "                                                                                          \n",
      "-----------------------------------------------------------------------------------------------\n",
      "           economic_background        Value        Num DF       Den DF      F Value      Pr > F\n",
      "-----------------------------------------------------------------------------------------------\n",
      "                   Wilks' lambda      0.5330      14.0000      28.0000       0.7396      0.7191\n",
      "                  Pillai's trace      0.5125      14.0000      30.0000       0.7382      0.7212\n",
      "          Hotelling-Lawley trace      0.7911      14.0000      19.2941       0.7565      0.6992\n",
      "             Roy's greatest root      0.6625       7.0000      15.0000       1.4196      0.2683\n",
      "==========================================================================================\n",
      "\n"
     ]
    }
   ],
   "source": [
    "manova2 = MANOVA.from_formula(\"optimism~gender+economic_background\", data=dfQ3)\n",
    "print(manova1.mv_test())"
   ]
  },
  {
   "cell_type": "code",
   "execution_count": 9,
   "metadata": {},
   "outputs": [
    {
     "name": "stdout",
     "output_type": "stream",
     "text": [
      "                                Multivariate linear model\n",
      "==========================================================================================\n",
      "                                                                                          \n",
      "------------------------------------------------------------------------------------------\n",
      "       Intercept                Value         Num DF  Den DF        F Value         Pr > F\n",
      "------------------------------------------------------------------------------------------\n",
      "          Wilks' lambda               -0.0000 8.0000 13.0000 -1463669878895413.0000 1.0000\n",
      "         Pillai's trace                1.0000 8.0000 13.0000 -1463669878895412.7500 1.0000\n",
      " Hotelling-Lawley trace -900719925474100.2500 8.0000 13.0000 -1463669878895413.0000 1.0000\n",
      "    Roy's greatest root -900719925474100.2500 8.0000 13.0000 -1463669878895413.0000 1.0000\n",
      "------------------------------------------------------------------------------------------\n",
      "                                                                                          \n",
      "------------------------------------------------------------------------------------------------\n",
      "               gender               Value        Num DF        Den DF       F Value       Pr > F\n",
      "------------------------------------------------------------------------------------------------\n",
      "                Wilks' lambda       0.6720       7.0000       14.0000        0.9764       0.4848\n",
      "               Pillai's trace       0.3293       7.0000       14.0000        0.9820       0.4814\n",
      "       Hotelling-Lawley trace       0.4863       7.0000       14.0000        0.9727       0.4870\n",
      "          Roy's greatest root       0.4825       7.0000       14.0000        0.9650       0.4918\n",
      "------------------------------------------------------------------------------------------\n",
      "                                                                                          \n",
      "-----------------------------------------------------------------------------------------------\n",
      "           economic_background        Value        Num DF       Den DF      F Value      Pr > F\n",
      "-----------------------------------------------------------------------------------------------\n",
      "                   Wilks' lambda      0.5330      14.0000      28.0000       0.7396      0.7191\n",
      "                  Pillai's trace      0.5125      14.0000      30.0000       0.7382      0.7212\n",
      "          Hotelling-Lawley trace      0.7911      14.0000      19.2941       0.7565      0.6992\n",
      "             Roy's greatest root      0.6625       7.0000      15.0000       1.4196      0.2683\n",
      "==========================================================================================\n",
      "\n"
     ]
    }
   ],
   "source": [
    "manova2 = \n",
    "print(manova1.mv_test())"
   ]
  }
 ],
 "metadata": {
  "kernelspec": {
   "display_name": "Python 3",
   "language": "python",
   "name": "python3"
  },
  "language_info": {
   "codemirror_mode": {
    "name": "ipython",
    "version": 3
   },
   "file_extension": ".py",
   "mimetype": "text/x-python",
   "name": "python",
   "nbconvert_exporter": "python",
   "pygments_lexer": "ipython3",
   "version": "3.10.4"
  },
  "orig_nbformat": 4
 },
 "nbformat": 4,
 "nbformat_minor": 2
}
