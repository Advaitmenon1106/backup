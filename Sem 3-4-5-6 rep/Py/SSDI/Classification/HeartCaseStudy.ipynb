{
 "cells": [
  {
   "cell_type": "code",
   "execution_count": 1,
   "metadata": {},
   "outputs": [],
   "source": [
    "import numpy as np\n",
    "import pandas as pd"
   ]
  },
  {
   "cell_type": "code",
   "execution_count": 19,
   "metadata": {},
   "outputs": [
    {
     "data": {
      "text/plain": [
       "array([[63, 1, 'typical', ..., 0.0, 'fixed', 'No'],\n",
       "       [67, 1, 'asymptomatic', ..., 3.0, 'normal', 'Yes'],\n",
       "       [67, 1, 'asymptomatic', ..., 2.0, 'reversable', 'Yes'],\n",
       "       ...,\n",
       "       [57, 1, 'asymptomatic', ..., 1.0, 'reversable', 'Yes'],\n",
       "       [57, 0, 'nontypical', ..., 1.0, 'normal', 'Yes'],\n",
       "       [38, 1, 'nonanginal', ..., nan, 'normal', 'No']], dtype=object)"
      ]
     },
     "execution_count": 19,
     "metadata": {},
     "output_type": "execute_result"
    }
   ],
   "source": [
    "heart = pd.read_csv(\"C:/Users/Kavita manoj/Downloads/Heart.csv\", index_col='Unnamed: 0', na_values='NA')"
   ]
  },
  {
   "cell_type": "code",
   "execution_count": 3,
   "metadata": {},
   "outputs": [],
   "source": [
    "heart.Ca = heart.Ca.fillna(heart.Ca.mode(dropna=True)[0])\n",
    "heart.Thal = heart.Ca.fillna(heart.Thal.mode(dropna=True)[0])"
   ]
  },
  {
   "cell_type": "code",
   "execution_count": 4,
   "metadata": {},
   "outputs": [],
   "source": [
    "heart.Sex = heart.Sex.astype(str)\n",
    "heart.Fbs = heart.Fbs.astype(str)\n",
    "heart.RestECG = heart.RestECG.astype(str)\n",
    "heart.ExAng = heart.ExAng.astype(str)\n",
    "heart.Ca = heart.Ca.astype(str)"
   ]
  },
  {
   "cell_type": "code",
   "execution_count": 5,
   "metadata": {},
   "outputs": [],
   "source": [
    "from sklearn.preprocessing import scale"
   ]
  },
  {
   "cell_type": "code",
   "execution_count": 6,
   "metadata": {},
   "outputs": [
    {
     "name": "stdout",
     "output_type": "stream",
     "text": [
      "<class 'pandas.core.frame.DataFrame'>\n",
      "Int64Index: 303 entries, 1 to 303\n",
      "Data columns (total 14 columns):\n",
      " #   Column     Non-Null Count  Dtype  \n",
      "---  ------     --------------  -----  \n",
      " 0   Age        303 non-null    int64  \n",
      " 1   Sex        303 non-null    object \n",
      " 2   ChestPain  303 non-null    object \n",
      " 3   RestBP     303 non-null    int64  \n",
      " 4   Chol       303 non-null    int64  \n",
      " 5   Fbs        303 non-null    object \n",
      " 6   RestECG    303 non-null    object \n",
      " 7   MaxHR      303 non-null    int64  \n",
      " 8   ExAng      303 non-null    object \n",
      " 9   Oldpeak    303 non-null    float64\n",
      " 10  Slope      303 non-null    int64  \n",
      " 11  Ca         303 non-null    object \n",
      " 12  Thal       303 non-null    float64\n",
      " 13  AHD        303 non-null    object \n",
      "dtypes: float64(2), int64(5), object(7)\n",
      "memory usage: 35.5+ KB\n"
     ]
    }
   ],
   "source": [
    "heart.info()"
   ]
  },
  {
   "cell_type": "code",
   "execution_count": 7,
   "metadata": {},
   "outputs": [],
   "source": [
    "heart['Age_s'] = scale(heart.Age, with_mean=True, with_std=True)"
   ]
  },
  {
   "cell_type": "code",
   "execution_count": 8,
   "metadata": {},
   "outputs": [],
   "source": [
    "heart['RestBP_s'] = scale(heart.RestBP, with_mean=True, with_std=True)"
   ]
  },
  {
   "cell_type": "code",
   "execution_count": 9,
   "metadata": {},
   "outputs": [],
   "source": [
    "heart['Chol_s'] = scale(heart.Chol, with_mean=True, with_std=True)"
   ]
  },
  {
   "cell_type": "code",
   "execution_count": 10,
   "metadata": {},
   "outputs": [],
   "source": [
    "heart['MaxHR_s'] = scale(heart.MaxHR, with_mean=True, with_std=True)"
   ]
  },
  {
   "cell_type": "code",
   "execution_count": 11,
   "metadata": {},
   "outputs": [
    {
     "data": {
      "text/html": [
       "<div>\n",
       "<style scoped>\n",
       "    .dataframe tbody tr th:only-of-type {\n",
       "        vertical-align: middle;\n",
       "    }\n",
       "\n",
       "    .dataframe tbody tr th {\n",
       "        vertical-align: top;\n",
       "    }\n",
       "\n",
       "    .dataframe thead th {\n",
       "        text-align: right;\n",
       "    }\n",
       "</style>\n",
       "<table border=\"1\" class=\"dataframe\">\n",
       "  <thead>\n",
       "    <tr style=\"text-align: right;\">\n",
       "      <th></th>\n",
       "      <th>Age</th>\n",
       "      <th>Sex</th>\n",
       "      <th>ChestPain</th>\n",
       "      <th>RestBP</th>\n",
       "      <th>Chol</th>\n",
       "      <th>Fbs</th>\n",
       "      <th>RestECG</th>\n",
       "      <th>MaxHR</th>\n",
       "      <th>ExAng</th>\n",
       "      <th>Oldpeak</th>\n",
       "      <th>Slope</th>\n",
       "      <th>Ca</th>\n",
       "      <th>Thal</th>\n",
       "      <th>AHD</th>\n",
       "      <th>Age_s</th>\n",
       "      <th>RestBP_s</th>\n",
       "      <th>Chol_s</th>\n",
       "      <th>MaxHR_s</th>\n",
       "      <th>OldPeak_s</th>\n",
       "    </tr>\n",
       "  </thead>\n",
       "  <tbody>\n",
       "    <tr>\n",
       "      <th>1</th>\n",
       "      <td>63</td>\n",
       "      <td>1</td>\n",
       "      <td>typical</td>\n",
       "      <td>145</td>\n",
       "      <td>233</td>\n",
       "      <td>1</td>\n",
       "      <td>2</td>\n",
       "      <td>150</td>\n",
       "      <td>0</td>\n",
       "      <td>2.3</td>\n",
       "      <td>3</td>\n",
       "      <td>0.0</td>\n",
       "      <td>0.0</td>\n",
       "      <td>No</td>\n",
       "      <td>0.948726</td>\n",
       "      <td>0.757525</td>\n",
       "      <td>-0.264900</td>\n",
       "      <td>0.017197</td>\n",
       "      <td>1.087338</td>\n",
       "    </tr>\n",
       "    <tr>\n",
       "      <th>2</th>\n",
       "      <td>67</td>\n",
       "      <td>1</td>\n",
       "      <td>asymptomatic</td>\n",
       "      <td>160</td>\n",
       "      <td>286</td>\n",
       "      <td>0</td>\n",
       "      <td>2</td>\n",
       "      <td>108</td>\n",
       "      <td>1</td>\n",
       "      <td>1.5</td>\n",
       "      <td>2</td>\n",
       "      <td>3.0</td>\n",
       "      <td>3.0</td>\n",
       "      <td>Yes</td>\n",
       "      <td>1.392002</td>\n",
       "      <td>1.611220</td>\n",
       "      <td>0.760415</td>\n",
       "      <td>-1.821905</td>\n",
       "      <td>0.397182</td>\n",
       "    </tr>\n",
       "    <tr>\n",
       "      <th>3</th>\n",
       "      <td>67</td>\n",
       "      <td>1</td>\n",
       "      <td>asymptomatic</td>\n",
       "      <td>120</td>\n",
       "      <td>229</td>\n",
       "      <td>0</td>\n",
       "      <td>2</td>\n",
       "      <td>129</td>\n",
       "      <td>1</td>\n",
       "      <td>2.6</td>\n",
       "      <td>2</td>\n",
       "      <td>2.0</td>\n",
       "      <td>2.0</td>\n",
       "      <td>Yes</td>\n",
       "      <td>1.392002</td>\n",
       "      <td>-0.665300</td>\n",
       "      <td>-0.342283</td>\n",
       "      <td>-0.902354</td>\n",
       "      <td>1.346147</td>\n",
       "    </tr>\n",
       "    <tr>\n",
       "      <th>4</th>\n",
       "      <td>37</td>\n",
       "      <td>1</td>\n",
       "      <td>nonanginal</td>\n",
       "      <td>130</td>\n",
       "      <td>250</td>\n",
       "      <td>0</td>\n",
       "      <td>0</td>\n",
       "      <td>187</td>\n",
       "      <td>0</td>\n",
       "      <td>3.5</td>\n",
       "      <td>3</td>\n",
       "      <td>0.0</td>\n",
       "      <td>0.0</td>\n",
       "      <td>No</td>\n",
       "      <td>-1.932564</td>\n",
       "      <td>-0.096170</td>\n",
       "      <td>0.063974</td>\n",
       "      <td>1.637359</td>\n",
       "      <td>2.122573</td>\n",
       "    </tr>\n",
       "    <tr>\n",
       "      <th>5</th>\n",
       "      <td>41</td>\n",
       "      <td>0</td>\n",
       "      <td>nontypical</td>\n",
       "      <td>130</td>\n",
       "      <td>204</td>\n",
       "      <td>0</td>\n",
       "      <td>2</td>\n",
       "      <td>172</td>\n",
       "      <td>0</td>\n",
       "      <td>1.4</td>\n",
       "      <td>1</td>\n",
       "      <td>0.0</td>\n",
       "      <td>0.0</td>\n",
       "      <td>No</td>\n",
       "      <td>-1.489288</td>\n",
       "      <td>-0.096170</td>\n",
       "      <td>-0.825922</td>\n",
       "      <td>0.980537</td>\n",
       "      <td>0.310912</td>\n",
       "    </tr>\n",
       "  </tbody>\n",
       "</table>\n",
       "</div>"
      ],
      "text/plain": [
       "   Age Sex     ChestPain  RestBP  Chol Fbs RestECG  MaxHR ExAng  Oldpeak  \\\n",
       "1   63   1       typical     145   233   1       2    150     0      2.3   \n",
       "2   67   1  asymptomatic     160   286   0       2    108     1      1.5   \n",
       "3   67   1  asymptomatic     120   229   0       2    129     1      2.6   \n",
       "4   37   1    nonanginal     130   250   0       0    187     0      3.5   \n",
       "5   41   0    nontypical     130   204   0       2    172     0      1.4   \n",
       "\n",
       "   Slope   Ca  Thal  AHD     Age_s  RestBP_s    Chol_s   MaxHR_s  OldPeak_s  \n",
       "1      3  0.0   0.0   No  0.948726  0.757525 -0.264900  0.017197   1.087338  \n",
       "2      2  3.0   3.0  Yes  1.392002  1.611220  0.760415 -1.821905   0.397182  \n",
       "3      2  2.0   2.0  Yes  1.392002 -0.665300 -0.342283 -0.902354   1.346147  \n",
       "4      3  0.0   0.0   No -1.932564 -0.096170  0.063974  1.637359   2.122573  \n",
       "5      1  0.0   0.0   No -1.489288 -0.096170 -0.825922  0.980537   0.310912  "
      ]
     },
     "execution_count": 11,
     "metadata": {},
     "output_type": "execute_result"
    }
   ],
   "source": [
    "heart['OldPeak_s'] = scale(heart.Oldpeak, with_mean=True, with_std=True)\n",
    "heart.head()"
   ]
  },
  {
   "cell_type": "code",
   "execution_count": 12,
   "metadata": {},
   "outputs": [],
   "source": [
    "from statsmodels.tools.tools import add_constant\n",
    "from statsmodels.stats.outliers_influence import variance_inflation_factor"
   ]
  },
  {
   "cell_type": "code",
   "execution_count": 13,
   "metadata": {},
   "outputs": [],
   "source": [
    "heartQuant = add_constant(pd.DataFrame({'Age_s': heart.Age_s, 'Chol_s': heart.Chol_s, 'MaxHR_s': heart.MaxHR_s, 'OldPeak_s': heart.OldPeak_s, 'RestBP_s': heart.RestBP_s}))"
   ]
  },
  {
   "cell_type": "code",
   "execution_count": 14,
   "metadata": {},
   "outputs": [],
   "source": [
    "vif = pd.DataFrame()\n",
    "vif[\"Feature\"] = heartQuant.columns\n",
    "vif[\"VIF\"] = [variance_inflation_factor(heartQuant.values, i) for i in range(len(heartQuant.columns))]"
   ]
  },
  {
   "cell_type": "code",
   "execution_count": 15,
   "metadata": {},
   "outputs": [
    {
     "name": "stdout",
     "output_type": "stream",
     "text": [
      "<class 'pandas.core.frame.DataFrame'>\n",
      "Int64Index: 303 entries, 1 to 303\n",
      "Data columns (total 19 columns):\n",
      " #   Column     Non-Null Count  Dtype  \n",
      "---  ------     --------------  -----  \n",
      " 0   Age        303 non-null    int64  \n",
      " 1   Sex        303 non-null    object \n",
      " 2   ChestPain  303 non-null    object \n",
      " 3   RestBP     303 non-null    int64  \n",
      " 4   Chol       303 non-null    int64  \n",
      " 5   Fbs        303 non-null    object \n",
      " 6   RestECG    303 non-null    object \n",
      " 7   MaxHR      303 non-null    int64  \n",
      " 8   ExAng      303 non-null    object \n",
      " 9   Oldpeak    303 non-null    float64\n",
      " 10  Slope      303 non-null    int64  \n",
      " 11  Ca         303 non-null    object \n",
      " 12  Thal       303 non-null    float64\n",
      " 13  AHD        303 non-null    int64  \n",
      " 14  Age_s      303 non-null    float64\n",
      " 15  RestBP_s   303 non-null    float64\n",
      " 16  Chol_s     303 non-null    float64\n",
      " 17  MaxHR_s    303 non-null    float64\n",
      " 18  OldPeak_s  303 non-null    float64\n",
      "dtypes: float64(7), int64(6), object(6)\n",
      "memory usage: 47.3+ KB\n"
     ]
    }
   ],
   "source": [
    "from statsmodels.formula.api import logit\n",
    "heart.AHD = heart.AHD.map({'No': 0, 'Yes': 1})\n",
    "heart.info()"
   ]
  },
  {
   "cell_type": "code",
   "execution_count": 16,
   "metadata": {},
   "outputs": [
    {
     "name": "stdout",
     "output_type": "stream",
     "text": [
      "Optimization terminated successfully.\n",
      "         Current function value: 0.356052\n",
      "         Iterations 7\n"
     ]
    }
   ],
   "source": [
    "fit = logit('AHD~MaxHR_s+OldPeak_s+RestBP_s+Ca+Sex+ChestPain+Fbs+RestECG', data=heart).fit()"
   ]
  },
  {
   "cell_type": "code",
   "execution_count": 17,
   "metadata": {},
   "outputs": [
    {
     "data": {
      "text/html": [
       "<table class=\"simpletable\">\n",
       "<caption>Logit Regression Results</caption>\n",
       "<tr>\n",
       "  <th>Dep. Variable:</th>          <td>AHD</td>       <th>  No. Observations:  </th>  <td>   303</td>  \n",
       "</tr>\n",
       "<tr>\n",
       "  <th>Model:</th>                 <td>Logit</td>      <th>  Df Residuals:      </th>  <td>   289</td>  \n",
       "</tr>\n",
       "<tr>\n",
       "  <th>Method:</th>                 <td>MLE</td>       <th>  Df Model:          </th>  <td>    13</td>  \n",
       "</tr>\n",
       "<tr>\n",
       "  <th>Date:</th>            <td>Mon, 10 Apr 2023</td> <th>  Pseudo R-squ.:     </th>  <td>0.4838</td>  \n",
       "</tr>\n",
       "<tr>\n",
       "  <th>Time:</th>                <td>20:26:34</td>     <th>  Log-Likelihood:    </th> <td> -107.88</td> \n",
       "</tr>\n",
       "<tr>\n",
       "  <th>converged:</th>             <td>True</td>       <th>  LL-Null:           </th> <td> -208.99</td> \n",
       "</tr>\n",
       "<tr>\n",
       "  <th>Covariance Type:</th>     <td>nonrobust</td>    <th>  LLR p-value:       </th> <td>4.795e-36</td>\n",
       "</tr>\n",
       "</table>\n",
       "<table class=\"simpletable\">\n",
       "<tr>\n",
       "             <td></td>                <th>coef</th>     <th>std err</th>      <th>z</th>      <th>P>|z|</th>  <th>[0.025</th>    <th>0.975]</th>  \n",
       "</tr>\n",
       "<tr>\n",
       "  <th>Intercept</th>               <td>   -1.2435</td> <td>    0.434</td> <td>   -2.868</td> <td> 0.004</td> <td>   -2.093</td> <td>   -0.394</td>\n",
       "</tr>\n",
       "<tr>\n",
       "  <th>Ca[T.1.0]</th>               <td>    1.9000</td> <td>    0.444</td> <td>    4.280</td> <td> 0.000</td> <td>    1.030</td> <td>    2.770</td>\n",
       "</tr>\n",
       "<tr>\n",
       "  <th>Ca[T.2.0]</th>               <td>    2.3963</td> <td>    0.626</td> <td>    3.825</td> <td> 0.000</td> <td>    1.168</td> <td>    3.624</td>\n",
       "</tr>\n",
       "<tr>\n",
       "  <th>Ca[T.3.0]</th>               <td>    1.8002</td> <td>    0.790</td> <td>    2.280</td> <td> 0.023</td> <td>    0.252</td> <td>    3.348</td>\n",
       "</tr>\n",
       "<tr>\n",
       "  <th>Sex[T.1]</th>                <td>    1.7424</td> <td>    0.419</td> <td>    4.157</td> <td> 0.000</td> <td>    0.921</td> <td>    2.564</td>\n",
       "</tr>\n",
       "<tr>\n",
       "  <th>ChestPain[T.nonanginal]</th> <td>   -2.2687</td> <td>    0.451</td> <td>   -5.028</td> <td> 0.000</td> <td>   -3.153</td> <td>   -1.384</td>\n",
       "</tr>\n",
       "<tr>\n",
       "  <th>ChestPain[T.nontypical]</th> <td>   -1.6123</td> <td>    0.525</td> <td>   -3.073</td> <td> 0.002</td> <td>   -2.641</td> <td>   -0.584</td>\n",
       "</tr>\n",
       "<tr>\n",
       "  <th>ChestPain[T.typical]</th>    <td>   -2.6452</td> <td>    0.660</td> <td>   -4.008</td> <td> 0.000</td> <td>   -3.939</td> <td>   -1.352</td>\n",
       "</tr>\n",
       "<tr>\n",
       "  <th>Fbs[T.1]</th>                <td>   -0.2117</td> <td>    0.482</td> <td>   -0.439</td> <td> 0.661</td> <td>   -1.157</td> <td>    0.734</td>\n",
       "</tr>\n",
       "<tr>\n",
       "  <th>RestECG[T.1]</th>            <td>    0.5536</td> <td>    2.039</td> <td>    0.271</td> <td> 0.786</td> <td>   -3.444</td> <td>    4.551</td>\n",
       "</tr>\n",
       "<tr>\n",
       "  <th>RestECG[T.2]</th>            <td>    0.4877</td> <td>    0.353</td> <td>    1.382</td> <td> 0.167</td> <td>   -0.204</td> <td>    1.179</td>\n",
       "</tr>\n",
       "<tr>\n",
       "  <th>MaxHR_s</th>                 <td>   -0.6111</td> <td>    0.218</td> <td>   -2.807</td> <td> 0.005</td> <td>   -1.038</td> <td>   -0.184</td>\n",
       "</tr>\n",
       "<tr>\n",
       "  <th>OldPeak_s</th>               <td>    0.7821</td> <td>    0.231</td> <td>    3.389</td> <td> 0.001</td> <td>    0.330</td> <td>    1.234</td>\n",
       "</tr>\n",
       "<tr>\n",
       "  <th>RestBP_s</th>                <td>    0.4833</td> <td>    0.184</td> <td>    2.632</td> <td> 0.008</td> <td>    0.123</td> <td>    0.843</td>\n",
       "</tr>\n",
       "</table>"
      ],
      "text/plain": [
       "<class 'statsmodels.iolib.summary.Summary'>\n",
       "\"\"\"\n",
       "                           Logit Regression Results                           \n",
       "==============================================================================\n",
       "Dep. Variable:                    AHD   No. Observations:                  303\n",
       "Model:                          Logit   Df Residuals:                      289\n",
       "Method:                           MLE   Df Model:                           13\n",
       "Date:                Mon, 10 Apr 2023   Pseudo R-squ.:                  0.4838\n",
       "Time:                        20:26:34   Log-Likelihood:                -107.88\n",
       "converged:                       True   LL-Null:                       -208.99\n",
       "Covariance Type:            nonrobust   LLR p-value:                 4.795e-36\n",
       "===========================================================================================\n",
       "                              coef    std err          z      P>|z|      [0.025      0.975]\n",
       "-------------------------------------------------------------------------------------------\n",
       "Intercept                  -1.2435      0.434     -2.868      0.004      -2.093      -0.394\n",
       "Ca[T.1.0]                   1.9000      0.444      4.280      0.000       1.030       2.770\n",
       "Ca[T.2.0]                   2.3963      0.626      3.825      0.000       1.168       3.624\n",
       "Ca[T.3.0]                   1.8002      0.790      2.280      0.023       0.252       3.348\n",
       "Sex[T.1]                    1.7424      0.419      4.157      0.000       0.921       2.564\n",
       "ChestPain[T.nonanginal]    -2.2687      0.451     -5.028      0.000      -3.153      -1.384\n",
       "ChestPain[T.nontypical]    -1.6123      0.525     -3.073      0.002      -2.641      -0.584\n",
       "ChestPain[T.typical]       -2.6452      0.660     -4.008      0.000      -3.939      -1.352\n",
       "Fbs[T.1]                   -0.2117      0.482     -0.439      0.661      -1.157       0.734\n",
       "RestECG[T.1]                0.5536      2.039      0.271      0.786      -3.444       4.551\n",
       "RestECG[T.2]                0.4877      0.353      1.382      0.167      -0.204       1.179\n",
       "MaxHR_s                    -0.6111      0.218     -2.807      0.005      -1.038      -0.184\n",
       "OldPeak_s                   0.7821      0.231      3.389      0.001       0.330       1.234\n",
       "RestBP_s                    0.4833      0.184      2.632      0.008       0.123       0.843\n",
       "===========================================================================================\n",
       "\"\"\""
      ]
     },
     "execution_count": 17,
     "metadata": {},
     "output_type": "execute_result"
    }
   ],
   "source": [
    "fit.summary()"
   ]
  },
  {
   "cell_type": "code",
   "execution_count": 18,
   "metadata": {},
   "outputs": [
    {
     "data": {
      "text/plain": [
       "array([0.33977533, 0.99323693, 0.99067445, 0.23925256, 0.05893743,\n",
       "       0.08656516, 0.9650589 , 0.0979699 , 0.95902973, 0.90459325,\n",
       "       0.58393148, 0.11359581, 0.56627338, 0.05939605, 0.17242955,\n",
       "       0.1764215 , 0.09719183, 0.63589635, 0.02101493, 0.11620245,\n",
       "       0.16909996, 0.03025416, 0.32911236, 0.87592745, 0.99121123,\n",
       "       0.02459878, 0.00585644, 0.20111199, 0.6771505 , 0.87983685,\n",
       "       0.31259109, 0.90416936, 0.07818737, 0.48026228, 0.04589825,\n",
       "       0.32437447, 0.92002879, 0.98369714, 0.95197487, 0.23735004,\n",
       "       0.92230964, 0.08059384, 0.39079277, 0.21456579, 0.11684936,\n",
       "       0.65697156, 0.1244484 , 0.95776201, 0.18738171, 0.18300957,\n",
       "       0.05297746, 0.50072828, 0.82532076, 0.08310259, 0.93966634,\n",
       "       0.98948816, 0.42648451, 0.36912417, 0.50145505, 0.72293847,\n",
       "       0.27325774, 0.05864655, 0.98140649, 0.00753975, 0.96443331,\n",
       "       0.99417827, 0.53119175, 0.30741591, 0.97996506, 0.62975538,\n",
       "       0.04789496, 0.82842817, 0.98835214, 0.90594597, 0.70173695,\n",
       "       0.07982697, 0.98402645, 0.40572497, 0.11386062, 0.91385908,\n",
       "       0.83072238, 0.25788811, 0.06775212, 0.55046767, 0.06910042,\n",
       "       0.07121168, 0.12121171, 0.05208983, 0.17339769, 0.03171481,\n",
       "       0.54891249, 0.99562823, 0.64416772, 0.00582448, 0.01428653,\n",
       "       0.78433379, 0.93097938, 0.95253482, 0.61394672, 0.27784342,\n",
       "       0.24583352, 0.03263264, 0.52247601, 0.10817406, 0.65491444,\n",
       "       0.06676732, 0.83123443, 0.51858682, 0.98307698, 0.61955996,\n",
       "       0.42071299, 0.93986455, 0.02151158, 0.67433979, 0.4643922 ,\n",
       "       0.22225349, 0.0848207 , 0.15530905, 0.9710494 , 0.99159427,\n",
       "       0.91779069, 0.96856625, 0.08656091, 0.99213619, 0.44860273,\n",
       "       0.03259087, 0.99682561, 0.97396211, 0.06404293, 0.07482704,\n",
       "       0.12288728, 0.15117324, 0.05865964, 0.38696275, 0.00851758,\n",
       "       0.08797181, 0.92932158, 0.92006205, 0.74652698, 0.23172791,\n",
       "       0.12224264, 0.19424225, 0.04528835, 0.28033503, 0.08089021,\n",
       "       0.0396643 , 0.98447649, 0.02189585, 0.12193226, 0.03203635,\n",
       "       0.07936975, 0.24412134, 0.03281589, 0.9740908 , 0.99169485,\n",
       "       0.9913785 , 0.61765627, 0.87269229, 0.95984305, 0.4230385 ,\n",
       "       0.04557613, 0.82774468, 0.01879482, 0.28590908, 0.23546259,\n",
       "       0.33488252, 0.0564338 , 0.16465119, 0.48940668, 0.02213684,\n",
       "       0.95970826, 0.83228038, 0.35334466, 0.35051377, 0.99237098,\n",
       "       0.99111379, 0.70506632, 0.99187208, 0.58240175, 0.25587188,\n",
       "       0.49309457, 0.90670616, 0.56583359, 0.8665603 , 0.26145906,\n",
       "       0.15201572, 0.02526749, 0.82582485, 0.73439814, 0.81626004,\n",
       "       0.05197665, 0.99549832, 0.58084571, 0.90601743, 0.1082014 ,\n",
       "       0.95587254, 0.66202002, 0.22922092, 0.03023299, 0.28437828,\n",
       "       0.09070049, 0.32438439, 0.31639399, 0.03211848, 0.24899609,\n",
       "       0.9197313 , 0.99411119, 0.86561627, 0.11861883, 0.35109498,\n",
       "       0.00617642, 0.18662241, 0.23636467, 0.85522285, 0.70636301,\n",
       "       0.15043797, 0.00746169, 0.20625321, 0.92365417, 0.39937525,\n",
       "       0.00764022, 0.00782263, 0.00238354, 0.9915526 , 0.62135809,\n",
       "       0.00999321, 0.37758283, 0.08673284, 0.93714391, 0.89864352,\n",
       "       0.01697667, 0.95706006, 0.64831235, 0.3565148 , 0.1308662 ,\n",
       "       0.99582037, 0.91322784, 0.65779491, 0.02134736, 0.0781365 ,\n",
       "       0.07570741, 0.01675689, 0.08708387, 0.81602549, 0.03514938,\n",
       "       0.90500812, 0.67309948, 0.9572672 , 0.89955204, 0.20049204,\n",
       "       0.69945247, 0.99037925, 0.94904821, 0.02103321, 0.33359419,\n",
       "       0.00570268, 0.53761158, 0.14308327, 0.38187059, 0.16888442,\n",
       "       0.07788225, 0.30355614, 0.01709581, 0.03517249, 0.99570591,\n",
       "       0.85680385, 0.49697093, 0.72363307, 0.38131726, 0.07390433,\n",
       "       0.98212508, 0.94913211, 0.98821489, 0.32116065, 0.45518   ,\n",
       "       0.260042  , 0.1829757 , 0.01623747, 0.69027688, 0.25187542,\n",
       "       0.96449231, 0.03542629, 0.90731792, 0.06099412, 0.86309051,\n",
       "       0.99253875, 0.97739626, 0.17095759, 0.15034063, 0.06566577,\n",
       "       0.28995488, 0.04001628, 0.81983166, 0.99685547, 0.14279164,\n",
       "       0.04728467, 0.99641769, 0.29537933, 0.10308034, 0.99219333,\n",
       "       0.96728679, 0.1336953 , 0.05099743])"
      ]
     },
     "execution_count": 18,
     "metadata": {},
     "output_type": "execute_result"
    }
   ],
   "source": [
    "fit.predict()"
   ]
  },
  {
   "cell_type": "code",
   "execution_count": null,
   "metadata": {},
   "outputs": [],
   "source": []
  }
 ],
 "metadata": {
  "kernelspec": {
   "display_name": "Python 3",
   "language": "python",
   "name": "python3"
  },
  "language_info": {
   "codemirror_mode": {
    "name": "ipython",
    "version": 3
   },
   "file_extension": ".py",
   "mimetype": "text/x-python",
   "name": "python",
   "nbconvert_exporter": "python",
   "pygments_lexer": "ipython3",
   "version": "3.10.4"
  },
  "orig_nbformat": 4
 },
 "nbformat": 4,
 "nbformat_minor": 2
}
