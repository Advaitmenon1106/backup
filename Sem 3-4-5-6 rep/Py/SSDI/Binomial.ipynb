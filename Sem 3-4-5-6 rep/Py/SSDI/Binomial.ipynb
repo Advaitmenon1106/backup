{
 "cells": [
  {
   "cell_type": "code",
   "execution_count": 121,
   "metadata": {},
   "outputs": [],
   "source": [
    "import numpy as np\n",
    "import pandas as pd\n",
    "import matplotlib.pyplot as plt\n",
    "from scipy.stats import binom"
   ]
  },
  {
   "cell_type": "code",
   "execution_count": 122,
   "metadata": {},
   "outputs": [],
   "source": [
    "# I have a sequence of event (yes or no type)\n",
    "# I need to find p of that event (e)\n",
    "# Example : I have Hardik Pandya's stats, find the probability of a six (using likelihood)"
   ]
  },
  {
   "cell_type": "code",
   "execution_count": 123,
   "metadata": {},
   "outputs": [
    {
     "data": {
      "text/plain": [
       "0.0546875"
      ]
     },
     "execution_count": 123,
     "metadata": {},
     "output_type": "execute_result"
    }
   ],
   "source": [
    "binom.cdf(2, 10, 0.5)\n",
    "# probability"
   ]
  },
  {
   "cell_type": "code",
   "execution_count": 124,
   "metadata": {},
   "outputs": [
    {
     "data": {
      "text/plain": [
       "0.04394531250000004"
      ]
     },
     "execution_count": 124,
     "metadata": {},
     "output_type": "execute_result"
    }
   ],
   "source": [
    "binom.pmf (2, 10, 0.5)\n",
    "# likelihood"
   ]
  },
  {
   "cell_type": "code",
   "execution_count": 125,
   "metadata": {},
   "outputs": [
    {
     "name": "stdout",
     "output_type": "stream",
     "text": [
      "[ 9 11  2  8  7  6  7  9  9 10  9 11  8 12  5 11  9 10  7  8 12 14  8 11\n",
      " 12 13  6  5  7 12  7  9 14 10 11  8 11 12  5 11 15 11  8 12  7  9 13  8\n",
      "  8  7  5 11  8  8 10  6 10  7 10 11  7  9 11  9  6 10 11 10 13 10 13  7\n",
      "  7 12  9  7 13  9 11 11 12 10 11  9  8 13  9 14 11 10  7 14  9 10  9  8\n",
      " 13 10  3 10  8 10 13  9 13 10  5 13 11 16  7  7 13 11  6 11 11 13 11  7\n",
      "  5  5  5  8 12 10 10 12  7  8 10 14 10  5 12  8 12  9 12 11 10  7  6  7\n",
      "  6  7  8 11 10  4  6 14 10  8  8 11  8 10 14 12  8 10 10 12  7  5  6  9\n",
      " 10 10  8 15 10  9 10 11 11  8  6  9 10  8 11  6  8 12  8 10 10 13  8  6\n",
      " 11 11 13 13  5  8 10 14 14 10 13 10  9  9 10 10 13 13  9 14  7  7  7 10\n",
      "  5 14 12  5  7  9  7 12  9 13 10 12 12 13  9 10 12  8 10 10  5 10  9 12\n",
      "  8 13 10  7 12 10  6  9 11 13  2 14  9 14 10 12 10 10  8 10 11 12 11 11\n",
      " 12  8 11  9  9  9  9  8 10  9 14 11  8  9  9 12 12 13 11  8  8 12 10 12\n",
      " 10 11 10 11 10  9  9  6  9  6 15  7 12 12 11 10  7  9  9  8 10  8 13 13\n",
      "  8  7  8 10 11  8  8 12  9 10  8  7 10  9  7 10 10 11  7 11  8 10 11  5\n",
      "  8 12 12 10 12 14 12 12  7 11 11 10 12  5 11 11  8  8 10  9 12  9 11 15\n",
      "  8  7 13 10 14]\n"
     ]
    }
   ],
   "source": [
    "np.random.seed(1)\n",
    "x = np.random.binomial(24, 0.4, 365)\n",
    "print (x)\n",
    "# This sequence is given. Find that p"
   ]
  },
  {
   "cell_type": "code",
   "execution_count": 126,
   "metadata": {},
   "outputs": [],
   "source": [
    "from scipy.optimize import minimize"
   ]
  },
  {
   "attachments": {},
   "cell_type": "markdown",
   "metadata": {},
   "source": [
    "1. Find likelihood using a random prob value\n",
    "2. Find log llh\n",
    "3. Return minus of log likelihood\n",
    "4. Minimise that value (hint : scipy. optimise)"
   ]
  },
  {
   "cell_type": "code",
   "execution_count": 127,
   "metadata": {},
   "outputs": [],
   "source": [
    "p = 0.3\n",
    "def LogLikelihood(p, x):\n",
    "    Lh = binom.pmf(x, 24, p)\n",
    "    LogLh = np.log(Lh).sum()\n",
    "    return -LogLh"
   ]
  },
  {
   "cell_type": "code",
   "execution_count": 128,
   "metadata": {},
   "outputs": [
    {
     "data": {
      "text/plain": [
       "     fun: 847.1074086807687\n",
       "     jac: array([-0.07698059])\n",
       " message: 'Optimization terminated successfully'\n",
       "    nfev: 13\n",
       "     nit: 4\n",
       "    njev: 4\n",
       "  status: 0\n",
       " success: True\n",
       "       x: array([0.40308007])"
      ]
     },
     "execution_count": 128,
     "metadata": {},
     "output_type": "execute_result"
    }
   ],
   "source": [
    "def cons(f):\n",
    "    return f\n",
    "    \n",
    "con = {'type': 'ineq', 'fun':cons}\n",
    "\n",
    "minimize(LogLikelihood, p, args= (x,), constraints=con)"
   ]
  }
 ],
 "metadata": {
  "kernelspec": {
   "display_name": "Python 3",
   "language": "python",
   "name": "python3"
  },
  "language_info": {
   "codemirror_mode": {
    "name": "ipython",
    "version": 3
   },
   "file_extension": ".py",
   "mimetype": "text/x-python",
   "name": "python",
   "nbconvert_exporter": "python",
   "pygments_lexer": "ipython3",
   "version": "3.10.4 (tags/v3.10.4:9d38120, Mar 23 2022, 23:13:41) [MSC v.1929 64 bit (AMD64)]"
  },
  "orig_nbformat": 4,
  "vscode": {
   "interpreter": {
    "hash": "79faa210a4d4b910022c04f6ce8980c16d31a28838e0d99a1f5f82f062c85742"
   }
  }
 },
 "nbformat": 4,
 "nbformat_minor": 2
}
