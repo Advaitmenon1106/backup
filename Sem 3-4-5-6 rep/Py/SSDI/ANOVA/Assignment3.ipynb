{
 "cells": [
  {
   "attachments": {},
   "cell_type": "markdown",
   "metadata": {},
   "source": [
    "Ukraine event\n",
    "Indian crude oil stats (import, trade, price etc)\n",
    "1. What is the impact of Ukraine crisis on Indian crude oil market\n",
    "2. Is this impact greater in China or India"
   ]
  },
  {
   "cell_type": "code",
   "execution_count": 28,
   "metadata": {},
   "outputs": [],
   "source": [
    "import numpy as np\n",
    "import pandas as pd\n",
    "from scipy.stats import t\n",
    "from scipy import stats"
   ]
  },
  {
   "cell_type": "code",
   "execution_count": 29,
   "metadata": {},
   "outputs": [
    {
     "name": "stdout",
     "output_type": "stream",
     "text": [
      "21 21\n"
     ]
    }
   ],
   "source": [
    "df = pd.read_csv(\"Conversion Before.csv\")\n",
    "before = df[\"Close\"]\n",
    "df2 = pd.read_csv (\"Conversion After.csv\")\n",
    "after = df2[\"Close\"]\n",
    "print(len(after), len(before))"
   ]
  },
  {
   "cell_type": "code",
   "execution_count": 30,
   "metadata": {},
   "outputs": [
    {
     "data": {
      "text/plain": [
       "Ttest_relResult(statistic=-6.917042218576855, pvalue=0.9999994895233223)"
      ]
     },
     "execution_count": 30,
     "metadata": {},
     "output_type": "execute_result"
    }
   ],
   "source": [
    "stats.ttest_rel(before, after, alternative=\"greater\")"
   ]
  },
  {
   "cell_type": "markdown",
   "metadata": {},
   "source": []
  },
  {
   "cell_type": "code",
   "execution_count": 31,
   "metadata": {},
   "outputs": [],
   "source": [
    "dfChange = pd.read_csv(\"Changes.csv\")\n",
    "afterYuan = dfChange[\"Change Yuan\"]\n",
    "afterINR = dfChange[\"Change INR\"]"
   ]
  },
  {
   "cell_type": "code",
   "execution_count": 32,
   "metadata": {},
   "outputs": [
    {
     "data": {
      "text/plain": [
       "Ttest_indResult(statistic=-0.8053750357447287, pvalue=0.21527682757420707)"
      ]
     },
     "execution_count": 32,
     "metadata": {},
     "output_type": "execute_result"
    }
   ],
   "source": [
    "stats.ttest_ind(afterYuan, afterINR, equal_var=False, alternative=\"less\")"
   ]
  },
  {
   "cell_type": "code",
   "execution_count": 33,
   "metadata": {},
   "outputs": [
    {
     "data": {
      "text/plain": [
       "Ttest_indResult(statistic=0.8053750357447287, pvalue=0.7847231724257929)"
      ]
     },
     "execution_count": 33,
     "metadata": {},
     "output_type": "execute_result"
    }
   ],
   "source": [
    "stats.ttest_ind(afterINR, afterYuan, equal_var=False, alternative=\"less\")"
   ]
  },
  {
   "cell_type": "code",
   "execution_count": 34,
   "metadata": {},
   "outputs": [
    {
     "data": {
      "text/plain": [
       "Ttest_indResult(statistic=-0.8053750357447287, pvalue=0.21527682757420707)"
      ]
     },
     "execution_count": 34,
     "metadata": {},
     "output_type": "execute_result"
    }
   ],
   "source": [
    "stats.ttest_ind(afterYuan, afterINR, equal_var=False, alternative=\"less\")"
   ]
  },
  {
   "attachments": {},
   "cell_type": "markdown",
   "metadata": {},
   "source": [
    "- Indian currency is more subject to change therefore more volatile because of the war\n",
    "- Indian Currency was more affected than the Chinese Yuan post the Russian attack"
   ]
  }
 ],
 "metadata": {
  "kernelspec": {
   "display_name": "Python 3",
   "language": "python",
   "name": "python3"
  },
  "language_info": {
   "codemirror_mode": {
    "name": "ipython",
    "version": 3
   },
   "file_extension": ".py",
   "mimetype": "text/x-python",
   "name": "python",
   "nbconvert_exporter": "python",
   "pygments_lexer": "ipython3",
   "version": "3.10.4"
  },
  "orig_nbformat": 4,
  "vscode": {
   "interpreter": {
    "hash": "79faa210a4d4b910022c04f6ce8980c16d31a28838e0d99a1f5f82f062c85742"
   }
  }
 },
 "nbformat": 4,
 "nbformat_minor": 2
}
