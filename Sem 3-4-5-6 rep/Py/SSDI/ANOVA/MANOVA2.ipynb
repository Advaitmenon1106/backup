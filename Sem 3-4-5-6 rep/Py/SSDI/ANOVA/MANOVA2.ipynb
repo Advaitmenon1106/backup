{
 "cells": [
  {
   "cell_type": "code",
   "execution_count": 1,
   "metadata": {},
   "outputs": [],
   "source": [
    "import numpy as np\n",
    "import pandas as pd"
   ]
  },
  {
   "cell_type": "code",
   "execution_count": 2,
   "metadata": {},
   "outputs": [
    {
     "name": "stdout",
     "output_type": "stream",
     "text": [
      "   Washer  OD  ID\n",
      "0       A  20   6\n",
      "1       A  21   6\n",
      "2       A  20   9\n",
      "3       A  21   6\n",
      "4       A  23   7\n",
      "5       A  19   7\n",
      "6       A  20   6\n",
      "7       A  19   7\n",
      "8       A  19   5\n",
      "9       A  20   6\n",
      "10      B  17   6\n",
      "11      B  17   6\n",
      "12      B  19   7\n",
      "13      B  17   8\n",
      "14      B  16   6\n",
      "15      B  19   7\n",
      "16      B  18   7\n",
      "17      B  18   6\n",
      "18      B  18   6\n",
      "19      B  20   8\n",
      "20      C  20   8\n",
      "21      C  20   7\n",
      "22      C  21   8\n",
      "23      C  20   7\n",
      "24      C  21   8\n",
      "25      C  21   9\n",
      "26      C  22   7\n",
      "27      C  19   7\n",
      "28      C  22   6\n",
      "29      C  20   8\n"
     ]
    }
   ],
   "source": [
    "df = pd.read_csv(\"ANOVA Dataset 2.csv\")\n",
    "print (df)"
   ]
  },
  {
   "cell_type": "code",
   "execution_count": 3,
   "metadata": {},
   "outputs": [],
   "source": [
    "from statsmodels.multivariate.manova import MANOVA\n",
    "\n",
    "manova = MANOVA.from_formula(\"OD+ID~Washer\", data=df)"
   ]
  },
  {
   "cell_type": "code",
   "execution_count": 4,
   "metadata": {},
   "outputs": [
    {
     "name": "stdout",
     "output_type": "stream",
     "text": [
      "                   Multivariate linear model\n",
      "================================================================\n",
      "                                                                \n",
      "----------------------------------------------------------------\n",
      "       Intercept         Value   Num DF  Den DF  F Value  Pr > F\n",
      "----------------------------------------------------------------\n",
      "          Wilks' lambda   0.0080 2.0000 26.0000 1602.5810 0.0000\n",
      "         Pillai's trace   0.9920 2.0000 26.0000 1602.5810 0.0000\n",
      " Hotelling-Lawley trace 123.2755 2.0000 26.0000 1602.5810 0.0000\n",
      "    Roy's greatest root 123.2755 2.0000 26.0000 1602.5810 0.0000\n",
      "----------------------------------------------------------------\n",
      "                                                                \n",
      "----------------------------------------------------------------\n",
      "             Washer         Value  Num DF  Den DF F Value Pr > F\n",
      "----------------------------------------------------------------\n",
      "              Wilks' lambda 0.3763 4.0000 52.0000  8.1913 0.0000\n",
      "             Pillai's trace 0.7143 4.0000 54.0000  7.5001 0.0001\n",
      "     Hotelling-Lawley trace 1.4164 4.0000 30.1905  9.1015 0.0001\n",
      "        Roy's greatest root 1.2189 2.0000 27.0000 16.4547 0.0000\n",
      "================================================================\n",
      "\n"
     ]
    }
   ],
   "source": [
    "print (manova.mv_test())"
   ]
  },
  {
   "cell_type": "code",
   "execution_count": 5,
   "metadata": {},
   "outputs": [],
   "source": [
    "from statsmodels.stats.anova import anova_lm\n",
    "import statsmodels.api as sm\n",
    "from statsmodels.stats.multicomp import pairwise_tukeyhsd\n",
    "from statsmodels.formula.api import ols\n",
    "fit1 = ols(\"OD~Washer\", data=df).fit()\n",
    "fit2 = ols(\"ID~Washer\", data=df).fit()"
   ]
  },
  {
   "cell_type": "code",
   "execution_count": 6,
   "metadata": {},
   "outputs": [],
   "source": [
    "anova1 = anova_lm(fit1, type=1)\n",
    "anova2 = anova_lm(fit2, type=1)"
   ]
  },
  {
   "cell_type": "code",
   "execution_count": 7,
   "metadata": {},
   "outputs": [
    {
     "name": "stdout",
     "output_type": "stream",
     "text": [
      "            df     sum_sq    mean_sq          F    PR(>F)\n",
      "Washer     2.0  42.466667  21.233333  16.426934  0.000022\n",
      "Residual  27.0  34.900000   1.292593        NaN       NaN\n"
     ]
    }
   ],
   "source": [
    "print (anova1)"
   ]
  },
  {
   "cell_type": "code",
   "execution_count": 8,
   "metadata": {},
   "outputs": [
    {
     "name": "stdout",
     "output_type": "stream",
     "text": [
      "            df  sum_sq   mean_sq         F    PR(>F)\n",
      "Washer     2.0     5.6  2.800000  3.272727  0.053377\n",
      "Residual  27.0    23.1  0.855556       NaN       NaN\n"
     ]
    }
   ],
   "source": [
    "print(anova2)"
   ]
  },
  {
   "cell_type": "code",
   "execution_count": 9,
   "metadata": {},
   "outputs": [
    {
     "name": "stdout",
     "output_type": "stream",
     "text": [
      "Multiple Comparison of Means - Tukey HSD, FWER=0.05 \n",
      "====================================================\n",
      "group1 group2 meandiff p-adj   lower   upper  reject\n",
      "----------------------------------------------------\n",
      "     A      B     -2.3 0.0003 -3.5607 -1.0393   True\n",
      "     A      C      0.4 0.7142 -0.8607  1.6607  False\n",
      "     B      C      2.7    0.0  1.4393  3.9607   True\n",
      "----------------------------------------------------\n"
     ]
    }
   ],
   "source": [
    "tukey3= pairwise_tukeyhsd(df['OD'], df['Washer'])\n",
    "print (tukey3)\n",
    "\n",
    "# do t test from here i cant rn lol"
   ]
  }
 ],
 "metadata": {
  "kernelspec": {
   "display_name": "Python 3",
   "language": "python",
   "name": "python3"
  },
  "language_info": {
   "codemirror_mode": {
    "name": "ipython",
    "version": 3
   },
   "file_extension": ".py",
   "mimetype": "text/x-python",
   "name": "python",
   "nbconvert_exporter": "python",
   "pygments_lexer": "ipython3",
   "version": "3.10.4"
  },
  "orig_nbformat": 4,
  "vscode": {
   "interpreter": {
    "hash": "79faa210a4d4b910022c04f6ce8980c16d31a28838e0d99a1f5f82f062c85742"
   }
  }
 },
 "nbformat": 4,
 "nbformat_minor": 2
}
