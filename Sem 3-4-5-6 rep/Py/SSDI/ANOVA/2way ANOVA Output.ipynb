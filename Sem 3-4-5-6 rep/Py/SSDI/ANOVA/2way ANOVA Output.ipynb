"""
   Multiple Comparison of Means - Tukey HSD, FWER=0.05    
==========================================================
  group1    group2  meandiff p-adj   lower   upper  reject
----------------------------------------------------------
AUSOneDay    AUST20    2.962    0.0  1.9659  3.9581   True
AUSOneDay  AUSTest    -1.878    0.0 -2.8741 -0.8819   True
AUSOneDay ENGOneDay     0.88 0.1214 -0.1161  1.8761  False
AUSOneDay    ENGT20    3.198    0.0  2.2019  4.1941   True
AUSOneDay   ENGTest   -1.564 0.1027 -3.2892  0.1612  False
AUSOneDay  ENGTest    -1.819 0.0001 -2.8755 -0.7625   True
AUSOneDay INDOneDay   -0.032    1.0 -1.0281  0.9641  False
AUSOneDay    INDT20    1.828    0.0  0.8319  2.8241   True
AUSOneDay  INDTest    -1.924    0.0 -2.9201 -0.9279   True
   AUST20  AUSTest     -4.84    0.0 -5.8361 -3.8439   True
   AUST20 ENGOneDay   -2.082    0.0 -3.0781 -1.0859   True
   AUST20    ENGT20    0.236 0.9981 -0.7601  1.2321  False
   AUST20   ENGTest   -4.526    0.0 -6.2512 -2.8008   True
   AUST20  ENGTest    -4.781    0.0 -5.8375 -3.7245   True
   AUST20 INDOneDay   -2.994    0.0 -3.9901 -1.9979   True
   AUST20    INDT20   -1.134 0.0155 -2.1301 -0.1379   True
   AUST20  INDTest    -4.886    0.0 -5.8821 -3.8899   True
 AUSTest  ENGOneDay    2.758    0.0  1.7619  3.7541   True
 AUSTest     ENGT20    5.076    0.0  4.0799  6.0721   True
 AUSTest    ENGTest    0.314 0.9998 -1.4112  2.0392  False
 AUSTest   ENGTest     0.059    1.0 -0.9975  1.1155  False
 AUSTest  INDOneDay    1.846    0.0  0.8499  2.8421   True
 AUSTest     INDT20    3.706    0.0  2.7099  4.7021   True
 AUSTest   INDTest    -0.046    1.0 -1.0421  0.9501  False
ENGOneDay    ENGT20    2.318    0.0  1.3219  3.3141   True
ENGOneDay   ENGTest   -2.444 0.0011 -4.1692 -0.7188   True
ENGOneDay  ENGTest    -2.699    0.0 -3.7555 -1.6425   True
ENGOneDay INDOneDay   -0.912 0.0961 -1.9081  0.0841  False
ENGOneDay    INDT20    0.948 0.0731 -0.0481  1.9441  False
ENGOneDay  INDTest    -2.804    0.0 -3.8001 -1.8079   True
   ENGT20   ENGTest   -4.762    0.0 -6.4872 -3.0368   True
   ENGT20  ENGTest    -5.017    0.0 -6.0735 -3.9605   True
   ENGT20 INDOneDay    -3.23    0.0 -4.2261 -2.2339   True
   ENGT20    INDT20    -1.37 0.0017 -2.3661 -0.3739   True
   ENGT20  INDTest    -5.122    0.0 -6.1181 -4.1259   True
  ENGTest  ENGTest    -0.255    1.0 -2.0158  1.5058  False
  ENGTest INDOneDay    1.532 0.1175 -0.1932  3.2572  False
  ENGTest    INDT20    3.392    0.0  1.6668  5.1172   True
  ENGTest  INDTest     -0.36 0.9993 -2.0852  1.3652  False
 ENGTest  INDOneDay    1.787 0.0001  0.7305  2.8435   True
 ENGTest     INDT20    3.647    0.0  2.5905  4.7035   True
 ENGTest   INDTest    -0.105    1.0 -1.1615  0.9515  False
INDOneDay    INDT20     1.86    0.0  0.8639  2.8561   True
INDOneDay  INDTest    -1.892    0.0 -2.8881 -0.8959   True
   INDT20  INDTest    -3.752    0.0 -4.7481 -2.7559   True
----------------------------------------------------------
"""