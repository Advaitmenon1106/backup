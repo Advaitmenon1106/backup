{
 "cells": [
  {
   "cell_type": "code",
   "execution_count": 1,
   "metadata": {},
   "outputs": [],
   "source": [
    "import numpy as np\n",
    "import pandas as pd\n",
    "import matplotlib.pyplot as plt\n",
    "#import sklearn as skl"
   ]
  },
  {
   "cell_type": "code",
   "execution_count": 2,
   "metadata": {},
   "outputs": [
    {
     "name": "stdout",
     "output_type": "stream",
     "text": [
      "     studytime  pass\n",
      "0            2     0\n",
      "1            2     0\n",
      "2            2     1\n",
      "3            3     1\n",
      "4            2     1\n",
      "..         ...   ...\n",
      "330          4     0\n",
      "331          3     1\n",
      "332          2     0\n",
      "333          2     0\n",
      "334          4     0\n",
      "\n",
      "[335 rows x 2 columns]\n"
     ]
    }
   ],
   "source": [
    "df = pd.read_csv(\"Students.csv\")\n",
    "print (df)"
   ]
  },
  {
   "cell_type": "code",
   "execution_count": 3,
   "metadata": {},
   "outputs": [
    {
     "name": "stdout",
     "output_type": "stream",
     "text": [
      "0\n",
      "0\n"
     ]
    }
   ],
   "source": [
    "print (df[\"studytime\"].isna().sum())\n",
    "print (df[\"pass\"].isna().sum())\n",
    "X = df[\"studytime\"]\n",
    "Y = df[\"pass\"]"
   ]
  },
  {
   "cell_type": "code",
   "execution_count": 4,
   "metadata": {},
   "outputs": [],
   "source": [
    "w = 0\n",
    "b = 0\n",
    "LR = 0.001\n",
    "iterations = 1000"
   ]
  },
  {
   "cell_type": "code",
   "execution_count": 5,
   "metadata": {},
   "outputs": [],
   "source": [
    "arr = np.empty(len(X))\n",
    "def sigmoid (func):\n",
    "    for i in range (0, len(arr)):\n",
    "        l = 1/(1+np.exp(-func[i]))\n",
    "        arr[i] = l"
   ]
  },
  {
   "attachments": {},
   "cell_type": "markdown",
   "metadata": {},
   "source": [
    "Figure out a way to run only 1 for loop (for iterations) while also enabling the logistic function to  work for\n",
    "each element in the array per iteration"
   ]
  },
  {
   "cell_type": "code",
   "execution_count": 6,
   "metadata": {},
   "outputs": [],
   "source": [
    "i = 0\n",
    "while i != iterations:\n",
    "    LineFn= w*X + b\n",
    "    sigmoid(LineFn)\n",
    "    DiffWRTw = (1/float(len(X)))*((LineFn-Y)*X)\n",
    "    DiffWRTb = (1/float(len(X)))*((LineFn-Y))\n",
    "    w = w-sum((LR*DiffWRTw))\n",
    "    b = b-sum((LR*DiffWRTb))\n",
    "    i+=1\n"
   ]
  },
  {
   "cell_type": "code",
   "execution_count": 7,
   "metadata": {},
   "outputs": [
    {
     "name": "stdout",
     "output_type": "stream",
     "text": [
      "0      0.604567\n",
      "1      0.604567\n",
      "2      0.604567\n",
      "3      0.822098\n",
      "4      0.604567\n",
      "         ...   \n",
      "330    1.039629\n",
      "331    0.822098\n",
      "332    0.604567\n",
      "333    0.604567\n",
      "334    1.039629\n",
      "Name: studytime, Length: 335, dtype: float64\n"
     ]
    }
   ],
   "source": [
    "print (LineFn)"
   ]
  }
 ],
 "metadata": {
  "kernelspec": {
   "display_name": "Python 3",
   "language": "python",
   "name": "python3"
  },
  "language_info": {
   "codemirror_mode": {
    "name": "ipython",
    "version": 3
   },
   "file_extension": ".py",
   "mimetype": "text/x-python",
   "name": "python",
   "nbconvert_exporter": "python",
   "pygments_lexer": "ipython3",
   "version": "3.10.4"
  },
  "orig_nbformat": 4,
  "vscode": {
   "interpreter": {
    "hash": "79faa210a4d4b910022c04f6ce8980c16d31a28838e0d99a1f5f82f062c85742"
   }
  }
 },
 "nbformat": 4,
 "nbformat_minor": 2
}
