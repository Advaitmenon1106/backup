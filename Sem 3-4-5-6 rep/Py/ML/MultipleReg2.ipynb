{
 "cells": [
  {
   "cell_type": "code",
   "execution_count": 6,
   "metadata": {},
   "outputs": [],
   "source": [
    "import numpy as np\n",
    "import pandas as pd\n",
    "import matplotlib.pyplot as plt"
   ]
  },
  {
   "cell_type": "code",
   "execution_count": 7,
   "metadata": {},
   "outputs": [],
   "source": [
    "df = pd.read_csv(\"Fish.csv\")"
   ]
  },
  {
   "cell_type": "code",
   "execution_count": 8,
   "metadata": {},
   "outputs": [
    {
     "name": "stdout",
     "output_type": "stream",
     "text": [
      "     Weight  Length1  Length2  Length3   Height   Width\n",
      "0     242.0     23.2     25.4     30.0  11.5200  4.0200\n",
      "1     290.0     24.0     26.3     31.2  12.4800  4.3056\n",
      "2     340.0     23.9     26.5     31.1  12.3778  4.6961\n",
      "3     363.0     26.3     29.0     33.5  12.7300  4.4555\n",
      "4     430.0     26.5     29.0     34.0  12.4440  5.1340\n",
      "..      ...      ...      ...      ...      ...     ...\n",
      "154    12.2     11.5     12.2     13.4   2.0904  1.3936\n",
      "155    13.4     11.7     12.4     13.5   2.4300  1.2690\n",
      "156    12.2     12.1     13.0     13.8   2.2770  1.2558\n",
      "157    19.7     13.2     14.3     15.2   2.8728  2.0672\n",
      "158    19.9     13.8     15.0     16.2   2.9322  1.8792\n",
      "\n",
      "[159 rows x 6 columns]\n"
     ]
    }
   ],
   "source": [
    "df.drop(\"Species\", axis=\"columns\", inplace=True)\n",
    "print (df)"
   ]
  }
 ],
 "metadata": {
  "kernelspec": {
   "display_name": "Python 3.10.4 64-bit",
   "language": "python",
   "name": "python3"
  },
  "language_info": {
   "codemirror_mode": {
    "name": "ipython",
    "version": 3
   },
   "file_extension": ".py",
   "mimetype": "text/x-python",
   "name": "python",
   "nbconvert_exporter": "python",
   "pygments_lexer": "ipython3",
   "version": "3.10.4 (tags/v3.10.4:9d38120, Mar 23 2022, 23:13:41) [MSC v.1929 64 bit (AMD64)]"
  },
  "orig_nbformat": 4,
  "vscode": {
   "interpreter": {
    "hash": "79faa210a4d4b910022c04f6ce8980c16d31a28838e0d99a1f5f82f062c85742"
   }
  }
 },
 "nbformat": 4,
 "nbformat_minor": 2
}
