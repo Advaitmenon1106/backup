{
 "cells": [
  {
   "cell_type": "code",
   "execution_count": 1,
   "metadata": {},
   "outputs": [],
   "source": [
    "import numpy as np\n",
    "import pandas as pd\n",
    "import matplotlib.pyplot as plt"
   ]
  },
  {
   "cell_type": "code",
   "execution_count": 2,
   "metadata": {},
   "outputs": [],
   "source": [
    "df = pd.read_csv(\"TitanicTraining.csv\")\n",
    "x = df[\"Fare\"]\n",
    "y = df[\"Survived\"]"
   ]
  },
  {
   "cell_type": "code",
   "execution_count": null,
   "metadata": {},
   "outputs": [],
   "source": []
  },
  {
   "cell_type": "code",
   "execution_count": 3,
   "metadata": {},
   "outputs": [],
   "source": [
    "def sigmoid(s):\n",
    "    sig = (1)/(1+np.exp(-s))\n",
    "    return sig"
   ]
  },
  {
   "cell_type": "code",
   "execution_count": 4,
   "metadata": {},
   "outputs": [],
   "source": [
    "w = 0\n",
    "b = 0\n",
    "LR = 0.0001\n",
    "it = 50000\n",
    "for i in range (it):\n",
    "    f = (w*x)+b\n",
    "    DiffWRTw = (2/float(len(x)))*((f-y)*x)\n",
    "    DiffWRTb = (2/float(len(x)))*((f-y))\n",
    "    w = w-np.sum((LR*DiffWRTw))\n",
    "    b = b-np.sum((LR*DiffWRTb))"
   ]
  },
  {
   "cell_type": "code",
   "execution_count": null,
   "metadata": {},
   "outputs": [
    {
     "name": "stdout",
     "output_type": "stream",
     "text": [
      "0      0.579865\n",
      "1      0.617847\n",
      "2      0.580272\n",
      "3      0.607185\n",
      "4      0.580347\n",
      "         ...   \n",
      "851    0.583322\n",
      "852    0.593493\n",
      "853    0.589583\n",
      "854    0.593493\n",
      "855    0.580166\n",
      "Name: Fare, Length: 856, dtype: float64\n"
     ]
    }
   ],
   "source": [
    "s = np.empty(len(x))\n",
    "s = sigmoid(f)\n",
    "print (s)"
   ]
  },
  {
   "cell_type": "code",
   "execution_count": null,
   "metadata": {},
   "outputs": [
    {
     "name": "stdout",
     "output_type": "stream",
     "text": [
      "50.25680626302079\n"
     ]
    },
    {
     "data": {
      "image/png": "[encoded data removed]",
      "text/plain": [
       "<Figure size 640x480 with 1 Axes>"
      ]
     },
     "metadata": {},
     "output_type": "display_data"
    }
   ],
   "source": [
    "plt.scatter(x, s)"
   ]
  }
 ],
 "metadata": {
  "kernelspec": {
   "display_name": "Python 3",
   "language": "python",
   "name": "python3"
  },
  "language_info": {
   "codemirror_mode": {
    "name": "ipython",
    "version": 3
   },
   "file_extension": ".py",
   "mimetype": "text/x-python",
   "name": "python",
   "nbconvert_exporter": "python",
   "pygments_lexer": "ipython3",
   "version": "3.10.4"
  },
  "orig_nbformat": 4,
  "vscode": {
   "interpreter": {
    "hash": "79faa210a4d4b910022c04f6ce8980c16d31a28838e0d99a1f5f82f062c85742"
   }
  }
 },
 "nbformat": 4,
 "nbformat_minor": 2
}
