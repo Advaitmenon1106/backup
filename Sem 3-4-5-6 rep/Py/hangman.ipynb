{
 "cells": [
  {
   "cell_type": "code",
   "execution_count": 13,
   "metadata": {},
   "outputs": [],
   "source": [
    "import numpy as np\n",
    "import english_words as eng"
   ]
  },
  {
   "cell_type": "code",
   "execution_count": 14,
   "metadata": {},
   "outputs": [],
   "source": [
    "wordlist = eng.get_english_words_set(sources=['web2'], lower=True)"
   ]
  },
  {
   "cell_type": "code",
   "execution_count": 15,
   "metadata": {},
   "outputs": [
    {
     "name": "stdout",
     "output_type": "stream",
     "text": [
      "<class 'numpy.ndarray'>\n",
      "pseudolegal\n"
     ]
    }
   ],
   "source": [
    "a = np.array(list(wordlist), dtype=str)\n",
    "print (type(a))\n",
    "guess_index = np.random.randint(0, len(wordlist)-1)\n",
    "word = a[guess_index]\n",
    "print (word)"
   ]
  },
  {
   "attachments": {},
   "cell_type": "markdown",
   "metadata": {},
   "source": [
    "Steps:-\n",
    "\n",
    "- step 0: a noose\n",
    "- step 1: head\n",
    "- step 2: arm L\n",
    "- step 3: arm R\n",
    "- step 4: leg L\n",
    "- step 5: leg R"
   ]
  },
  {
   "cell_type": "code",
   "execution_count": 16,
   "metadata": {},
   "outputs": [
    {
     "ename": "IndexError",
     "evalue": "string index out of range",
     "output_type": "error",
     "traceback": [
      "\u001b[1;31m---------------------------------------------------------------------------\u001b[0m",
      "\u001b[1;31mIndexError\u001b[0m                                Traceback (most recent call last)",
      "Cell \u001b[1;32mIn [16], line 3\u001b[0m\n\u001b[0;32m      1\u001b[0m file \u001b[39m=\u001b[39m \u001b[39mopen\u001b[39m(\u001b[39m\"\u001b[39m\u001b[39mC://Users//Kavita manoj//OneDrive//Desktop//Py//Hangman.txt\u001b[39m\u001b[39m\"\u001b[39m)\n\u001b[0;32m      2\u001b[0m \u001b[39mfor\u001b[39;00m f \u001b[39min\u001b[39;00m file:\n\u001b[1;32m----> 3\u001b[0m     \u001b[39mprint\u001b[39m (f[\u001b[39m0\u001b[39;49m][\u001b[39m1\u001b[39;49m])\n",
      "\u001b[1;31mIndexError\u001b[0m: string index out of range"
     ]
    }
   ],
   "source": [
    "file = open(\"C://Users//Kavita manoj//OneDrive//Desktop//Py//Hangman.txt\")\n",
    "chances = 0\n",
    "while (chances<=7):\n",
    "    guess = input (\"Enter your guess: \")\n",
    "    if guess.split() == word:\n",
    "        print (\"You guessed it right!\")\n",
    "        break\n",
    "    else:\n",
    "        chances+=1\n",
    "        continue"
   ]
  }
 ],
 "metadata": {
  "kernelspec": {
   "display_name": "Python 3",
   "language": "python",
   "name": "python3"
  },
  "language_info": {
   "codemirror_mode": {
    "name": "ipython",
    "version": 3
   },
   "file_extension": ".py",
   "mimetype": "text/x-python",
   "name": "python",
   "nbconvert_exporter": "python",
   "pygments_lexer": "ipython3",
   "version": "3.10.4"
  },
  "orig_nbformat": 4,
  "vscode": {
   "interpreter": {
    "hash": "79faa210a4d4b910022c04f6ce8980c16d31a28838e0d99a1f5f82f062c85742"
   }
  }
 },
 "nbformat": 4,
 "nbformat_minor": 2
}
