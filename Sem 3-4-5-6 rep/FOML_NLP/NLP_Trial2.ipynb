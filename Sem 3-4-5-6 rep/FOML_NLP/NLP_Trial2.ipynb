{
 "cells": [
  {
   "cell_type": "code",
   "execution_count": 1,
   "metadata": {},
   "outputs": [],
   "source": [
    "import numpy as np\n",
    "import pandas as pd\n",
    "import tensorflow as tf\n",
    "from tensorflow import keras\n",
    "from keras.preprocessing.text import Tokenizer\n",
    "from keras.preprocessing.sequence import pad_sequences\n",
    "from sklearn.model_selection import train_test_split"
   ]
  },
  {
   "cell_type": "code",
   "execution_count": 2,
   "metadata": {},
   "outputs": [],
   "source": [
    "data = pd.read_csv('data.csv')\n",
    "# texts = data['Sentence'].values\n",
    "# data_temp = data.set_index('Sentiment')\n",
    "# data = data_temp.drop('neutral').reset_index()\n",
    "# data.head()"
   ]
  },
  {
   "cell_type": "code",
   "execution_count": 3,
   "metadata": {},
   "outputs": [
    {
     "data": {
      "text/plain": [
       "(315, 9, 107.0)"
      ]
     },
     "execution_count": 3,
     "metadata": {},
     "output_type": "execute_result"
    }
   ],
   "source": [
    "data['Sentence'].apply(len).max(), data['Sentence'].apply(len).min(), data['Sentence'].apply(len).median()"
   ]
  },
  {
   "cell_type": "code",
   "execution_count": 4,
   "metadata": {},
   "outputs": [],
   "source": [
    "max_words = 10000\n",
    "max_sequence_length = 315"
   ]
  },
  {
   "cell_type": "code",
   "execution_count": 5,
   "metadata": {},
   "outputs": [],
   "source": [
    "text = data['Sentence']"
   ]
  },
  {
   "cell_type": "code",
   "execution_count": 6,
   "metadata": {},
   "outputs": [],
   "source": [
    "tokenizer = Tokenizer(num_words=max_words)\n",
    "tokenizer.fit_on_texts(text)\n",
    "sequences = tokenizer.texts_to_sequences(text)"
   ]
  },
  {
   "cell_type": "code",
   "execution_count": 7,
   "metadata": {},
   "outputs": [
    {
     "data": {
      "text/plain": [
       "((5842,), (5842, 315))"
      ]
     },
     "execution_count": 7,
     "metadata": {},
     "output_type": "execute_result"
    }
   ],
   "source": [
    "x = pad_sequences(sequences, maxlen=max_sequence_length, padding='post', truncating='post')\n",
    "y = np.where(data['Sentiment']=='positive', 1, 0)\n",
    "y.shape, x.shape"
   ]
  },
  {
   "cell_type": "code",
   "execution_count": 8,
   "metadata": {},
   "outputs": [],
   "source": [
    "X_train, X_test, y_train, y_test = train_test_split(x, y, test_size=0.2, random_state=42)"
   ]
  },
  {
   "cell_type": "code",
   "execution_count": 9,
   "metadata": {},
   "outputs": [],
   "source": [
    "from keras.models import Sequential\n",
    "from keras.layers import Embedding, LSTM, Dense"
   ]
  },
  {
   "cell_type": "code",
   "execution_count": 10,
   "metadata": {},
   "outputs": [],
   "source": [
    "model = Sequential()\n",
    "\n",
    "embedding_dim = 100  # Dimension of the word embeddings\n",
    "\n",
    "model.add(Embedding(input_dim=max_words, output_dim=embedding_dim, input_length=max_sequence_length))\n",
    "model.add(LSTM(100))  # You can adjust the number of LSTM units\n",
    "# model.add(LSTM(32))\n",
    "model.add(Dense(1, activation='sigmoid'))  # Binary classification\n",
    "\n",
    "model.compile(optimizer='adam', loss='binary_crossentropy', metrics=['accuracy'])"
   ]
  },
  {
   "cell_type": "code",
   "execution_count": 11,
   "metadata": {},
   "outputs": [
    {
     "name": "stdout",
     "output_type": "stream",
     "text": [
      "Epoch 1/5\n",
      "43/43 [==============================] - 48s 997ms/step - loss: 0.6333 - accuracy: 0.6866 - val_loss: 0.6468 - val_accuracy: 0.6538\n",
      "Epoch 2/5\n",
      "43/43 [==============================] - 44s 1s/step - loss: 0.6271 - accuracy: 0.6866 - val_loss: 0.6476 - val_accuracy: 0.6538\n",
      "Epoch 3/5\n",
      "43/43 [==============================] - 46s 1s/step - loss: 0.6223 - accuracy: 0.6866 - val_loss: 0.6466 - val_accuracy: 0.6538\n",
      "Epoch 4/5\n",
      "43/43 [==============================] - 45s 1s/step - loss: 0.6220 - accuracy: 0.6866 - val_loss: 0.6451 - val_accuracy: 0.6538\n",
      "Epoch 5/5\n",
      "43/43 [==============================] - 48s 1s/step - loss: 0.6229 - accuracy: 0.6866 - val_loss: 0.6459 - val_accuracy: 0.6538\n"
     ]
    },
    {
     "data": {
      "text/plain": [
       "<keras.src.callbacks.History at 0x2253fe72d50>"
      ]
     },
     "execution_count": 11,
     "metadata": {},
     "output_type": "execute_result"
    }
   ],
   "source": [
    "epochs = 5  # Number of training epochs\n",
    "batch_size = 100 # Batch size\n",
    "\n",
    "model.fit(X_train, y_train, batch_size=batch_size, epochs=epochs, validation_split=0.1)"
   ]
  },
  {
   "cell_type": "code",
   "execution_count": 12,
   "metadata": {},
   "outputs": [],
   "source": [
    "adani = pd.read_excel('Sentiments_Adani.xlsx', parse_dates=True, sheet_name='Sentiments_Adani')\n",
    "s = adani['Sentences']\n",
    "seq_eval = tokenizer.texts_to_sequences(s)\n",
    "x_eval = pad_sequences(seq_eval, padding='post', truncating='post')\n",
    "y_eval = np.where(adani['Sentiments'] == 'Positive', 1, 0)"
   ]
  },
  {
   "cell_type": "code",
   "execution_count": 13,
   "metadata": {},
   "outputs": [
    {
     "name": "stdout",
     "output_type": "stream",
     "text": [
      "1/1 [==============================] - 1s 1s/step - loss: 0.6985 - accuracy: 0.5714\n"
     ]
    }
   ],
   "source": [
    "loss2, accuracy2 = model.evaluate(x_eval, y_eval)"
   ]
  },
  {
   "cell_type": "code",
   "execution_count": 14,
   "metadata": {},
   "outputs": [
    {
     "name": "stdout",
     "output_type": "stream",
     "text": [
      "37/37 [==============================] - 3s 92ms/step - loss: 0.6257 - accuracy: 0.6818\n",
      "Test Loss: 0.6257, Test Accuracy: 0.6818\n"
     ]
    }
   ],
   "source": [
    "loss, accuracy = model.evaluate(X_test, y_test)\n",
    "print(f\"Test Loss: {loss:.4f}, Test Accuracy: {accuracy:.4f}\")"
   ]
  },
  {
   "cell_type": "code",
   "execution_count": 15,
   "metadata": {},
   "outputs": [
    {
     "data": {
      "text/html": [
       "<div>\n",
       "<style scoped>\n",
       "    .dataframe tbody tr th:only-of-type {\n",
       "        vertical-align: middle;\n",
       "    }\n",
       "\n",
       "    .dataframe tbody tr th {\n",
       "        vertical-align: top;\n",
       "    }\n",
       "\n",
       "    .dataframe thead th {\n",
       "        text-align: right;\n",
       "    }\n",
       "</style>\n",
       "<table border=\"1\" class=\"dataframe\">\n",
       "  <thead>\n",
       "    <tr style=\"text-align: right;\">\n",
       "      <th></th>\n",
       "      <th>Date</th>\n",
       "      <th>Sentences</th>\n",
       "      <th>Sentiments</th>\n",
       "      <th>Returns(avg)</th>\n",
       "    </tr>\n",
       "  </thead>\n",
       "  <tbody>\n",
       "    <tr>\n",
       "      <th>0</th>\n",
       "      <td>03-11-2023 12:20</td>\n",
       "      <td>Adani Green's profit increased to Rs 371 crore.</td>\n",
       "      <td>Positive</td>\n",
       "      <td>-0.31</td>\n",
       "    </tr>\n",
       "    <tr>\n",
       "      <th>1</th>\n",
       "      <td>02-11-2023 10:47</td>\n",
       "      <td>𝐅𝐈𝐈𝐬 𝐈𝐧𝐜𝐫𝐞𝐚𝐬𝐞𝐝 𝐒𝐭𝐚𝐤𝐞 𝐝𝐫𝐚𝐬𝐭𝐢𝐜𝐚𝐥𝐥𝐲 𝐢𝐧 𝐭𝐡𝐞𝐬𝐞 𝐬𝐭𝐨𝐜...</td>\n",
       "      <td>Positive</td>\n",
       "      <td>2.17</td>\n",
       "    </tr>\n",
       "    <tr>\n",
       "      <th>2</th>\n",
       "      <td>02-11-2023 08:24</td>\n",
       "      <td>Replugging: Adani group has clear links to How...</td>\n",
       "      <td>Negative</td>\n",
       "      <td>0.24</td>\n",
       "    </tr>\n",
       "    <tr>\n",
       "      <th>3</th>\n",
       "      <td>02-11-2023 05:26</td>\n",
       "      <td>Adani's wealth before Modi became CM = 3300 Cr...</td>\n",
       "      <td>Negative</td>\n",
       "      <td>-0.09</td>\n",
       "    </tr>\n",
       "    <tr>\n",
       "      <th>4</th>\n",
       "      <td>30-10-2023 15:01</td>\n",
       "      <td>A spate of recent media revelations has furthe...</td>\n",
       "      <td>Negative</td>\n",
       "      <td>-0.21</td>\n",
       "    </tr>\n",
       "  </tbody>\n",
       "</table>\n",
       "</div>"
      ],
      "text/plain": [
       "               Date                                          Sentences  \\\n",
       "0  03-11-2023 12:20    Adani Green's profit increased to Rs 371 crore.   \n",
       "1  02-11-2023 10:47  𝐅𝐈𝐈𝐬 𝐈𝐧𝐜𝐫𝐞𝐚𝐬𝐞𝐝 𝐒𝐭𝐚𝐤𝐞 𝐝𝐫𝐚𝐬𝐭𝐢𝐜𝐚𝐥𝐥𝐲 𝐢𝐧 𝐭𝐡𝐞𝐬𝐞 𝐬𝐭𝐨𝐜...   \n",
       "2  02-11-2023 08:24  Replugging: Adani group has clear links to How...   \n",
       "3  02-11-2023 05:26  Adani's wealth before Modi became CM = 3300 Cr...   \n",
       "4  30-10-2023 15:01  A spate of recent media revelations has furthe...   \n",
       "\n",
       "  Sentiments  Returns(avg)  \n",
       "0   Positive         -0.31  \n",
       "1   Positive          2.17  \n",
       "2   Negative          0.24  \n",
       "3   Negative         -0.09  \n",
       "4   Negative         -0.21  "
      ]
     },
     "execution_count": 15,
     "metadata": {},
     "output_type": "execute_result"
    }
   ],
   "source": [
    "adani = pd.read_csv('Sentiments_Adani.csv', parse_dates=True)\n",
    "adani.head()"
   ]
  },
  {
   "cell_type": "code",
   "execution_count": 16,
   "metadata": {},
   "outputs": [],
   "source": [
    "s = adani['Sentences']\n",
    "sent = np.where(adani['Sentiments']=='Positive', 1, 0)"
   ]
  },
  {
   "cell_type": "code",
   "execution_count": 19,
   "metadata": {},
   "outputs": [],
   "source": [
    "tokenizer.fit_on_texts(s)\n",
    "seq_eval = tokenizer.texts_to_sequences(text)"
   ]
  },
  {
   "cell_type": "code",
   "execution_count": 20,
   "metadata": {},
   "outputs": [],
   "source": [
    "x_eval = pad_sequences(seq_eval, maxlen=max_sequence_length, padding='post', truncating='post')"
   ]
  },
  {
   "cell_type": "code",
   "execution_count": null,
   "metadata": {},
   "outputs": [],
   "source": [
    "y_eval = np.where(adani['Sentiments']=='Positive', 1, 0)"
   ]
  },
  {
   "cell_type": "code",
   "execution_count": 22,
   "metadata": {},
   "outputs": [
    {
     "name": "stdout",
     "output_type": "stream",
     "text": [
      "183/183 [==============================] - 17s 91ms/step\n"
     ]
    }
   ],
   "source": [
    "pred = model.predict(x_eval)"
   ]
  },
  {
   "cell_type": "code",
   "execution_count": 24,
   "metadata": {},
   "outputs": [
    {
     "data": {
      "text/plain": [
       "5842"
      ]
     },
     "execution_count": 24,
     "metadata": {},
     "output_type": "execute_result"
    }
   ],
   "source": [
    "pred"
   ]
  },
  {
   "cell_type": "code",
   "execution_count": 25,
   "metadata": {},
   "outputs": [
    {
     "data": {
      "text/plain": [
       "array([[   1, 3980,  135, ...,    0,    0,    0],\n",
       "       [5836,   12, 1311, ...,    0,    0,    0],\n",
       "       [   7,    1,  129, ...,    0,    0,    0],\n",
       "       ...,\n",
       "       [ 110,  634,   14, ...,    0,    0,    0],\n",
       "       [   3,    1,  165, ...,    0,    0,    0],\n",
       "       [  78,  644, 3122, ...,    0,    0,    0]])"
      ]
     },
     "execution_count": 25,
     "metadata": {},
     "output_type": "execute_result"
    }
   ],
   "source": [
    "x_eval"
   ]
  },
  {
   "cell_type": "code",
   "execution_count": null,
   "metadata": {},
   "outputs": [],
   "source": []
  }
 ],
 "metadata": {
  "kernelspec": {
   "display_name": "Python 3",
   "language": "python",
   "name": "python3"
  },
  "language_info": {
   "codemirror_mode": {
    "name": "ipython",
    "version": 3
   },
   "file_extension": ".py",
   "mimetype": "text/x-python",
   "name": "python",
   "nbconvert_exporter": "python",
   "pygments_lexer": "ipython3",
   "version": "3.11.5"
  }
 },
 "nbformat": 4,
 "nbformat_minor": 2
}
