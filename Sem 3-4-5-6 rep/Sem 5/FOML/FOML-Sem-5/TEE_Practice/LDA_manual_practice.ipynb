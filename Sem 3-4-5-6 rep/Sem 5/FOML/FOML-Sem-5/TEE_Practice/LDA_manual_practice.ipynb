{
 "cells": [
  {
   "cell_type": "code",
   "execution_count": 72,
   "id": "04a174fd",
   "metadata": {},
   "outputs": [],
   "source": [
    "import numpy as np\n",
    "import pandas as pd\n",
    "import matplotlib.pyplot as plt\n",
    "import seaborn as sns\n",
    "import os\n",
    "\n",
    "from numpy import array, mean, cov, loadtxt\n",
    "from numpy.linalg import eig\n",
    "\n",
    "from sklearn.model_selection import train_test_split\n",
    "from sklearn import datasets\n",
    "from sklearn.preprocessing import StandardScaler\n",
    "from sklearn.discriminant_analysis import LinearDiscriminantAnalysis as LDA \n",
    "from sklearn.decomposition import PCA\n",
    "from sklearn.metrics import confusion_matrix, accuracy_score \n",
    "\n",
    "# from tensorflow.keras.models import Sequential\n",
    "# from tensorflow.keras.layers import Dense\n",
    "\n",
    "# from keras.datasets import mnist"
   ]
  },
  {
   "cell_type": "code",
   "execution_count": 73,
   "id": "e08df43c",
   "metadata": {},
   "outputs": [
    {
     "data": {
      "text/html": [
       "<div>\n",
       "<style scoped>\n",
       "    .dataframe tbody tr th:only-of-type {\n",
       "        vertical-align: middle;\n",
       "    }\n",
       "\n",
       "    .dataframe tbody tr th {\n",
       "        vertical-align: top;\n",
       "    }\n",
       "\n",
       "    .dataframe thead th {\n",
       "        text-align: right;\n",
       "    }\n",
       "</style>\n",
       "<table border=\"1\" class=\"dataframe\">\n",
       "  <thead>\n",
       "    <tr style=\"text-align: right;\">\n",
       "      <th></th>\n",
       "      <th>SepalLengthCm</th>\n",
       "      <th>SepalWidthCm</th>\n",
       "      <th>PetalLengthCm</th>\n",
       "      <th>PetalWidthCm</th>\n",
       "      <th>Species</th>\n",
       "    </tr>\n",
       "  </thead>\n",
       "  <tbody>\n",
       "    <tr>\n",
       "      <th>0</th>\n",
       "      <td>5.1</td>\n",
       "      <td>3.5</td>\n",
       "      <td>1.4</td>\n",
       "      <td>0.2</td>\n",
       "      <td>Iris-setosa</td>\n",
       "    </tr>\n",
       "    <tr>\n",
       "      <th>1</th>\n",
       "      <td>4.9</td>\n",
       "      <td>3.0</td>\n",
       "      <td>1.4</td>\n",
       "      <td>0.2</td>\n",
       "      <td>Iris-setosa</td>\n",
       "    </tr>\n",
       "    <tr>\n",
       "      <th>2</th>\n",
       "      <td>4.7</td>\n",
       "      <td>3.2</td>\n",
       "      <td>1.3</td>\n",
       "      <td>0.2</td>\n",
       "      <td>Iris-setosa</td>\n",
       "    </tr>\n",
       "    <tr>\n",
       "      <th>3</th>\n",
       "      <td>4.6</td>\n",
       "      <td>3.1</td>\n",
       "      <td>1.5</td>\n",
       "      <td>0.2</td>\n",
       "      <td>Iris-setosa</td>\n",
       "    </tr>\n",
       "    <tr>\n",
       "      <th>4</th>\n",
       "      <td>5.0</td>\n",
       "      <td>3.6</td>\n",
       "      <td>1.4</td>\n",
       "      <td>0.2</td>\n",
       "      <td>Iris-setosa</td>\n",
       "    </tr>\n",
       "  </tbody>\n",
       "</table>\n",
       "</div>"
      ],
      "text/plain": [
       "   SepalLengthCm  SepalWidthCm  PetalLengthCm  PetalWidthCm      Species\n",
       "0            5.1           3.5            1.4           0.2  Iris-setosa\n",
       "1            4.9           3.0            1.4           0.2  Iris-setosa\n",
       "2            4.7           3.2            1.3           0.2  Iris-setosa\n",
       "3            4.6           3.1            1.5           0.2  Iris-setosa\n",
       "4            5.0           3.6            1.4           0.2  Iris-setosa"
      ]
     },
     "execution_count": 73,
     "metadata": {},
     "output_type": "execute_result"
    }
   ],
   "source": [
    "df = pd.read_csv(\"./Iris/iris.csv\").drop(columns=['Id'])\n",
    "df.head()"
   ]
  },
  {
   "cell_type": "code",
   "execution_count": 74,
   "id": "c1b401f7",
   "metadata": {},
   "outputs": [],
   "source": [
    "# plt.scatter(df.iloc[:, 0], df.iloc[:, 1], df.iloc[:, 2], df.iloc[:, 3], c = df.iloc[:, 4])\n",
    "# plt.show()"
   ]
  },
  {
   "cell_type": "code",
   "execution_count": 75,
   "id": "33ac4cb5",
   "metadata": {},
   "outputs": [],
   "source": [
    "setosa = df[df['Species']=='Iris-setosa']\n",
    "versi = df[df['Species']=='Iris-versicolor']\n",
    "virgi = df[df['Species']=='Iris-virginica']"
   ]
  },
  {
   "cell_type": "code",
   "execution_count": 76,
   "id": "8cf70e90",
   "metadata": {},
   "outputs": [
    {
     "data": {
      "text/html": [
       "<div>\n",
       "<style scoped>\n",
       "    .dataframe tbody tr th:only-of-type {\n",
       "        vertical-align: middle;\n",
       "    }\n",
       "\n",
       "    .dataframe tbody tr th {\n",
       "        vertical-align: top;\n",
       "    }\n",
       "\n",
       "    .dataframe thead th {\n",
       "        text-align: right;\n",
       "    }\n",
       "</style>\n",
       "<table border=\"1\" class=\"dataframe\">\n",
       "  <thead>\n",
       "    <tr style=\"text-align: right;\">\n",
       "      <th></th>\n",
       "      <th>SepalLengthCm</th>\n",
       "      <th>SepalWidthCm</th>\n",
       "      <th>PetalLengthCm</th>\n",
       "      <th>PetalWidthCm</th>\n",
       "      <th>Species</th>\n",
       "    </tr>\n",
       "  </thead>\n",
       "  <tbody>\n",
       "    <tr>\n",
       "      <th>0</th>\n",
       "      <td>5.1</td>\n",
       "      <td>3.5</td>\n",
       "      <td>1.4</td>\n",
       "      <td>0.2</td>\n",
       "      <td>Iris-setosa</td>\n",
       "    </tr>\n",
       "    <tr>\n",
       "      <th>1</th>\n",
       "      <td>4.9</td>\n",
       "      <td>3.0</td>\n",
       "      <td>1.4</td>\n",
       "      <td>0.2</td>\n",
       "      <td>Iris-setosa</td>\n",
       "    </tr>\n",
       "    <tr>\n",
       "      <th>2</th>\n",
       "      <td>4.7</td>\n",
       "      <td>3.2</td>\n",
       "      <td>1.3</td>\n",
       "      <td>0.2</td>\n",
       "      <td>Iris-setosa</td>\n",
       "    </tr>\n",
       "    <tr>\n",
       "      <th>3</th>\n",
       "      <td>4.6</td>\n",
       "      <td>3.1</td>\n",
       "      <td>1.5</td>\n",
       "      <td>0.2</td>\n",
       "      <td>Iris-setosa</td>\n",
       "    </tr>\n",
       "    <tr>\n",
       "      <th>4</th>\n",
       "      <td>5.0</td>\n",
       "      <td>3.6</td>\n",
       "      <td>1.4</td>\n",
       "      <td>0.2</td>\n",
       "      <td>Iris-setosa</td>\n",
       "    </tr>\n",
       "  </tbody>\n",
       "</table>\n",
       "</div>"
      ],
      "text/plain": [
       "   SepalLengthCm  SepalWidthCm  PetalLengthCm  PetalWidthCm      Species\n",
       "0            5.1           3.5            1.4           0.2  Iris-setosa\n",
       "1            4.9           3.0            1.4           0.2  Iris-setosa\n",
       "2            4.7           3.2            1.3           0.2  Iris-setosa\n",
       "3            4.6           3.1            1.5           0.2  Iris-setosa\n",
       "4            5.0           3.6            1.4           0.2  Iris-setosa"
      ]
     },
     "execution_count": 76,
     "metadata": {},
     "output_type": "execute_result"
    }
   ],
   "source": [
    "setosa.head()"
   ]
  },
  {
   "cell_type": "code",
   "execution_count": 77,
   "id": "714283d8",
   "metadata": {},
   "outputs": [
    {
     "data": {
      "text/html": [
       "<div>\n",
       "<style scoped>\n",
       "    .dataframe tbody tr th:only-of-type {\n",
       "        vertical-align: middle;\n",
       "    }\n",
       "\n",
       "    .dataframe tbody tr th {\n",
       "        vertical-align: top;\n",
       "    }\n",
       "\n",
       "    .dataframe thead th {\n",
       "        text-align: right;\n",
       "    }\n",
       "</style>\n",
       "<table border=\"1\" class=\"dataframe\">\n",
       "  <thead>\n",
       "    <tr style=\"text-align: right;\">\n",
       "      <th></th>\n",
       "      <th>SepalLengthCm</th>\n",
       "      <th>SepalWidthCm</th>\n",
       "      <th>PetalLengthCm</th>\n",
       "      <th>PetalWidthCm</th>\n",
       "      <th>Species</th>\n",
       "    </tr>\n",
       "  </thead>\n",
       "  <tbody>\n",
       "    <tr>\n",
       "      <th>50</th>\n",
       "      <td>7.0</td>\n",
       "      <td>3.2</td>\n",
       "      <td>4.7</td>\n",
       "      <td>1.4</td>\n",
       "      <td>Iris-versicolor</td>\n",
       "    </tr>\n",
       "    <tr>\n",
       "      <th>51</th>\n",
       "      <td>6.4</td>\n",
       "      <td>3.2</td>\n",
       "      <td>4.5</td>\n",
       "      <td>1.5</td>\n",
       "      <td>Iris-versicolor</td>\n",
       "    </tr>\n",
       "    <tr>\n",
       "      <th>52</th>\n",
       "      <td>6.9</td>\n",
       "      <td>3.1</td>\n",
       "      <td>4.9</td>\n",
       "      <td>1.5</td>\n",
       "      <td>Iris-versicolor</td>\n",
       "    </tr>\n",
       "    <tr>\n",
       "      <th>53</th>\n",
       "      <td>5.5</td>\n",
       "      <td>2.3</td>\n",
       "      <td>4.0</td>\n",
       "      <td>1.3</td>\n",
       "      <td>Iris-versicolor</td>\n",
       "    </tr>\n",
       "    <tr>\n",
       "      <th>54</th>\n",
       "      <td>6.5</td>\n",
       "      <td>2.8</td>\n",
       "      <td>4.6</td>\n",
       "      <td>1.5</td>\n",
       "      <td>Iris-versicolor</td>\n",
       "    </tr>\n",
       "  </tbody>\n",
       "</table>\n",
       "</div>"
      ],
      "text/plain": [
       "    SepalLengthCm  SepalWidthCm  PetalLengthCm  PetalWidthCm          Species\n",
       "50            7.0           3.2            4.7           1.4  Iris-versicolor\n",
       "51            6.4           3.2            4.5           1.5  Iris-versicolor\n",
       "52            6.9           3.1            4.9           1.5  Iris-versicolor\n",
       "53            5.5           2.3            4.0           1.3  Iris-versicolor\n",
       "54            6.5           2.8            4.6           1.5  Iris-versicolor"
      ]
     },
     "execution_count": 77,
     "metadata": {},
     "output_type": "execute_result"
    }
   ],
   "source": [
    "versi.head()"
   ]
  },
  {
   "cell_type": "code",
   "execution_count": 78,
   "id": "30261d97",
   "metadata": {},
   "outputs": [
    {
     "data": {
      "text/html": [
       "<div>\n",
       "<style scoped>\n",
       "    .dataframe tbody tr th:only-of-type {\n",
       "        vertical-align: middle;\n",
       "    }\n",
       "\n",
       "    .dataframe tbody tr th {\n",
       "        vertical-align: top;\n",
       "    }\n",
       "\n",
       "    .dataframe thead th {\n",
       "        text-align: right;\n",
       "    }\n",
       "</style>\n",
       "<table border=\"1\" class=\"dataframe\">\n",
       "  <thead>\n",
       "    <tr style=\"text-align: right;\">\n",
       "      <th></th>\n",
       "      <th>SepalLengthCm</th>\n",
       "      <th>SepalWidthCm</th>\n",
       "      <th>PetalLengthCm</th>\n",
       "      <th>PetalWidthCm</th>\n",
       "      <th>Species</th>\n",
       "    </tr>\n",
       "  </thead>\n",
       "  <tbody>\n",
       "    <tr>\n",
       "      <th>100</th>\n",
       "      <td>6.3</td>\n",
       "      <td>3.3</td>\n",
       "      <td>6.0</td>\n",
       "      <td>2.5</td>\n",
       "      <td>Iris-virginica</td>\n",
       "    </tr>\n",
       "    <tr>\n",
       "      <th>101</th>\n",
       "      <td>5.8</td>\n",
       "      <td>2.7</td>\n",
       "      <td>5.1</td>\n",
       "      <td>1.9</td>\n",
       "      <td>Iris-virginica</td>\n",
       "    </tr>\n",
       "    <tr>\n",
       "      <th>102</th>\n",
       "      <td>7.1</td>\n",
       "      <td>3.0</td>\n",
       "      <td>5.9</td>\n",
       "      <td>2.1</td>\n",
       "      <td>Iris-virginica</td>\n",
       "    </tr>\n",
       "    <tr>\n",
       "      <th>103</th>\n",
       "      <td>6.3</td>\n",
       "      <td>2.9</td>\n",
       "      <td>5.6</td>\n",
       "      <td>1.8</td>\n",
       "      <td>Iris-virginica</td>\n",
       "    </tr>\n",
       "    <tr>\n",
       "      <th>104</th>\n",
       "      <td>6.5</td>\n",
       "      <td>3.0</td>\n",
       "      <td>5.8</td>\n",
       "      <td>2.2</td>\n",
       "      <td>Iris-virginica</td>\n",
       "    </tr>\n",
       "  </tbody>\n",
       "</table>\n",
       "</div>"
      ],
      "text/plain": [
       "     SepalLengthCm  SepalWidthCm  PetalLengthCm  PetalWidthCm         Species\n",
       "100            6.3           3.3            6.0           2.5  Iris-virginica\n",
       "101            5.8           2.7            5.1           1.9  Iris-virginica\n",
       "102            7.1           3.0            5.9           2.1  Iris-virginica\n",
       "103            6.3           2.9            5.6           1.8  Iris-virginica\n",
       "104            6.5           3.0            5.8           2.2  Iris-virginica"
      ]
     },
     "execution_count": 78,
     "metadata": {},
     "output_type": "execute_result"
    }
   ],
   "source": [
    "virgi.head()"
   ]
  },
  {
   "cell_type": "code",
   "execution_count": 79,
   "id": "f7b653f9",
   "metadata": {},
   "outputs": [
    {
     "name": "stdout",
     "output_type": "stream",
     "text": [
      "<class 'pandas.core.frame.DataFrame'>\n",
      "Index: 50 entries, 0 to 49\n",
      "Data columns (total 5 columns):\n",
      " #   Column         Non-Null Count  Dtype  \n",
      "---  ------         --------------  -----  \n",
      " 0   SepalLengthCm  50 non-null     float64\n",
      " 1   SepalWidthCm   50 non-null     float64\n",
      " 2   PetalLengthCm  50 non-null     float64\n",
      " 3   PetalWidthCm   50 non-null     float64\n",
      " 4   Species        50 non-null     object \n",
      "dtypes: float64(4), object(1)\n",
      "memory usage: 2.3+ KB\n"
     ]
    }
   ],
   "source": [
    "setosa.info()"
   ]
  },
  {
   "cell_type": "code",
   "execution_count": 80,
   "id": "dbb54957",
   "metadata": {},
   "outputs": [
    {
     "name": "stdout",
     "output_type": "stream",
     "text": [
      "<class 'pandas.core.frame.DataFrame'>\n",
      "Index: 50 entries, 50 to 99\n",
      "Data columns (total 5 columns):\n",
      " #   Column         Non-Null Count  Dtype  \n",
      "---  ------         --------------  -----  \n",
      " 0   SepalLengthCm  50 non-null     float64\n",
      " 1   SepalWidthCm   50 non-null     float64\n",
      " 2   PetalLengthCm  50 non-null     float64\n",
      " 3   PetalWidthCm   50 non-null     float64\n",
      " 4   Species        50 non-null     object \n",
      "dtypes: float64(4), object(1)\n",
      "memory usage: 2.3+ KB\n"
     ]
    }
   ],
   "source": [
    "versi.info()"
   ]
  },
  {
   "cell_type": "code",
   "execution_count": 81,
   "id": "945abfdb",
   "metadata": {},
   "outputs": [
    {
     "name": "stdout",
     "output_type": "stream",
     "text": [
      "<class 'pandas.core.frame.DataFrame'>\n",
      "Index: 50 entries, 100 to 149\n",
      "Data columns (total 5 columns):\n",
      " #   Column         Non-Null Count  Dtype  \n",
      "---  ------         --------------  -----  \n",
      " 0   SepalLengthCm  50 non-null     float64\n",
      " 1   SepalWidthCm   50 non-null     float64\n",
      " 2   PetalLengthCm  50 non-null     float64\n",
      " 3   PetalWidthCm   50 non-null     float64\n",
      " 4   Species        50 non-null     object \n",
      "dtypes: float64(4), object(1)\n",
      "memory usage: 2.3+ KB\n"
     ]
    }
   ],
   "source": [
    "virgi.info()"
   ]
  },
  {
   "cell_type": "code",
   "execution_count": 82,
   "id": "f1bc22be",
   "metadata": {},
   "outputs": [
    {
     "data": {
      "image/png": "[encoded data removed]",
      "text/plain": [
       "<Figure size 640x480 with 1 Axes>"
      ]
     },
     "metadata": {},
     "output_type": "display_data"
    }
   ],
   "source": [
    "plt.scatter(setosa.iloc[:, 0], setosa.iloc[:, 1], label='setosa')\n",
    "plt.scatter(versi.iloc[:, 0], versi.iloc[:, 1], label='versicolor')\n",
    "plt.scatter(virgi.iloc[:, 0], virgi.iloc[:, 1], label='virginica')\n",
    "\n",
    "plt.legend()\n",
    "plt.show()"
   ]
  },
  {
   "cell_type": "code",
   "execution_count": 83,
   "id": "10617d56",
   "metadata": {},
   "outputs": [
    {
     "data": {
      "text/plain": [
       "(50, 5)"
      ]
     },
     "execution_count": 83,
     "metadata": {},
     "output_type": "execute_result"
    }
   ],
   "source": [
    "setosa.shape"
   ]
  },
  {
   "cell_type": "code",
   "execution_count": 84,
   "id": "75379e7e",
   "metadata": {},
   "outputs": [
    {
     "data": {
      "text/plain": [
       "(50, 5)"
      ]
     },
     "execution_count": 84,
     "metadata": {},
     "output_type": "execute_result"
    }
   ],
   "source": [
    "versi.shape"
   ]
  },
  {
   "cell_type": "code",
   "execution_count": 85,
   "id": "a86f75c8",
   "metadata": {},
   "outputs": [
    {
     "data": {
      "text/plain": [
       "(50, 5)"
      ]
     },
     "execution_count": 85,
     "metadata": {},
     "output_type": "execute_result"
    }
   ],
   "source": [
    "virgi.shape"
   ]
  },
  {
   "cell_type": "code",
   "execution_count": 86,
   "id": "85817b79",
   "metadata": {},
   "outputs": [],
   "source": [
    "x = df.iloc[:, 0:4]"
   ]
  },
  {
   "cell_type": "code",
   "execution_count": 87,
   "id": "2c697496",
   "metadata": {},
   "outputs": [
    {
     "data": {
      "text/html": [
       "<div>\n",
       "<style scoped>\n",
       "    .dataframe tbody tr th:only-of-type {\n",
       "        vertical-align: middle;\n",
       "    }\n",
       "\n",
       "    .dataframe tbody tr th {\n",
       "        vertical-align: top;\n",
       "    }\n",
       "\n",
       "    .dataframe thead th {\n",
       "        text-align: right;\n",
       "    }\n",
       "</style>\n",
       "<table border=\"1\" class=\"dataframe\">\n",
       "  <thead>\n",
       "    <tr style=\"text-align: right;\">\n",
       "      <th></th>\n",
       "      <th>SepalLengthCm</th>\n",
       "      <th>SepalWidthCm</th>\n",
       "      <th>PetalLengthCm</th>\n",
       "      <th>PetalWidthCm</th>\n",
       "    </tr>\n",
       "  </thead>\n",
       "  <tbody>\n",
       "    <tr>\n",
       "      <th>0</th>\n",
       "      <td>5.1</td>\n",
       "      <td>3.5</td>\n",
       "      <td>1.4</td>\n",
       "      <td>0.2</td>\n",
       "    </tr>\n",
       "    <tr>\n",
       "      <th>1</th>\n",
       "      <td>4.9</td>\n",
       "      <td>3.0</td>\n",
       "      <td>1.4</td>\n",
       "      <td>0.2</td>\n",
       "    </tr>\n",
       "    <tr>\n",
       "      <th>2</th>\n",
       "      <td>4.7</td>\n",
       "      <td>3.2</td>\n",
       "      <td>1.3</td>\n",
       "      <td>0.2</td>\n",
       "    </tr>\n",
       "    <tr>\n",
       "      <th>3</th>\n",
       "      <td>4.6</td>\n",
       "      <td>3.1</td>\n",
       "      <td>1.5</td>\n",
       "      <td>0.2</td>\n",
       "    </tr>\n",
       "    <tr>\n",
       "      <th>4</th>\n",
       "      <td>5.0</td>\n",
       "      <td>3.6</td>\n",
       "      <td>1.4</td>\n",
       "      <td>0.2</td>\n",
       "    </tr>\n",
       "  </tbody>\n",
       "</table>\n",
       "</div>"
      ],
      "text/plain": [
       "   SepalLengthCm  SepalWidthCm  PetalLengthCm  PetalWidthCm\n",
       "0            5.1           3.5            1.4           0.2\n",
       "1            4.9           3.0            1.4           0.2\n",
       "2            4.7           3.2            1.3           0.2\n",
       "3            4.6           3.1            1.5           0.2\n",
       "4            5.0           3.6            1.4           0.2"
      ]
     },
     "execution_count": 87,
     "metadata": {},
     "output_type": "execute_result"
    }
   ],
   "source": [
    "x.head()"
   ]
  },
  {
   "cell_type": "code",
   "execution_count": 88,
   "id": "1fa5f7e1",
   "metadata": {},
   "outputs": [],
   "source": [
    "y = df.iloc[:, 4]"
   ]
  },
  {
   "cell_type": "code",
   "execution_count": 89,
   "id": "5608ffc2",
   "metadata": {},
   "outputs": [
    {
     "data": {
      "text/plain": [
       "0    Iris-setosa\n",
       "1    Iris-setosa\n",
       "2    Iris-setosa\n",
       "3    Iris-setosa\n",
       "4    Iris-setosa\n",
       "Name: Species, dtype: object"
      ]
     },
     "execution_count": 89,
     "metadata": {},
     "output_type": "execute_result"
    }
   ],
   "source": [
    "y.head()"
   ]
  },
  {
   "cell_type": "code",
   "execution_count": 90,
   "id": "70221a24",
   "metadata": {},
   "outputs": [],
   "source": [
    "lda = LDA(n_components = 2)\n",
    "lda_fit = lda.fit(x, y)\n",
    "lda_trans = lda.transform(x)\n",
    "lda_pred = lda.predict(x)"
   ]
  },
  {
   "cell_type": "code",
   "execution_count": 91,
   "id": "76d3e047",
   "metadata": {},
   "outputs": [
    {
     "name": "stdout",
     "output_type": "stream",
     "text": [
      "Confusion Matrix: \n",
      " [[50  0  0]\n",
      " [ 0 48  2]\n",
      " [ 0  1 49]]\n",
      "\n",
      "Accuracy: 0.98\n"
     ]
    }
   ],
   "source": [
    "cm = confusion_matrix(y, lda_pred)  \n",
    "print(\"Confusion Matrix: \\n\",  cm)  \n",
    "print()\n",
    "print('Accuracy: ' + str(accuracy_score(y, lda_pred))) "
   ]
  },
  {
   "cell_type": "code",
   "execution_count": 137,
   "id": "c79e70ec",
   "metadata": {},
   "outputs": [
    {
     "name": "stdout",
     "output_type": "stream",
     "text": [
      "    X1   X2  Group\n",
      "0  103  158      1\n",
      "1  180   38      1\n",
      "2   93  130      1\n",
      "3   15  192      1\n",
      "4  107  188      1 \n",
      "\n",
      "      X1   X2  Group\n",
      "45  303  396      2\n",
      "46  380  468      2\n",
      "47  334  294      2\n",
      "48  342  412      2\n",
      "49  361  452      2\n"
     ]
    }
   ],
   "source": [
    "np.random.seed(42)\n",
    "\n",
    "x1 = []\n",
    "x2 = []\n",
    "for group in range(1, 3):\n",
    "    x1.extend(np.random.randint((group - 1) * 250 + 1, group * 250, size=25))\n",
    "    x2.extend(np.random.randint((group - 1) * 250 + 1, group * 250, size=25))\n",
    "\n",
    "group_col = np.repeat([1, 2], 25)\n",
    "\n",
    "data = pd.DataFrame({'X1': x1, 'X2': x2, 'Group': group_col})\n",
    "\n",
    "print(data.head(), '\\n\\n', data.tail()) "
   ]
  },
  {
   "cell_type": "code",
   "execution_count": 93,
   "id": "107ae867",
   "metadata": {},
   "outputs": [
    {
     "data": {
      "image/png": "[encoded data removed]",
      "text/plain": [
       "<Figure size 640x480 with 1 Axes>"
      ]
     },
     "metadata": {},
     "output_type": "display_data"
    }
   ],
   "source": [
    "plt.scatter(data.iloc[:, 0], data.iloc[:, 1], c = data.iloc[:, 2])\n",
    "plt.show()"
   ]
  },
  {
   "cell_type": "code",
   "execution_count": 94,
   "id": "1944fa81",
   "metadata": {},
   "outputs": [
    {
     "name": "stdout",
     "output_type": "stream",
     "text": [
      "<class 'pandas.core.frame.DataFrame'>\n",
      "RangeIndex: 50 entries, 0 to 49\n",
      "Data columns (total 3 columns):\n",
      " #   Column  Non-Null Count  Dtype\n",
      "---  ------  --------------  -----\n",
      " 0   X1      50 non-null     int32\n",
      " 1   X2      50 non-null     int32\n",
      " 2   Group   50 non-null     int32\n",
      "dtypes: int32(3)\n",
      "memory usage: 732.0 bytes\n"
     ]
    }
   ],
   "source": [
    "data.info()"
   ]
  },
  {
   "cell_type": "code",
   "execution_count": 95,
   "id": "ef8d5c4b",
   "metadata": {},
   "outputs": [
    {
     "data": {
      "text/plain": [
       "array([1, 2])"
      ]
     },
     "execution_count": 95,
     "metadata": {},
     "output_type": "execute_result"
    }
   ],
   "source": [
    "data['Group'].unique()"
   ]
  },
  {
   "cell_type": "code",
   "execution_count": 96,
   "id": "43dff291",
   "metadata": {},
   "outputs": [],
   "source": [
    "g1 = data[data['Group'] == 1]\n",
    "g2 = data[data['Group'] == 2]"
   ]
  },
  {
   "cell_type": "code",
   "execution_count": 138,
   "metadata": {},
   "outputs": [
    {
     "data": {
      "text/html": [
       "<div>\n",
       "<style scoped>\n",
       "    .dataframe tbody tr th:only-of-type {\n",
       "        vertical-align: middle;\n",
       "    }\n",
       "\n",
       "    .dataframe tbody tr th {\n",
       "        vertical-align: top;\n",
       "    }\n",
       "\n",
       "    .dataframe thead th {\n",
       "        text-align: right;\n",
       "    }\n",
       "</style>\n",
       "<table border=\"1\" class=\"dataframe\">\n",
       "  <thead>\n",
       "    <tr style=\"text-align: right;\">\n",
       "      <th></th>\n",
       "      <th>X1</th>\n",
       "      <th>X2</th>\n",
       "      <th>Group</th>\n",
       "      <th>nx1</th>\n",
       "      <th>nx2</th>\n",
       "    </tr>\n",
       "  </thead>\n",
       "  <tbody>\n",
       "    <tr>\n",
       "      <th>0</th>\n",
       "      <td>103</td>\n",
       "      <td>158</td>\n",
       "      <td>1</td>\n",
       "      <td>-14.2</td>\n",
       "      <td>21.16</td>\n",
       "    </tr>\n",
       "    <tr>\n",
       "      <th>1</th>\n",
       "      <td>180</td>\n",
       "      <td>38</td>\n",
       "      <td>1</td>\n",
       "      <td>62.8</td>\n",
       "      <td>-98.84</td>\n",
       "    </tr>\n",
       "    <tr>\n",
       "      <th>2</th>\n",
       "      <td>93</td>\n",
       "      <td>130</td>\n",
       "      <td>1</td>\n",
       "      <td>-24.2</td>\n",
       "      <td>-6.84</td>\n",
       "    </tr>\n",
       "    <tr>\n",
       "      <th>3</th>\n",
       "      <td>15</td>\n",
       "      <td>192</td>\n",
       "      <td>1</td>\n",
       "      <td>-102.2</td>\n",
       "      <td>55.16</td>\n",
       "    </tr>\n",
       "    <tr>\n",
       "      <th>4</th>\n",
       "      <td>107</td>\n",
       "      <td>188</td>\n",
       "      <td>1</td>\n",
       "      <td>-10.2</td>\n",
       "      <td>51.16</td>\n",
       "    </tr>\n",
       "    <tr>\n",
       "      <th>5</th>\n",
       "      <td>72</td>\n",
       "      <td>21</td>\n",
       "      <td>1</td>\n",
       "      <td>-45.2</td>\n",
       "      <td>-115.84</td>\n",
       "    </tr>\n",
       "    <tr>\n",
       "      <th>6</th>\n",
       "      <td>189</td>\n",
       "      <td>161</td>\n",
       "      <td>1</td>\n",
       "      <td>71.8</td>\n",
       "      <td>24.16</td>\n",
       "    </tr>\n",
       "    <tr>\n",
       "      <th>7</th>\n",
       "      <td>21</td>\n",
       "      <td>204</td>\n",
       "      <td>1</td>\n",
       "      <td>-96.2</td>\n",
       "      <td>67.16</td>\n",
       "    </tr>\n",
       "    <tr>\n",
       "      <th>8</th>\n",
       "      <td>103</td>\n",
       "      <td>58</td>\n",
       "      <td>1</td>\n",
       "      <td>-14.2</td>\n",
       "      <td>-78.84</td>\n",
       "    </tr>\n",
       "    <tr>\n",
       "      <th>9</th>\n",
       "      <td>122</td>\n",
       "      <td>22</td>\n",
       "      <td>1</td>\n",
       "      <td>4.8</td>\n",
       "      <td>-114.84</td>\n",
       "    </tr>\n",
       "    <tr>\n",
       "      <th>10</th>\n",
       "      <td>211</td>\n",
       "      <td>236</td>\n",
       "      <td>1</td>\n",
       "      <td>93.8</td>\n",
       "      <td>99.16</td>\n",
       "    </tr>\n",
       "    <tr>\n",
       "      <th>11</th>\n",
       "      <td>215</td>\n",
       "      <td>89</td>\n",
       "      <td>1</td>\n",
       "      <td>97.8</td>\n",
       "      <td>-47.84</td>\n",
       "    </tr>\n",
       "    <tr>\n",
       "      <th>12</th>\n",
       "      <td>75</td>\n",
       "      <td>49</td>\n",
       "      <td>1</td>\n",
       "      <td>-42.2</td>\n",
       "      <td>-87.84</td>\n",
       "    </tr>\n",
       "    <tr>\n",
       "      <th>13</th>\n",
       "      <td>203</td>\n",
       "      <td>219</td>\n",
       "      <td>1</td>\n",
       "      <td>85.8</td>\n",
       "      <td>82.16</td>\n",
       "    </tr>\n",
       "    <tr>\n",
       "      <th>14</th>\n",
       "      <td>88</td>\n",
       "      <td>59</td>\n",
       "      <td>1</td>\n",
       "      <td>-29.2</td>\n",
       "      <td>-77.84</td>\n",
       "    </tr>\n",
       "    <tr>\n",
       "      <th>15</th>\n",
       "      <td>117</td>\n",
       "      <td>170</td>\n",
       "      <td>1</td>\n",
       "      <td>-0.2</td>\n",
       "      <td>33.16</td>\n",
       "    </tr>\n",
       "    <tr>\n",
       "      <th>16</th>\n",
       "      <td>100</td>\n",
       "      <td>220</td>\n",
       "      <td>1</td>\n",
       "      <td>-17.2</td>\n",
       "      <td>83.16</td>\n",
       "    </tr>\n",
       "    <tr>\n",
       "      <th>17</th>\n",
       "      <td>104</td>\n",
       "      <td>188</td>\n",
       "      <td>1</td>\n",
       "      <td>-13.2</td>\n",
       "      <td>51.16</td>\n",
       "    </tr>\n",
       "    <tr>\n",
       "      <th>18</th>\n",
       "      <td>152</td>\n",
       "      <td>208</td>\n",
       "      <td>1</td>\n",
       "      <td>34.8</td>\n",
       "      <td>71.16</td>\n",
       "    </tr>\n",
       "    <tr>\n",
       "      <th>19</th>\n",
       "      <td>131</td>\n",
       "      <td>15</td>\n",
       "      <td>1</td>\n",
       "      <td>13.8</td>\n",
       "      <td>-121.84</td>\n",
       "    </tr>\n",
       "    <tr>\n",
       "      <th>20</th>\n",
       "      <td>150</td>\n",
       "      <td>190</td>\n",
       "      <td>1</td>\n",
       "      <td>32.8</td>\n",
       "      <td>53.16</td>\n",
       "    </tr>\n",
       "    <tr>\n",
       "      <th>21</th>\n",
       "      <td>53</td>\n",
       "      <td>190</td>\n",
       "      <td>1</td>\n",
       "      <td>-64.2</td>\n",
       "      <td>53.16</td>\n",
       "    </tr>\n",
       "    <tr>\n",
       "      <th>22</th>\n",
       "      <td>2</td>\n",
       "      <td>175</td>\n",
       "      <td>1</td>\n",
       "      <td>-115.2</td>\n",
       "      <td>38.16</td>\n",
       "    </tr>\n",
       "    <tr>\n",
       "      <th>23</th>\n",
       "      <td>88</td>\n",
       "      <td>190</td>\n",
       "      <td>1</td>\n",
       "      <td>-29.2</td>\n",
       "      <td>53.16</td>\n",
       "    </tr>\n",
       "    <tr>\n",
       "      <th>24</th>\n",
       "      <td>236</td>\n",
       "      <td>51</td>\n",
       "      <td>1</td>\n",
       "      <td>118.8</td>\n",
       "      <td>-85.84</td>\n",
       "    </tr>\n",
       "  </tbody>\n",
       "</table>\n",
       "</div>"
      ],
      "text/plain": [
       "     X1   X2  Group    nx1     nx2\n",
       "0   103  158      1  -14.2   21.16\n",
       "1   180   38      1   62.8  -98.84\n",
       "2    93  130      1  -24.2   -6.84\n",
       "3    15  192      1 -102.2   55.16\n",
       "4   107  188      1  -10.2   51.16\n",
       "5    72   21      1  -45.2 -115.84\n",
       "6   189  161      1   71.8   24.16\n",
       "7    21  204      1  -96.2   67.16\n",
       "8   103   58      1  -14.2  -78.84\n",
       "9   122   22      1    4.8 -114.84\n",
       "10  211  236      1   93.8   99.16\n",
       "11  215   89      1   97.8  -47.84\n",
       "12   75   49      1  -42.2  -87.84\n",
       "13  203  219      1   85.8   82.16\n",
       "14   88   59      1  -29.2  -77.84\n",
       "15  117  170      1   -0.2   33.16\n",
       "16  100  220      1  -17.2   83.16\n",
       "17  104  188      1  -13.2   51.16\n",
       "18  152  208      1   34.8   71.16\n",
       "19  131   15      1   13.8 -121.84\n",
       "20  150  190      1   32.8   53.16\n",
       "21   53  190      1  -64.2   53.16\n",
       "22    2  175      1 -115.2   38.16\n",
       "23   88  190      1  -29.2   53.16\n",
       "24  236   51      1  118.8  -85.84"
      ]
     },
     "execution_count": 138,
     "metadata": {},
     "output_type": "execute_result"
    }
   ],
   "source": [
    "g1"
   ]
  },
  {
   "cell_type": "code",
   "execution_count": 97,
   "id": "278a151c",
   "metadata": {},
   "outputs": [],
   "source": [
    "# Calculating the Between variability"
   ]
  },
  {
   "cell_type": "code",
   "execution_count": 98,
   "id": "76dd1f91",
   "metadata": {},
   "outputs": [],
   "source": [
    "mu11 = np.mean(g1['X1'])\n",
    "mu12 = np.mean(g1['X2'])\n",
    "mu21 = np.mean(g2['X1'])\n",
    "mu22 = np.mean(g2['X2'])"
   ]
  },
  {
   "cell_type": "code",
   "execution_count": 99,
   "id": "4536bb88",
   "metadata": {},
   "outputs": [],
   "source": [
    "## Difference between the means for the two groups"
   ]
  },
  {
   "cell_type": "code",
   "execution_count": 141,
   "id": "558430e7",
   "metadata": {},
   "outputs": [],
   "source": [
    "mu = [mu11 - mu21, mu12 - mu22]"
   ]
  },
  {
   "cell_type": "code",
   "execution_count": 101,
   "id": "769c28b3",
   "metadata": {},
   "outputs": [
    {
     "name": "stdout",
     "output_type": "stream",
     "text": [
      "[-238.84000000000003, -235.23999999999998]\n"
     ]
    }
   ],
   "source": [
    "print(mu)"
   ]
  },
  {
   "cell_type": "code",
   "execution_count": 102,
   "id": "9e95d69e",
   "metadata": {},
   "outputs": [],
   "source": [
    "## Reshaping it into an array"
   ]
  },
  {
   "cell_type": "code",
   "execution_count": 103,
   "id": "98e90b80",
   "metadata": {},
   "outputs": [],
   "source": [
    "mu = np.array(mu).reshape(1,2)"
   ]
  },
  {
   "cell_type": "code",
   "execution_count": 104,
   "id": "8506b4b2",
   "metadata": {},
   "outputs": [
    {
     "name": "stdout",
     "output_type": "stream",
     "text": [
      "[[-238.84 -235.24]]\n"
     ]
    }
   ],
   "source": [
    "print(mu)"
   ]
  },
  {
   "cell_type": "code",
   "execution_count": 105,
   "id": "1a56e302",
   "metadata": {},
   "outputs": [],
   "source": [
    "## Between class variability"
   ]
  },
  {
   "cell_type": "code",
   "execution_count": 106,
   "id": "b7cd705e",
   "metadata": {},
   "outputs": [
    {
     "name": "stdout",
     "output_type": "stream",
     "text": [
      "[[57044.5456 56184.7216]\n",
      " [56184.7216 55337.8576]]\n"
     ]
    }
   ],
   "source": [
    "sb = np.dot(mu.T, mu)\n",
    "print(sb)"
   ]
  },
  {
   "cell_type": "code",
   "execution_count": 107,
   "id": "503ff49c",
   "metadata": {},
   "outputs": [],
   "source": [
    "## Creating new columns in the G1 and G2"
   ]
  },
  {
   "cell_type": "code",
   "execution_count": 108,
   "id": "8dd884a2",
   "metadata": {},
   "outputs": [
    {
     "name": "stderr",
     "output_type": "stream",
     "text": [
      "C:\\Users\\Kavita manoj\\AppData\\Local\\Temp\\ipykernel_10076\\2308314167.py:1: SettingWithCopyWarning: \n",
      "A value is trying to be set on a copy of a slice from a DataFrame.\n",
      "Try using .loc[row_indexer,col_indexer] = value instead\n",
      "\n",
      "See the caveats in the documentation: https://pandas.pydata.org/pandas-docs/stable/user_guide/indexing.html#returning-a-view-versus-a-copy\n",
      "  g1['nx1'] = g1['X1'] - mu11\n",
      "C:\\Users\\Kavita manoj\\AppData\\Local\\Temp\\ipykernel_10076\\2308314167.py:2: SettingWithCopyWarning: \n",
      "A value is trying to be set on a copy of a slice from a DataFrame.\n",
      "Try using .loc[row_indexer,col_indexer] = value instead\n",
      "\n",
      "See the caveats in the documentation: https://pandas.pydata.org/pandas-docs/stable/user_guide/indexing.html#returning-a-view-versus-a-copy\n",
      "  g1['nx2'] = g1['X2'] - mu12\n"
     ]
    }
   ],
   "source": [
    "g1['nx1'] = g1['X1'] - mu11\n",
    "g1['nx2'] = g1['X2'] - mu12"
   ]
  },
  {
   "cell_type": "code",
   "execution_count": 109,
   "id": "1c4a030c",
   "metadata": {},
   "outputs": [
    {
     "name": "stdout",
     "output_type": "stream",
     "text": [
      "     X1   X2  Group    nx1     nx2\n",
      "0   103  158      1  -14.2   21.16\n",
      "1   180   38      1   62.8  -98.84\n",
      "2    93  130      1  -24.2   -6.84\n",
      "3    15  192      1 -102.2   55.16\n",
      "4   107  188      1  -10.2   51.16\n",
      "5    72   21      1  -45.2 -115.84\n",
      "6   189  161      1   71.8   24.16\n",
      "7    21  204      1  -96.2   67.16\n",
      "8   103   58      1  -14.2  -78.84\n",
      "9   122   22      1    4.8 -114.84\n",
      "10  211  236      1   93.8   99.16\n",
      "11  215   89      1   97.8  -47.84\n",
      "12   75   49      1  -42.2  -87.84\n",
      "13  203  219      1   85.8   82.16\n",
      "14   88   59      1  -29.2  -77.84\n",
      "15  117  170      1   -0.2   33.16\n",
      "16  100  220      1  -17.2   83.16\n",
      "17  104  188      1  -13.2   51.16\n",
      "18  152  208      1   34.8   71.16\n",
      "19  131   15      1   13.8 -121.84\n",
      "20  150  190      1   32.8   53.16\n",
      "21   53  190      1  -64.2   53.16\n",
      "22    2  175      1 -115.2   38.16\n",
      "23   88  190      1  -29.2   53.16\n",
      "24  236   51      1  118.8  -85.84\n"
     ]
    }
   ],
   "source": [
    "print(g1)"
   ]
  },
  {
   "cell_type": "code",
   "execution_count": 110,
   "id": "34cd50b3",
   "metadata": {},
   "outputs": [
    {
     "name": "stderr",
     "output_type": "stream",
     "text": [
      "C:\\Users\\Kavita manoj\\AppData\\Local\\Temp\\ipykernel_10076\\218547739.py:1: SettingWithCopyWarning: \n",
      "A value is trying to be set on a copy of a slice from a DataFrame.\n",
      "Try using .loc[row_indexer,col_indexer] = value instead\n",
      "\n",
      "See the caveats in the documentation: https://pandas.pydata.org/pandas-docs/stable/user_guide/indexing.html#returning-a-view-versus-a-copy\n",
      "  g2['nx1'] = g2['X1'] - mu21\n",
      "C:\\Users\\Kavita manoj\\AppData\\Local\\Temp\\ipykernel_10076\\218547739.py:2: SettingWithCopyWarning: \n",
      "A value is trying to be set on a copy of a slice from a DataFrame.\n",
      "Try using .loc[row_indexer,col_indexer] = value instead\n",
      "\n",
      "See the caveats in the documentation: https://pandas.pydata.org/pandas-docs/stable/user_guide/indexing.html#returning-a-view-versus-a-copy\n",
      "  g2['nx2'] = g2['X2'] - mu22\n"
     ]
    }
   ],
   "source": [
    "g2['nx1'] = g2['X1'] - mu21\n",
    "g2['nx2'] = g2['X2'] - mu22"
   ]
  },
  {
   "cell_type": "code",
   "execution_count": 111,
   "id": "c39e3db9",
   "metadata": {},
   "outputs": [
    {
     "name": "stdout",
     "output_type": "stream",
     "text": [
      "     X1   X2  Group     nx1     nx2\n",
      "25  358  438      2    1.96   65.92\n",
      "26  305  449      2  -51.04   76.92\n",
      "27  494  422      2  137.96   49.92\n",
      "28  314  258      2  -42.04 -114.08\n",
      "29  499  425      2  142.96   52.92\n",
      "30  381  285      2   24.96  -87.08\n",
      "31  479  456      2  122.96   83.92\n",
      "32  301  331      2  -55.04  -41.08\n",
      "33  385  414      2   28.96   41.92\n",
      "34  271  300      2  -85.04  -72.08\n",
      "35  323  354      2  -33.04  -18.08\n",
      "36  417  382      2   60.96    9.92\n",
      "37  268  252      2  -88.04 -120.08\n",
      "38  382  384      2   25.96   11.92\n",
      "39  339  304      2  -17.04  -68.08\n",
      "40  310  356      2  -46.04  -16.08\n",
      "41  264  254      2  -92.04 -118.08\n",
      "42  492  304      2  135.96  -68.08\n",
      "43  259  471      2  -97.04   98.92\n",
      "44  340  441      2  -16.04   68.92\n",
      "45  303  396      2  -53.04   23.92\n",
      "46  380  468      2   23.96   95.92\n",
      "47  334  294      2  -22.04  -78.08\n",
      "48  342  412      2  -14.04   39.92\n",
      "49  361  452      2    4.96   79.92\n"
     ]
    }
   ],
   "source": [
    "print(g2)"
   ]
  },
  {
   "cell_type": "code",
   "execution_count": 112,
   "id": "4608f3d6",
   "metadata": {},
   "outputs": [],
   "source": [
    "ng1 = g1.iloc[:, 3:5]\n",
    "ng2 = g2.iloc[:, 3:5]"
   ]
  },
  {
   "cell_type": "code",
   "execution_count": 113,
   "id": "7eb7647b",
   "metadata": {},
   "outputs": [
    {
     "name": "stdout",
     "output_type": "stream",
     "text": [
      "<class 'pandas.core.frame.DataFrame'>\n",
      "Index: 25 entries, 0 to 24\n",
      "Data columns (total 2 columns):\n",
      " #   Column  Non-Null Count  Dtype  \n",
      "---  ------  --------------  -----  \n",
      " 0   nx1     25 non-null     float64\n",
      " 1   nx2     25 non-null     float64\n",
      "dtypes: float64(2)\n",
      "memory usage: 600.0 bytes\n"
     ]
    }
   ],
   "source": [
    "ng1.info()"
   ]
  },
  {
   "cell_type": "code",
   "execution_count": 114,
   "id": "28649dd6",
   "metadata": {},
   "outputs": [],
   "source": [
    "## Calculating Within Class variability"
   ]
  },
  {
   "cell_type": "code",
   "execution_count": 115,
   "id": "1ea909f5",
   "metadata": {},
   "outputs": [
    {
     "name": "stdout",
     "output_type": "stream",
     "text": [
      "[[152.9952   -20.64672 ]\n",
      " [-20.64672  214.930176]]\n"
     ]
    }
   ],
   "source": [
    "sw1 = np.dot(ng1.T, ng1)/25\n",
    "print(sw1/25)"
   ]
  },
  {
   "cell_type": "code",
   "execution_count": 116,
   "id": "6398e118",
   "metadata": {},
   "outputs": [
    {
     "name": "stdout",
     "output_type": "stream",
     "text": [
      "[[203.291136  65.086272]\n",
      " [ 65.086272 205.884544]]\n"
     ]
    }
   ],
   "source": [
    "sw2 = np.dot(ng2.T, ng2)/25\n",
    "print(sw2/25)"
   ]
  },
  {
   "cell_type": "code",
   "execution_count": 117,
   "id": "6e53358d",
   "metadata": {},
   "outputs": [
    {
     "name": "stdout",
     "output_type": "stream",
     "text": [
      "[[ 8907.1584  1110.9888]\n",
      " [ 1110.9888 10520.368 ]]\n"
     ]
    }
   ],
   "source": [
    "sw = sw1 + sw2\n",
    "print(sw)"
   ]
  },
  {
   "cell_type": "code",
   "execution_count": 118,
   "id": "49f16c68",
   "metadata": {},
   "outputs": [
    {
     "name": "stdout",
     "output_type": "stream",
     "text": [
      "[[5.81481249 5.72716668]\n",
      " [4.72650102 4.65525917]]\n"
     ]
    }
   ],
   "source": [
    "A = np.dot(np.linalg.pinv(sw), sb)\n",
    "print(A)"
   ]
  },
  {
   "cell_type": "code",
   "execution_count": 144,
   "id": "692cc3f4",
   "metadata": {},
   "outputs": [],
   "source": [
    "eigvalues, eigvector = np.linalg.eig(A)"
   ]
  },
  {
   "cell_type": "code",
   "execution_count": 145,
   "id": "a5a314f9",
   "metadata": {},
   "outputs": [],
   "source": [
    "## Picking the highest Eigen Vector"
   ]
  },
  {
   "cell_type": "code",
   "execution_count": 149,
   "id": "cf559998",
   "metadata": {},
   "outputs": [],
   "source": [
    "high = eigvalues.argsort()[::-1]"
   ]
  },
  {
   "cell_type": "code",
   "execution_count": 152,
   "id": "1761e631",
   "metadata": {},
   "outputs": [
    {
     "name": "stdout",
     "output_type": "stream",
     "text": [
      "[10.47007166  0.        ]\n"
     ]
    }
   ],
   "source": [
    "eigvalues = eigvalues[high]\n",
    "print(eigvalues)\n",
    "eigvector = eigvector[:, high]\n",
    "eig = eigvector[:, :1]"
   ]
  },
  {
   "cell_type": "code",
   "execution_count": 123,
   "id": "e02f20b5",
   "metadata": {},
   "outputs": [],
   "source": [
    "## Calculating the scalar projection"
   ]
  },
  {
   "cell_type": "code",
   "execution_count": 124,
   "id": "597cf47d",
   "metadata": {},
   "outputs": [],
   "source": [
    "k = ng1.iloc[:, 0:2]\n",
    "l = ng2.iloc[:, 0:2]\n",
    "\n",
    "mult1 = np.dot(k, eig)\n",
    "mult2 = np.dot(l, eig)"
   ]
  },
  {
   "cell_type": "code",
   "execution_count": 125,
   "id": "e89e40fd",
   "metadata": {},
   "outputs": [],
   "source": [
    "proj_1 = mult1*eig.T\n",
    "proj_2 = mult2*eig.T"
   ]
  },
  {
   "cell_type": "code",
   "execution_count": 126,
   "id": "7f5b5195",
   "metadata": {},
   "outputs": [],
   "source": [
    "p1 = pd.DataFrame(proj_1)\n",
    "p2 = pd.DataFrame(proj_2)\n",
    "\n",
    "df_new = pd.concat([p1, p2])"
   ]
  },
  {
   "cell_type": "code",
   "execution_count": 127,
   "id": "44a627d3",
   "metadata": {},
   "outputs": [
    {
     "data": {
      "image/png": "[encoded data removed]",
      "text/plain": [
       "<Figure size 640x480 with 1 Axes>"
      ]
     },
     "metadata": {},
     "output_type": "display_data"
    }
   ],
   "source": [
    "plt.scatter(df_new.iloc[:, 0], df_new.iloc[:, 1], c = data.iloc[:, 2])\n",
    "plt.show()"
   ]
  },
  {
   "cell_type": "code",
   "execution_count": 128,
   "id": "6c4279c8",
   "metadata": {},
   "outputs": [
    {
     "data": {
      "text/html": [
       "<div>\n",
       "<style scoped>\n",
       "    .dataframe tbody tr th:only-of-type {\n",
       "        vertical-align: middle;\n",
       "    }\n",
       "\n",
       "    .dataframe tbody tr th {\n",
       "        vertical-align: top;\n",
       "    }\n",
       "\n",
       "    .dataframe thead th {\n",
       "        text-align: right;\n",
       "    }\n",
       "</style>\n",
       "<table border=\"1\" class=\"dataframe\">\n",
       "  <thead>\n",
       "    <tr style=\"text-align: right;\">\n",
       "      <th></th>\n",
       "      <th>X1</th>\n",
       "      <th>X2</th>\n",
       "    </tr>\n",
       "  </thead>\n",
       "  <tbody>\n",
       "    <tr>\n",
       "      <th>0</th>\n",
       "      <td>103</td>\n",
       "      <td>158</td>\n",
       "    </tr>\n",
       "    <tr>\n",
       "      <th>1</th>\n",
       "      <td>180</td>\n",
       "      <td>38</td>\n",
       "    </tr>\n",
       "    <tr>\n",
       "      <th>2</th>\n",
       "      <td>93</td>\n",
       "      <td>130</td>\n",
       "    </tr>\n",
       "    <tr>\n",
       "      <th>3</th>\n",
       "      <td>15</td>\n",
       "      <td>192</td>\n",
       "    </tr>\n",
       "    <tr>\n",
       "      <th>4</th>\n",
       "      <td>107</td>\n",
       "      <td>188</td>\n",
       "    </tr>\n",
       "  </tbody>\n",
       "</table>\n",
       "</div>"
      ],
      "text/plain": [
       "    X1   X2\n",
       "0  103  158\n",
       "1  180   38\n",
       "2   93  130\n",
       "3   15  192\n",
       "4  107  188"
      ]
     },
     "execution_count": 128,
     "metadata": {},
     "output_type": "execute_result"
    }
   ],
   "source": [
    "x = data.iloc[:, 0:2]\n",
    "x.head()"
   ]
  },
  {
   "cell_type": "code",
   "execution_count": 129,
   "id": "e06cd4d7",
   "metadata": {},
   "outputs": [
    {
     "data": {
      "text/plain": [
       "0    1\n",
       "1    1\n",
       "2    1\n",
       "3    1\n",
       "4    1\n",
       "Name: Group, dtype: int32"
      ]
     },
     "execution_count": 129,
     "metadata": {},
     "output_type": "execute_result"
    }
   ],
   "source": [
    "y = data.iloc[:, 2]\n",
    "y.head()"
   ]
  },
  {
   "cell_type": "code",
   "execution_count": 130,
   "id": "53f50892",
   "metadata": {},
   "outputs": [],
   "source": [
    "lda = LDA(n_components = 1)"
   ]
  },
  {
   "cell_type": "code",
   "execution_count": 131,
   "id": "b58b74a3",
   "metadata": {},
   "outputs": [],
   "source": [
    "lda_fit = lda.fit(x, y)\n",
    "lda_trans = lda.transform(x)\n",
    "lda_predict = lda.predict(x)"
   ]
  },
  {
   "cell_type": "code",
   "execution_count": 132,
   "id": "b3411b6d",
   "metadata": {},
   "outputs": [
    {
     "name": "stdout",
     "output_type": "stream",
     "text": [
      "[[25  0]\n",
      " [ 0 25]]\n",
      "Accuracy1.0\n"
     ]
    }
   ],
   "source": [
    "cm = confusion_matrix(y, lda_predict)  \n",
    "print(cm)  \n",
    "print('Accuracy' + str(accuracy_score(y, lda_predict))) "
   ]
  },
  {
   "cell_type": "code",
   "execution_count": null,
   "metadata": {},
   "outputs": [],
   "source": []
  }
 ],
 "metadata": {
  "kernelspec": {
   "display_name": "Python 3 (ipykernel)",
   "language": "python",
   "name": "python3"
  },
  "language_info": {
   "codemirror_mode": {
    "name": "ipython",
    "version": 3
   },
   "file_extension": ".py",
   "mimetype": "text/x-python",
   "name": "python",
   "nbconvert_exporter": "python",
   "pygments_lexer": "ipython3",
   "version": "3.11.5"
  }
 },
 "nbformat": 4,
 "nbformat_minor": 5
}
