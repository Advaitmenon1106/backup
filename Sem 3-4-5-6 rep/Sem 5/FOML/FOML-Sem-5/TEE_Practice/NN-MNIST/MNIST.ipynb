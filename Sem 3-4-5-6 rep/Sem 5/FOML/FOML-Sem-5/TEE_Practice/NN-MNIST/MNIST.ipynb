{
 "cells": [
  {
   "cell_type": "code",
   "execution_count": 1,
   "metadata": {},
   "outputs": [],
   "source": [
    "from tensorflow import keras\n",
    "from keras.datasets import mnist\n",
    "from keras.layers import Dense\n",
    "from keras.models import Sequential\n",
    "import numpy as np"
   ]
  },
  {
   "cell_type": "code",
   "execution_count": 2,
   "metadata": {},
   "outputs": [],
   "source": [
    "data = mnist.load_data()"
   ]
  },
  {
   "cell_type": "code",
   "execution_count": 3,
   "metadata": {},
   "outputs": [],
   "source": [
    "(xtrain, ytrain), (xtest, ytest) = data"
   ]
  },
  {
   "cell_type": "code",
   "execution_count": 5,
   "metadata": {},
   "outputs": [
    {
     "data": {
      "text/plain": [
       "(60000,)"
      ]
     },
     "execution_count": 5,
     "metadata": {},
     "output_type": "execute_result"
    }
   ],
   "source": [
    "ytrain.shape"
   ]
  },
  {
   "cell_type": "code",
   "execution_count": 5,
   "metadata": {},
   "outputs": [
    {
     "data": {
      "text/plain": [
       "((60000, 28, 28), (10000, 28, 28))"
      ]
     },
     "execution_count": 5,
     "metadata": {},
     "output_type": "execute_result"
    }
   ],
   "source": [
    "xtrain.shape, xtest.shape"
   ]
  },
  {
   "cell_type": "code",
   "execution_count": 7,
   "metadata": {},
   "outputs": [],
   "source": [
    "xtrain_input = xtrain.reshape(xtrain.shape[0], xtrain.shape[1]*xtrain.shape[2])\n",
    "yencoded = keras.utils.to_categorical(ytrain)"
   ]
  },
  {
   "cell_type": "code",
   "execution_count": 8,
   "metadata": {},
   "outputs": [
    {
     "data": {
      "text/plain": [
       "(60000, 10)"
      ]
     },
     "execution_count": 8,
     "metadata": {},
     "output_type": "execute_result"
    }
   ],
   "source": [
    "yencoded.shape"
   ]
  },
  {
   "cell_type": "code",
   "execution_count": 7,
   "metadata": {},
   "outputs": [],
   "source": [
    "model = Sequential(\n",
    "    [\n",
    "        Dense(128, input_shape=(xtrain_input.shape[1], ), activation='tanh'),\n",
    "        Dense(64, activation='relu'),\n",
    "        Dense(16, activation='relu'),\n",
    "        Dense(10, activation='softmax'),\n",
    "    ]\n",
    ")"
   ]
  },
  {
   "cell_type": "code",
   "execution_count": 8,
   "metadata": {},
   "outputs": [],
   "source": [
    "model.compile(optimizer='adam', loss='categorical_crossentropy', metrics=['accuracy'])"
   ]
  },
  {
   "cell_type": "code",
   "execution_count": 9,
   "metadata": {},
   "outputs": [
    {
     "name": "stdout",
     "output_type": "stream",
     "text": [
      "Epoch 1/50\n",
      "235/235 [==============================] - 5s 9ms/step - loss: 0.7961 - accuracy: 0.7396\n",
      "Epoch 2/50\n",
      "235/235 [==============================] - 2s 9ms/step - loss: 0.3763 - accuracy: 0.8846\n",
      "Epoch 3/50\n",
      "235/235 [==============================] - 2s 7ms/step - loss: 0.3279 - accuracy: 0.8997\n",
      "Epoch 4/50\n",
      "235/235 [==============================] - 2s 7ms/step - loss: 0.3012 - accuracy: 0.9077\n",
      "Epoch 5/50\n",
      "235/235 [==============================] - 2s 8ms/step - loss: 0.2858 - accuracy: 0.9115\n",
      "Epoch 6/50\n",
      "235/235 [==============================] - 2s 7ms/step - loss: 0.2719 - accuracy: 0.9146\n",
      "Epoch 7/50\n",
      "235/235 [==============================] - 2s 9ms/step - loss: 0.2554 - accuracy: 0.9208\n",
      "Epoch 8/50\n",
      "235/235 [==============================] - 2s 7ms/step - loss: 0.2356 - accuracy: 0.9268\n",
      "Epoch 9/50\n",
      "235/235 [==============================] - 2s 7ms/step - loss: 0.2319 - accuracy: 0.9265\n",
      "Epoch 10/50\n",
      "235/235 [==============================] - 2s 8ms/step - loss: 0.2264 - accuracy: 0.9287\n",
      "Epoch 11/50\n",
      "235/235 [==============================] - 2s 7ms/step - loss: 0.2122 - accuracy: 0.9335\n",
      "Epoch 12/50\n",
      "235/235 [==============================] - 2s 7ms/step - loss: 0.2330 - accuracy: 0.9262\n",
      "Epoch 13/50\n",
      "235/235 [==============================] - 2s 9ms/step - loss: 0.2202 - accuracy: 0.9308\n",
      "Epoch 14/50\n",
      "235/235 [==============================] - 2s 8ms/step - loss: 0.2123 - accuracy: 0.9329\n",
      "Epoch 15/50\n",
      "235/235 [==============================] - 2s 9ms/step - loss: 0.2102 - accuracy: 0.9332\n",
      "Epoch 16/50\n",
      "235/235 [==============================] - 2s 10ms/step - loss: 0.2028 - accuracy: 0.9357\n",
      "Epoch 17/50\n",
      "235/235 [==============================] - 2s 10ms/step - loss: 0.2013 - accuracy: 0.9368\n",
      "Epoch 18/50\n",
      "235/235 [==============================] - 2s 10ms/step - loss: 0.2016 - accuracy: 0.9372\n",
      "Epoch 19/50\n",
      "235/235 [==============================] - 2s 8ms/step - loss: 0.1920 - accuracy: 0.9392\n",
      "Epoch 20/50\n",
      "235/235 [==============================] - 2s 7ms/step - loss: 0.2025 - accuracy: 0.9352\n",
      "Epoch 21/50\n",
      "235/235 [==============================] - 2s 9ms/step - loss: 0.1956 - accuracy: 0.9372\n",
      "Epoch 22/50\n",
      "235/235 [==============================] - 2s 8ms/step - loss: 0.1813 - accuracy: 0.9408\n",
      "Epoch 23/50\n",
      "235/235 [==============================] - 2s 7ms/step - loss: 0.1754 - accuracy: 0.9449\n",
      "Epoch 24/50\n",
      "235/235 [==============================] - 2s 8ms/step - loss: 0.1781 - accuracy: 0.9428\n",
      "Epoch 25/50\n",
      "235/235 [==============================] - 2s 8ms/step - loss: 0.1650 - accuracy: 0.9465\n",
      "Epoch 26/50\n",
      "235/235 [==============================] - 2s 9ms/step - loss: 0.1690 - accuracy: 0.9462\n",
      "Epoch 27/50\n",
      "235/235 [==============================] - 2s 8ms/step - loss: 0.1654 - accuracy: 0.9466\n",
      "Epoch 28/50\n",
      "235/235 [==============================] - 2s 8ms/step - loss: 0.1658 - accuracy: 0.9468\n",
      "Epoch 29/50\n",
      "235/235 [==============================] - 2s 7ms/step - loss: 0.1718 - accuracy: 0.9457\n",
      "Epoch 30/50\n",
      "235/235 [==============================] - 2s 8ms/step - loss: 0.1714 - accuracy: 0.9452\n",
      "Epoch 31/50\n",
      "235/235 [==============================] - 2s 10ms/step - loss: 0.1777 - accuracy: 0.9443\n",
      "Epoch 32/50\n",
      "235/235 [==============================] - 2s 10ms/step - loss: 0.1726 - accuracy: 0.9450\n",
      "Epoch 33/50\n",
      "235/235 [==============================] - 2s 10ms/step - loss: 0.1685 - accuracy: 0.9470\n",
      "Epoch 34/50\n",
      "235/235 [==============================] - 2s 9ms/step - loss: 0.1683 - accuracy: 0.9467\n",
      "Epoch 35/50\n",
      "235/235 [==============================] - 2s 9ms/step - loss: 0.1722 - accuracy: 0.9454\n",
      "Epoch 36/50\n",
      "235/235 [==============================] - 2s 9ms/step - loss: 0.1768 - accuracy: 0.9429\n",
      "Epoch 37/50\n",
      "235/235 [==============================] - 2s 7ms/step - loss: 0.1656 - accuracy: 0.9471\n",
      "Epoch 38/50\n",
      "235/235 [==============================] - 2s 7ms/step - loss: 0.1613 - accuracy: 0.9488\n",
      "Epoch 39/50\n",
      "235/235 [==============================] - 2s 7ms/step - loss: 0.1568 - accuracy: 0.9499\n",
      "Epoch 40/50\n",
      "235/235 [==============================] - 2s 7ms/step - loss: 0.1550 - accuracy: 0.9516\n",
      "Epoch 41/50\n",
      "235/235 [==============================] - 2s 7ms/step - loss: 0.1501 - accuracy: 0.9526\n",
      "Epoch 42/50\n",
      "235/235 [==============================] - 2s 7ms/step - loss: 0.1564 - accuracy: 0.9505\n",
      "Epoch 43/50\n",
      "235/235 [==============================] - 2s 7ms/step - loss: 0.1579 - accuracy: 0.9499\n",
      "Epoch 44/50\n",
      "235/235 [==============================] - 2s 8ms/step - loss: 0.1564 - accuracy: 0.9507\n",
      "Epoch 45/50\n",
      "235/235 [==============================] - 2s 7ms/step - loss: 0.1490 - accuracy: 0.9525\n",
      "Epoch 46/50\n",
      "235/235 [==============================] - 2s 8ms/step - loss: 0.1545 - accuracy: 0.9499\n",
      "Epoch 47/50\n",
      "235/235 [==============================] - 2s 7ms/step - loss: 0.1477 - accuracy: 0.9521\n",
      "Epoch 48/50\n",
      "235/235 [==============================] - 2s 8ms/step - loss: 0.1460 - accuracy: 0.9522\n",
      "Epoch 49/50\n",
      "235/235 [==============================] - 2s 7ms/step - loss: 0.1461 - accuracy: 0.9531\n",
      "Epoch 50/50\n",
      "235/235 [==============================] - 2s 7ms/step - loss: 0.1398 - accuracy: 0.9547\n"
     ]
    },
    {
     "data": {
      "text/plain": [
       "<keras.src.callbacks.History at 0x23eb78c4050>"
      ]
     },
     "execution_count": 9,
     "metadata": {},
     "output_type": "execute_result"
    }
   ],
   "source": [
    "model.fit(xtrain_input, yencoded, epochs=50, batch_size=256)"
   ]
  },
  {
   "cell_type": "code",
   "execution_count": 10,
   "metadata": {},
   "outputs": [
    {
     "name": "stdout",
     "output_type": "stream",
     "text": [
      "313/313 [==============================] - 2s 4ms/step - loss: 0.1570 - accuracy: 0.9513\n"
     ]
    },
    {
     "data": {
      "text/plain": [
       "[0.15700848400592804, 0.9513000249862671]"
      ]
     },
     "execution_count": 10,
     "metadata": {},
     "output_type": "execute_result"
    }
   ],
   "source": [
    "model.evaluate(xtest.reshape(xtest.shape[0], xtest.shape[1]*xtest.shape[2]), keras.utils.to_categorical(ytest))"
   ]
  },
  {
   "cell_type": "code",
   "execution_count": 11,
   "metadata": {},
   "outputs": [],
   "source": [
    "from sklearn.metrics import confusion_matrix\n",
    "\n",
    "\n",
    "# confusion_matrix(keras.utils.to_categorical(ytest), model.predict(xtest.reshape(xtest.shape[0], xtest.shape[1]*xtest.shape[2])).round())"
   ]
  },
  {
   "cell_type": "code",
   "execution_count": 12,
   "metadata": {},
   "outputs": [
    {
     "name": "stdout",
     "output_type": "stream",
     "text": [
      "1875/1875 [==============================] - 8s 4ms/step\n"
     ]
    }
   ],
   "source": [
    "ypredict = keras.utils.to_ordinal(model.predict(xtrain_input).round())"
   ]
  },
  {
   "cell_type": "code",
   "execution_count": 13,
   "metadata": {},
   "outputs": [
    {
     "name": "stdout",
     "output_type": "stream",
     "text": [
      "1875/1875 [==============================] - 8s 4ms/step\n"
     ]
    }
   ],
   "source": [
    "import tensorflow as tf\n",
    "label = tf.argmax(model.predict(xtrain_input).round(), axis=1)"
   ]
  },
  {
   "cell_type": "code",
   "execution_count": 14,
   "metadata": {},
   "outputs": [],
   "source": [
    "label_pred = label.numpy()"
   ]
  },
  {
   "cell_type": "code",
   "execution_count": 15,
   "metadata": {},
   "outputs": [],
   "source": [
    "cf = confusion_matrix(ytrain, label_pred)"
   ]
  },
  {
   "cell_type": "code",
   "execution_count": 16,
   "metadata": {},
   "outputs": [],
   "source": [
    "sum = 0\n",
    "for i in range (0, 10):\n",
    "    sum+=cf[i][i]"
   ]
  },
  {
   "cell_type": "code",
   "execution_count": 17,
   "metadata": {},
   "outputs": [],
   "source": [
    "accuracy = (sum/(cf.sum()))*100"
   ]
  },
  {
   "cell_type": "code",
   "execution_count": 18,
   "metadata": {},
   "outputs": [
    {
     "data": {
      "text/plain": [
       "95.43166666666667"
      ]
     },
     "execution_count": 18,
     "metadata": {},
     "output_type": "execute_result"
    }
   ],
   "source": [
    "accuracy"
   ]
  },
  {
   "cell_type": "code",
   "execution_count": 19,
   "metadata": {},
   "outputs": [],
   "source": [
    "from sklearn.discriminant_analysis import LinearDiscriminantAnalysis\n",
    "\n",
    "\n",
    "lda_model = LinearDiscriminantAnalysis()\n",
    "lda_model_fit = lda_model.fit(xtrain_input, ytrain)"
   ]
  },
  {
   "cell_type": "code",
   "execution_count": 20,
   "metadata": {},
   "outputs": [],
   "source": [
    "lda_pred = lda_model_fit.predict(xtest.reshape(xtest.shape[0], xtest.shape[1]*xtest.shape[2]))"
   ]
  },
  {
   "cell_type": "code",
   "execution_count": 21,
   "metadata": {},
   "outputs": [],
   "source": [
    "cf2 = confusion_matrix(ytest, lda_pred)"
   ]
  },
  {
   "cell_type": "code",
   "execution_count": 22,
   "metadata": {},
   "outputs": [],
   "source": [
    "sum2 = 0\n",
    "for i in range (0, 10):\n",
    "    sum2+=cf2[i][i]"
   ]
  },
  {
   "cell_type": "code",
   "execution_count": 23,
   "metadata": {},
   "outputs": [
    {
     "data": {
      "text/plain": [
       "0.873"
      ]
     },
     "execution_count": 23,
     "metadata": {},
     "output_type": "execute_result"
    }
   ],
   "source": [
    "sum2/cf2.sum()"
   ]
  },
  {
   "cell_type": "code",
   "execution_count": 24,
   "metadata": {},
   "outputs": [],
   "source": [
    "a = np.array([[1, 2, 3], [4, 5, 6]])"
   ]
  },
  {
   "cell_type": "code",
   "execution_count": 25,
   "metadata": {},
   "outputs": [
    {
     "data": {
      "text/plain": [
       "array([[1, 2],\n",
       "       [3, 4],\n",
       "       [5, 6]])"
      ]
     },
     "execution_count": 25,
     "metadata": {},
     "output_type": "execute_result"
    }
   ],
   "source": [
    "a.reshape(3, 2)"
   ]
  },
  {
   "cell_type": "code",
   "execution_count": 26,
   "metadata": {},
   "outputs": [
    {
     "data": {
      "text/plain": [
       "array([[1, 2, 3],\n",
       "       [4, 5, 6]])"
      ]
     },
     "execution_count": 26,
     "metadata": {},
     "output_type": "execute_result"
    }
   ],
   "source": [
    "a"
   ]
  },
  {
   "cell_type": "code",
   "execution_count": 33,
   "metadata": {},
   "outputs": [],
   "source": [
    "from sklearn.decomposition import PCA\n",
    "\n",
    "\n",
    "pca = PCA(n_components=300)\n",
    "model_pca = pca.fit(xtrain_input, ytrain)"
   ]
  },
  {
   "cell_type": "code",
   "execution_count": 67,
   "metadata": {},
   "outputs": [
    {
     "data": {
      "text/plain": [
       "array([0.09704664, 0.07095924, 0.06169089, 0.05389419, 0.04868797,\n",
       "       0.04312231, 0.0327193 , 0.02883895, 0.02762029, 0.02357001,\n",
       "       0.0210919 , 0.02022991, 0.01715818, 0.01692111, 0.01578641,\n",
       "       0.01482953, 0.01324561, 0.01276897, 0.01187263, 0.01152684,\n",
       "       0.01066166, 0.01006713, 0.00953573, 0.00912544, 0.00883405,\n",
       "       0.00839319, 0.00812579, 0.00786366, 0.00744733, 0.00690859,\n",
       "       0.00658094, 0.00648148, 0.00602615, 0.00586582, 0.00570021,\n",
       "       0.00543628, 0.00505786, 0.00487859, 0.00481429, 0.00472266,\n",
       "       0.00456747, 0.00444836, 0.00418501, 0.00398215, 0.00384975,\n",
       "       0.00375103, 0.00362009, 0.00351591, 0.00340058, 0.00321874,\n",
       "       0.00319017, 0.00312805, 0.00295983, 0.00288955, 0.0028413 ,\n",
       "       0.00271436, 0.00269521, 0.00258473, 0.00253771, 0.00244781,\n",
       "       0.00240506, 0.00239263, 0.00230408, 0.00221532, 0.00213721,\n",
       "       0.00207225, 0.00203043, 0.00196783, 0.00192853, 0.00188632,\n",
       "       0.00186977, 0.00181083, 0.00177562, 0.00174898, 0.00165758,\n",
       "       0.00163894, 0.00161462, 0.00155116, 0.00147613, 0.00143176,\n",
       "       0.00142094, 0.00141153, 0.00140174, 0.00135736, 0.00133847,\n",
       "       0.00132396, 0.00130157, 0.00125873, 0.00122828, 0.00121584,\n",
       "       0.00117034, 0.00114874, 0.00113244, 0.00110886, 0.00109002,\n",
       "       0.00106923, 0.00104196, 0.00104007, 0.00101256, 0.00100527,\n",
       "       0.00098402, 0.00094969, 0.00094134, 0.00091617, 0.00090785,\n",
       "       0.00089687, 0.00086539, 0.00085517, 0.00084562, 0.0008225 ,\n",
       "       0.00079158, 0.00078594, 0.00078461, 0.00076883, 0.00076402,\n",
       "       0.00075309, 0.00073678, 0.00072713, 0.00071965, 0.00070682,\n",
       "       0.00069542, 0.00069216, 0.0006833 , 0.00067406, 0.00066688,\n",
       "       0.00064527, 0.00063559, 0.00063165, 0.00062293, 0.00060529,\n",
       "       0.00060359, 0.00059448, 0.00058831, 0.00058652, 0.00058134,\n",
       "       0.00057683, 0.00056537, 0.00055476, 0.00053517, 0.00052592,\n",
       "       0.00052509, 0.00051026, 0.00050297, 0.00050108, 0.00049871,\n",
       "       0.00049107, 0.00048554, 0.00048284, 0.00047401, 0.00046835,\n",
       "       0.0004666 , 0.00046333, 0.00045929, 0.00045038, 0.00044881,\n",
       "       0.00044271, 0.00043667, 0.00042744, 0.00042498, 0.00042201,\n",
       "       0.00041551, 0.00040963, 0.00040082, 0.00039788, 0.00039407,\n",
       "       0.00039049, 0.00038584, 0.00037977, 0.00037889, 0.00037393,\n",
       "       0.0003694 , 0.00036512, 0.0003638 , 0.00035986, 0.00035461,\n",
       "       0.00035287, 0.00034726, 0.00034593, 0.00034142, 0.00033762,\n",
       "       0.00033707, 0.00033016, 0.0003283 , 0.00032584, 0.0003229 ,\n",
       "       0.00032124, 0.00031726, 0.00031613, 0.00031089, 0.00030951,\n",
       "       0.00030594, 0.0003032 , 0.00030233, 0.00030143, 0.0002966 ,\n",
       "       0.00029565, 0.00029339, 0.00029256, 0.00028759, 0.00028419,\n",
       "       0.00028185, 0.00027897, 0.00027566, 0.00027241, 0.00026929,\n",
       "       0.00026755, 0.00026493, 0.00026414, 0.00026175, 0.0002593 ,\n",
       "       0.0002583 , 0.00025671, 0.00025449, 0.0002525 , 0.00025205,\n",
       "       0.00024936, 0.00024824, 0.00024587, 0.00024367, 0.00024166,\n",
       "       0.00024054, 0.00024005, 0.00023802, 0.00023658, 0.00023236,\n",
       "       0.00023089, 0.0002297 , 0.0002277 , 0.00022707, 0.00022221,\n",
       "       0.00022131, 0.00021977, 0.00021709, 0.00021601, 0.00021452,\n",
       "       0.00021323, 0.00021197, 0.00020937, 0.00020884, 0.000206  ,\n",
       "       0.00020389, 0.00020253, 0.00020057, 0.0001997 , 0.0001981 ,\n",
       "       0.00019675, 0.00019484, 0.00019291, 0.00019154, 0.00019062,\n",
       "       0.00019056, 0.00018791, 0.00018575, 0.00018502, 0.00018431,\n",
       "       0.00018351, 0.00018191, 0.00018048, 0.00017918, 0.00017811,\n",
       "       0.0001755 , 0.00017463, 0.0001732 , 0.0001716 , 0.00017107,\n",
       "       0.00017047, 0.00016909, 0.00016779, 0.00016542, 0.00016499,\n",
       "       0.00016423, 0.00016358, 0.00016129, 0.00016061, 0.00015896,\n",
       "       0.000158  , 0.00015738, 0.00015602, 0.00015534, 0.00015397,\n",
       "       0.00015249, 0.00015097, 0.00014858, 0.00014805, 0.00014747,\n",
       "       0.0001458 , 0.00014505, 0.00014346, 0.00014271, 0.00013942,\n",
       "       0.00013793, 0.00013706, 0.00013595, 0.00013499, 0.00013419,\n",
       "       0.00013265, 0.00013105, 0.00013058, 0.00012833, 0.00012719])"
      ]
     },
     "execution_count": 67,
     "metadata": {},
     "output_type": "execute_result"
    }
   ],
   "source": [
    "eigenfaces = model_pca.components_\n",
    "model_pca.explained_variance_ratio_"
   ]
  },
  {
   "cell_type": "code",
   "execution_count": 71,
   "metadata": {},
   "outputs": [
    {
     "data": {
      "text/plain": [
       "<matplotlib.image.AxesImage at 0x23ebf23f2d0>"
      ]
     },
     "execution_count": 71,
     "metadata": {},
     "output_type": "execute_result"
    },
    {
     "data": {
      "image/png": "[encoded data removed]",
      "text/plain": [
       "<Figure size 640x480 with 1 Axes>"
      ]
     },
     "metadata": {},
     "output_type": "display_data"
    }
   ],
   "source": [
    "import matplotlib.pyplot as plt\n",
    "\n",
    "plt.imshow(model_pca.components_[1].reshape(28, 28), cmap=plt.bone())"
   ]
  },
  {
   "cell_type": "code",
   "execution_count": 60,
   "metadata": {},
   "outputs": [
    {
     "data": {
      "text/plain": [
       "<matplotlib.image.AxesImage at 0x23eb8ffd050>"
      ]
     },
     "execution_count": 60,
     "metadata": {},
     "output_type": "execute_result"
    },
    {
     "data": {
      "image/png": "[encoded data removed]",
      "text/plain": [
       "<Figure size 640x480 with 1 Axes>"
      ]
     },
     "metadata": {},
     "output_type": "display_data"
    }
   ],
   "source": [
    "plt.imshow(xtrain[3])"
   ]
  },
  {
   "cell_type": "code",
   "execution_count": null,
   "metadata": {},
   "outputs": [],
   "source": []
  }
 ],
 "metadata": {
  "kernelspec": {
   "display_name": "Python 3",
   "language": "python",
   "name": "python3"
  },
  "language_info": {
   "codemirror_mode": {
    "name": "ipython",
    "version": 3
   },
   "file_extension": ".py",
   "mimetype": "text/x-python",
   "name": "python",
   "nbconvert_exporter": "python",
   "pygments_lexer": "ipython3",
   "version": "3.11.5"
  }
 },
 "nbformat": 4,
 "nbformat_minor": 2
}
