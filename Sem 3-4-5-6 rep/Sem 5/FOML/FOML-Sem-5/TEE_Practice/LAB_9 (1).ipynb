{
 "cells": [
  {
   "cell_type": "code",
   "execution_count": 5,
   "id": "90f1773e",
   "metadata": {},
   "outputs": [
    {
     "name": "stdout",
     "output_type": "stream",
     "text": [
      "(10, 2)\n",
      "\n",
      "[1.81 1.91]\n",
      "[[ 0.69  0.49]\n",
      " [-1.31 -1.21]\n",
      " [ 0.39  0.99]\n",
      " [ 0.09  0.29]\n",
      " [ 1.29  1.09]\n",
      " [ 0.49  0.79]\n",
      " [ 0.19 -0.31]\n",
      " [-0.81 -0.81]\n",
      " [-0.31 -0.31]\n",
      " [-0.71 -1.01]]\n"
     ]
    }
   ],
   "source": [
    "from numpy import array\n",
    "from numpy import mean\n",
    "from numpy import cov\n",
    "from numpy.linalg import eig\n",
    "# define a matrix\n",
    "A = array([[2.5, 2.4], [0.5, 0.7], [2.2, 2.9],[1.9,2.2],[3.1,3],[2.3,2.7],[2,1.6],[1,1.1],[1.5,1.6],[1.1,0.9]])\n",
    "print(A.shape)\n",
    "# calculate the mean of each column\n",
    "M = mean(A.T, axis=1)\n",
    "print()\n",
    "print(M)\n",
    "# center columns by subtracting column means\n",
    "C = A - M\n",
    "print(C)\n",
    "import matplotlib.pyplot as plt"
   ]
  },
  {
   "cell_type": "code",
   "execution_count": 6,
   "id": "a7cf1856",
   "metadata": {},
   "outputs": [
    {
     "data": {
      "text/plain": [
       "<matplotlib.collections.PathCollection at 0x155b08e1d00>"
      ]
     },
     "execution_count": 6,
     "metadata": {},
     "output_type": "execute_result"
    },
    {
     "data": {
      "image/png": "[encoded data removed]",
      "text/plain": [
       "<Figure size 432x288 with 1 Axes>"
      ]
     },
     "metadata": {
      "needs_background": "light"
     },
     "output_type": "display_data"
    }
   ],
   "source": [
    "#The first argument (C[:,0]) represents the x-coordinates of the points,\n",
    "#and the second argument (C[:,1]) represents the y-coordinates of the points.\n",
    "#Each pair (C[i,0], C[i,1]) represents a point in the scatter plot.\n",
    "\n",
    "plt.scatter(C[:,0],C[:,1])"
   ]
  },
  {
   "cell_type": "markdown",
   "id": "4eabef0e",
   "metadata": {},
   "source": [
    "Here's why transposition might be necessary in below line:\n",
    "\n",
    "1. Orientation of Variables and Observations:\n",
    "\n",
    "In the original matrix CC, rows represent observations (different data points) and columns represent variables (different features or characteristics). This orientation is common in datasets.\n",
    "        \n",
    "However, the cov() function in NumPy calculates the covariance between rows, not columns. So, if you pass CC directly to cov(), it would calculate the covariance between observations, not variables, which might not be the desired behavior in many cases.\n",
    "\n",
    "2. Transposition for Variable-wise Covariance:\n",
    "        \n",
    "By transposing CC (i.e., using C.TC.T), you change the orientation so that rows now represent variables and columns represent observations.\n",
    "        \n",
    "Calculating the covariance of the transposed matrix (C.TC.T) gives you the covariance matrix between variables, which is what you typically want in data analysis: understanding how different variables (features) relate to each other across different observations (data points)."
   ]
  },
  {
   "cell_type": "code",
   "execution_count": 7,
   "id": "51260562",
   "metadata": {},
   "outputs": [
    {
     "name": "stdout",
     "output_type": "stream",
     "text": [
      "[[0.61655556 0.61544444]\n",
      " [0.61544444 0.71655556]]\n"
     ]
    }
   ],
   "source": [
    "# calculate covariance matrix of centered matrix\n",
    "\n",
    "V = cov(C.T)\n",
    "print(V)"
   ]
  },
  {
   "cell_type": "markdown",
   "id": "e83fd660",
   "metadata": {},
   "source": [
    "how argsort() and -1 works\n",
    "For example, if eigvalues initially was [3, 1, 2], argsort() would return [1, 2, 0] because the second element (index 1) is the smallest, followed by the third element (index 2), and then the first element (index 0) is the largest. By adding [::-1], the array is reversed, so idx will be [0, 2, 1]"
   ]
  },
  {
   "cell_type": "code",
   "execution_count": 8,
   "id": "cf9e5329",
   "metadata": {},
   "outputs": [],
   "source": [
    "##Calculate eigvector(V) for projection\n",
    "import numpy as np\n",
    "\n",
    "##calculates the eigenvalues and eigenvectors of the covariance matrix VV\n",
    "eigvalues,eigvector=np.linalg.eig(V) \n",
    "\n",
    "##Pick the higest Eign vector\n",
    "# below, sorts the eigenvalues in descending order, argsort() returns the indices,\n",
    "#idx will hold an array of indices\n",
    "\n",
    "idx = eigvalues.argsort()[::-1]   \n",
    "eigvalues = eigvalues[idx]\n",
    "eigvector= eigvector[:,idx]\n",
    "\n",
    "eig1=eigvector[:,:1] \n",
    "# selects the first column (the first eigenvector) from the rearranged eigenvector matrix\n",
    "#eig1 now contains the eigenvector corresponding to the largest eigenvalue\n",
    "\n",
    "eig2=eigvector[:,1:]\n",
    "#selects all columns starting from the second column\n",
    "#eig2 contains eigenvectors corresponding to eigenvalues other than the largest one"
   ]
  },
  {
   "cell_type": "code",
   "execution_count": 12,
   "id": "fd9b3840",
   "metadata": {},
   "outputs": [
    {
     "name": "stdout",
     "output_type": "stream",
     "text": [
      "[[-0.6778734  -0.73517866]\n",
      " [-0.73517866  0.6778734 ]]\n",
      "\n",
      "[1.28402771 0.0490834 ]\n",
      "\n",
      "[[-0.6778734 ]\n",
      " [-0.73517866]]\n",
      "\n",
      "[[-0.73517866]\n",
      " [ 0.6778734 ]]\n"
     ]
    }
   ],
   "source": [
    "print(eigvector)\n",
    "\n",
    "print()\n",
    "\n",
    "print(eigvalues)\n",
    "\n",
    "print()\n",
    "\n",
    "print(eig1)\n",
    "print()\n",
    "print(eig2)"
   ]
  },
  {
   "cell_type": "code",
   "execution_count": 13,
   "id": "c691caae",
   "metadata": {},
   "outputs": [
    {
     "name": "stdout",
     "output_type": "stream",
     "text": [
      "[[-0.82797019 -0.17511531]\n",
      " [ 1.77758033  0.14285723]\n",
      " [-0.99219749  0.38437499]\n",
      " [-0.27421042  0.13041721]\n",
      " [-1.67580142 -0.20949846]\n",
      " [-0.9129491   0.17528244]\n",
      " [ 0.09910944 -0.3498247 ]\n",
      " [ 1.14457216  0.04641726]\n",
      " [ 0.43804614  0.01776463]\n",
      " [ 1.22382056 -0.16267529]]\n"
     ]
    },
    {
     "data": {
      "text/plain": [
       "<matplotlib.collections.PathCollection at 0x155b2a31a60>"
      ]
     },
     "execution_count": 13,
     "metadata": {},
     "output_type": "execute_result"
    },
    {
     "data": {
      "image/png": "[encoded data removed]",
      "text/plain": [
       "<Figure size 432x288 with 1 Axes>"
      ]
     },
     "metadata": {
      "needs_background": "light"
     },
     "output_type": "display_data"
    }
   ],
   "source": [
    "#This projection results in a new 1-dimensional array (Z1) where each element represents \n",
    "#a projection of the original data onto the first principal component.\n",
    "\n",
    "Z1=np.dot(C,eig1)\n",
    "\n",
    "#projection of the original data onto the second principal component.\n",
    "\n",
    "Z2=np.dot(C,eig2)\n",
    "\n",
    "#Z is a 10x2 matrix where each row represents the projection of the original data onto the \n",
    "#principal components represented by the columns of eigvector.\n",
    "\n",
    "Z=np.dot(C,eigvector)\n",
    "print(Z) #matrix Z, showing how the original data has been projected onto the principal components\n",
    "\n",
    "#Multiplying Z1 (1-dimensional array) with eig1.T effectively scales the first principal component\n",
    "#back to the original feature space. PC1 represents the reconstruction of the original data \n",
    "#based on the first principal component.\n",
    "\n",
    "PC1=Z1*eig1.T\n",
    "\n",
    "#PC2 represents the reconstruction of the original data based on the second principal component.\n",
    "\n",
    "PC2=Z2*eig2.T\n",
    "\n",
    "plt.scatter(PC1[:,0],PC1[:,1]) #scatter plot of the first principal component scores\n",
    "plt.scatter(PC2[:,0],PC2[:,1])"
   ]
  },
  {
   "cell_type": "markdown",
   "id": "0ea598ef",
   "metadata": {},
   "source": [
    "In summary, the code performs a PCA by projecting the original data onto its principal components, then reconstructs the data back into the original feature space using these components, and finally, visualizes the reconstructed data using scatter plots."
   ]
  },
  {
   "cell_type": "code",
   "execution_count": 9,
   "id": "d63a0f55",
   "metadata": {},
   "outputs": [
    {
     "name": "stdout",
     "output_type": "stream",
     "text": [
      "[[-0.6778734  -0.73517866]\n",
      " [-0.73517866  0.6778734 ]]\n"
     ]
    }
   ],
   "source": [
    "##Pca through numpy\n",
    "import numpy as np\n",
    "from sklearn.decomposition import PCA\n",
    "pca = PCA()\n",
    "\n",
    "# Fits the PCA model to the dataset A. During this step, PCA calculates the \n",
    "#principal components and eigenvalues necessary for the transformation.\n",
    "\n",
    "pca.fit(A)\n",
    "# access values and vectors\n",
    "#Prints the principal components. pca.components_ is a matrix where each row represents \n",
    "#a principal component. Transposing it (.T) makes it so that each column represents \n",
    "#a principal component\n",
    "\n",
    "print(pca.components_.T)  "
   ]
  },
  {
   "cell_type": "code",
   "execution_count": 16,
   "id": "fafbfac7",
   "metadata": {},
   "outputs": [
    {
     "name": "stdout",
     "output_type": "stream",
     "text": [
      "[1.28402771 0.0490834 ]\n",
      "\n",
      "[[-0.82797019 -0.17511531]\n",
      " [ 1.77758033  0.14285723]\n",
      " [-0.99219749  0.38437499]\n",
      " [-0.27421042  0.13041721]\n",
      " [-1.67580142 -0.20949846]\n",
      " [-0.9129491   0.17528244]\n",
      " [ 0.09910944 -0.3498247 ]\n",
      " [ 1.14457216  0.04641726]\n",
      " [ 0.43804614  0.01776463]\n",
      " [ 1.22382056 -0.16267529]]\n"
     ]
    }
   ],
   "source": [
    "#prints the eigenvalues of the covariance matrix, which represent the amount of variance\n",
    "#captured by each principal component. The eigenvalues are in descending orde\n",
    "\n",
    "print(pca.explained_variance_)   ##will output the eigenvalues.\n",
    "# transform data\n",
    "B = pca.transform(A) # transformed data B represents the original data projected onto the principal components.\n",
    "print()\n",
    "print(B)   ##Length of vector projection\n",
    "\n",
    "#length of each row in B (i.e., the number of columns in B) represents the number of principal\n",
    "#components you chose to keep during PCA. Each column in B corresponds to a different principal\n",
    "#component, and the values in each column represent the projection of the data points onto that\n",
    "#specific principal component."
   ]
  },
  {
   "cell_type": "markdown",
   "id": "ad46bc17",
   "metadata": {},
   "source": [
    "pca.explained_variance_ contains the eigenvalues (variances) of the principal components.\n",
    "np.sum(pca.explained_variance_) calculates the total variance.\n",
    "Dividing each eigenvalue by the total variance gives the proportion of variance explained by each principal component.\n",
    "\n",
    "The explained_variance_ratio_ attribute is provided by scikit-learn and automatically computes the ratio of each principal component's variance to the total variance, giving values between 0 and 1."
   ]
  },
  {
   "cell_type": "code",
   "execution_count": 15,
   "id": "4ef0862e",
   "metadata": {},
   "outputs": [
    {
     "name": "stdout",
     "output_type": "stream",
     "text": [
      "[0.96318131 0.03681869]\n",
      "\n",
      "[0.96318131 0.03681869]\n"
     ]
    }
   ],
   "source": [
    "\n",
    "#calculates the proportion of variance explained by each principal component. \n",
    "print(pca.explained_variance_/np.sum(pca.explained_variance_))\n",
    "print()\n",
    "print(pca.explained_variance_ratio_)"
   ]
  },
  {
   "cell_type": "code",
   "execution_count": 17,
   "id": "bfe4b332",
   "metadata": {},
   "outputs": [],
   "source": [
    "##Do PCA on iris data set and findout how many componets capture 90% variability"
   ]
  },
  {
   "cell_type": "code",
   "execution_count": null,
   "id": "1b59ba78",
   "metadata": {},
   "outputs": [],
   "source": []
  }
 ],
 "metadata": {
  "kernelspec": {
   "display_name": "Python 3 (ipykernel)",
   "language": "python",
   "name": "python3"
  },
  "language_info": {
   "codemirror_mode": {
    "name": "ipython",
    "version": 3
   },
   "file_extension": ".py",
   "mimetype": "text/x-python",
   "name": "python",
   "nbconvert_exporter": "python",
   "pygments_lexer": "ipython3",
   "version": "3.9.12"
  }
 },
 "nbformat": 4,
 "nbformat_minor": 5
}
