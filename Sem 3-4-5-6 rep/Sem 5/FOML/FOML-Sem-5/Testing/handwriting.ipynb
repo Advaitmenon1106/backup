{
 "cells": [
  {
   "cell_type": "code",
   "execution_count": 40,
   "metadata": {},
   "outputs": [],
   "source": [
    "import matplotlib.pyplot as plt\n",
    "import numpy as np"
   ]
  },
  {
   "cell_type": "code",
   "execution_count": 70,
   "metadata": {},
   "outputs": [],
   "source": [
    "import cv2\n",
    "import numpy as np\n",
    "\n",
    "# Load the image\n",
    "image_a = cv2.imread('IMG_4853 (1).jpg')\n",
    "\n",
    "columns = 10\n",
    "\n",
    "# Convert the image_a to grayscale\n",
    "gray = cv2.cvtColor(image_a, cv2.COLOR_BGR2GRAY)\n",
    "\n",
    "# Apply thresholding to binarize the image_a (adjust the threshold as needed)\n",
    "_, binary = cv2.threshold(gray, 128, 255, cv2.THRESH_BINARY)\n",
    "\n",
    "# Calculate the height and width of the image\n",
    "height, width = binary.shape[:2]\n",
    "\n",
    "# Calculate the width of each column\n",
    "column_width = width // columns\n",
    "\n",
    "# Crop the image_a into equal columns\n",
    "for i in range(columns):\n",
    "    x1 = i * column_width\n",
    "    x2 = (i + 1) * column_width\n",
    "    cropped_column = binary[0:height, x1:x2]\n",
    "    \n",
    "    # Remove horizontal lines using morphological operations (adjust the kernel size as needed)\n",
    "    kernel = np.ones((5, 5), np.uint8)\n",
    "    cleaned_column = cv2.morphologyEx(cropped_column, cv2.MORPH_OPEN, kernel)\n",
    "    \n",
    "    # Save the cleaned column\n",
    "    cv2.imwrite(f'./Handwriting/column_{i}.jpg', cleaned_column)"
   ]
  },
  {
   "cell_type": "code",
   "execution_count": 71,
   "metadata": {},
   "outputs": [],
   "source": [
    "import os\n",
    "\n",
    "def get_image_array(path):\n",
    "    image_list = os.listdir(path)\n",
    "    images = []\n",
    "    for img in image_list:\n",
    "        img = cv2.imread(path + '/' + img, 0)\n",
    "        img = cv2.resize(img, (400, 400))\n",
    "        images.append(img)\n",
    "    return np.array(images)"
   ]
  },
  {
   "cell_type": "code",
   "execution_count": 72,
   "metadata": {},
   "outputs": [],
   "source": [
    "path = \"./Handwriting\""
   ]
  },
  {
   "cell_type": "code",
   "execution_count": 73,
   "metadata": {},
   "outputs": [],
   "source": [
    "images_a = get_image_array(path)"
   ]
  },
  {
   "cell_type": "code",
   "execution_count": 75,
   "metadata": {},
   "outputs": [
    {
     "data": {
      "text/plain": [
       "<matplotlib.image.AxesImage at 0x205f038fa50>"
      ]
     },
     "execution_count": 75,
     "metadata": {},
     "output_type": "execute_result"
    },
    {
     "data": {
      "image/png": "[encoded data removed]",
      "text/plain": [
       "<Figure size 640x480 with 1 Axes>"
      ]
     },
     "metadata": {},
     "output_type": "display_data"
    }
   ],
   "source": [
    "plt.imshow(images_a[4])"
   ]
  },
  {
   "cell_type": "code",
   "execution_count": 69,
   "metadata": {},
   "outputs": [],
   "source": [
    "import cv2\n",
    "import numpy as np\n",
    "\n",
    "# Load the image\n",
    "image_b = cv2.imread('IMG_4854.jpg')\n",
    "\n",
    "columns = 10\n",
    "\n",
    "# Convert the image to grayscale\n",
    "gray = cv2.cvtColor(image_b, cv2.COLOR_BGR2GRAY)\n",
    "\n",
    "# Apply thresholding to binarize the image_b (adjust the threshold as needed)\n",
    "_, binary = cv2.threshold(gray, 128, 255, cv2.THRESH_BINARY)\n",
    "\n",
    "# Calculate the height and width of the image\n",
    "height, width = binary.shape[:2]\n",
    "\n",
    "# Calculate the width of each column\n",
    "column_width = width // columns\n",
    "\n",
    "# Crop the image into equal columns\n",
    "for i in range(columns):\n",
    "    x1 = i * column_width\n",
    "    x2 = (i + 1) * column_width\n",
    "    cropped_column = binary[0:height, x1:x2]\n",
    "    \n",
    "    # Remove horizontal lines using morphological operations (adjust the kernel size as needed)\n",
    "    kernel = np.ones((5, 5), np.uint8)\n",
    "    cleaned_column = cv2.morphologyEx(cropped_column, cv2.MORPH_OPEN, kernel)\n",
    "    \n",
    "    # Save the cleaned column\n",
    "    cv2.imwrite(f'./Handwriting/letter_b{i}.jpg', cleaned_column)"
   ]
  },
  {
   "cell_type": "code",
   "execution_count": 60,
   "metadata": {},
   "outputs": [
    {
     "data": {
      "text/plain": [
       "array([[  0, 255, 255, ..., 255, 255, 255],\n",
       "       [  0, 255, 255, ..., 255, 255, 255],\n",
       "       [  0, 255, 255, ..., 255, 255, 255],\n",
       "       ...,\n",
       "       [  0, 255, 255, ..., 255, 255, 255],\n",
       "       [  0, 255, 255, ..., 255, 255, 255],\n",
       "       [  0, 255, 255, ..., 255, 255, 255]], dtype=uint8)"
      ]
     },
     "execution_count": 60,
     "metadata": {},
     "output_type": "execute_result"
    }
   ],
   "source": []
  },
  {
   "cell_type": "code",
   "execution_count": null,
   "metadata": {},
   "outputs": [],
   "source": []
  }
 ],
 "metadata": {
  "kernelspec": {
   "display_name": "Python 3",
   "language": "python",
   "name": "python3"
  },
  "language_info": {
   "codemirror_mode": {
    "name": "ipython",
    "version": 3
   },
   "file_extension": ".py",
   "mimetype": "text/x-python",
   "name": "python",
   "nbconvert_exporter": "python",
   "pygments_lexer": "ipython3",
   "version": "3.11.5"
  }
 },
 "nbformat": 4,
 "nbformat_minor": 2
}
