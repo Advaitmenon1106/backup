{
 "cells": [
  {
   "cell_type": "code",
   "execution_count": 2,
   "id": "78b3a6fc",
   "metadata": {},
   "outputs": [],
   "source": [
    "import cv2\n",
    "import numpy as np\n",
    "import pandas as pd\n",
    "import matplotlib.pyplot as plt\n",
    "from numpy import asarray\n",
    "from PIL import Image"
   ]
  },
  {
   "cell_type": "code",
   "execution_count": 16,
   "id": "9948152d",
   "metadata": {},
   "outputs": [
    {
     "name": "stdout",
     "output_type": "stream",
     "text": [
      "Collecting Samples Complete\n"
     ]
    }
   ],
   "source": [
    "cap = cv2.VideoCapture(0)\n",
    "count = 0\n",
    "while True:\n",
    "    ret, frame = cap.read()\n",
    "    count += 1\n",
    "    face = cv2.resize(frame, (200, 400))\n",
    "    \n",
    "    file_name_path = 'C:/Users/Meghna/Documents/Jupyter Notebook/Semester 5/FOML/image/' + str(count) + '.jpg'\n",
    "    cv2.imwrite(file_name_path, face)\n",
    "    \n",
    "    cv2.putText(face, str(count), (50, 50), cv2.FONT_HERSHEY_COMPLEX, 1, (0, 255, 0), 2)\n",
    "    cv2.imshow('Face Cropper', face)\n",
    "     \n",
    "    if cv2.waitKey(1) == 13 or count == 20: #13 is the Enter Key\n",
    "        break\n",
    "        \n",
    "cap.release()\n",
    "cv2.destroyAllWindows()      \n",
    "print(\"Collecting Samples Complete\")"
   ]
  },
  {
   "cell_type": "code",
   "execution_count": 17,
   "id": "2e2edb34",
   "metadata": {},
   "outputs": [],
   "source": [
    "import os\n",
    "def get_image_array(path): # converts to an array \n",
    "    image_list = os.listdir(path)\n",
    "    images = []\n",
    "    \n",
    "    for img in image_list:\n",
    "        img = cv2.imread(path + '/' + img, 0)\n",
    "        images.append(img)\n",
    "    return np.array(images)"
   ]
  },
  {
   "cell_type": "code",
   "execution_count": 18,
   "id": "18c058c7",
   "metadata": {},
   "outputs": [],
   "source": [
    "img = 'C:/Users/Meghna/Documents/Jupyter Notebook/Semester 5/FOML/image/'"
   ]
  },
  {
   "cell_type": "code",
   "execution_count": 19,
   "id": "6fe08212",
   "metadata": {},
   "outputs": [],
   "source": [
    "img1 = get_image_array(img)"
   ]
  },
  {
   "cell_type": "code",
   "execution_count": 20,
   "id": "f88769eb",
   "metadata": {},
   "outputs": [
    {
     "data": {
      "text/plain": [
       "(20, 400, 200)"
      ]
     },
     "execution_count": 20,
     "metadata": {},
     "output_type": "execute_result"
    }
   ],
   "source": [
    "img1.shape\n",
    "# m -> 20\n",
    "# nx -> 400*200"
   ]
  },
  {
   "cell_type": "code",
   "execution_count": 21,
   "id": "bc623f6b",
   "metadata": {},
   "outputs": [
    {
     "data": {
      "text/plain": [
       "<matplotlib.image.AxesImage at 0x21b65dcb610>"
      ]
     },
     "execution_count": 21,
     "metadata": {},
     "output_type": "execute_result"
    },
    {
     "data": {
      "image/png": "[encoded data removed]",
      "text/plain": [
       "<Figure size 640x480 with 1 Axes>"
      ]
     },
     "metadata": {},
     "output_type": "display_data"
    }
   ],
   "source": [
    "plt.imshow(img1[0])"
   ]
  },
  {
   "cell_type": "code",
   "execution_count": 24,
   "id": "4e5e9793",
   "metadata": {},
   "outputs": [],
   "source": [
    "img1 = img1/255.0\n",
    "# img1 = img1.reshape(20,img1.shape[1])"
   ]
  },
  {
   "cell_type": "code",
   "execution_count": 23,
   "id": "61cdb26e",
   "metadata": {},
   "outputs": [
    {
     "data": {
      "image/png": "[encoded data removed]",
      "text/plain": [
       "<Figure size 800x600 with 20 Axes>"
      ]
     },
     "metadata": {},
     "output_type": "display_data"
    }
   ],
   "source": [
    "fig = plt.figure(figsize = (8, 6))\n",
    "for i in range(20):\n",
    "    ax = fig.add_subplot(4, 5, i+1, xticks =[], yticks = [])\n",
    "    ax.imshow(img1[i], cmap = plt.cm.bone)"
   ]
  },
  {
   "cell_type": "code",
   "execution_count": null,
   "id": "1ee06fe6",
   "metadata": {},
   "outputs": [],
   "source": [
    "# exam pov -> need to create a y "
   ]
  },
  {
   "cell_type": "code",
   "execution_count": 25,
   "id": "16b0136f",
   "metadata": {},
   "outputs": [],
   "source": [
    "y = [1, 1, 1, 1, 1, 1, 1, 1, 1, 1, 0, 0, 0, 0, 0, 0, 0, 0, 0, 0]\n",
    "y = np.asarray(y)"
   ]
  },
  {
   "cell_type": "code",
   "execution_count": 26,
   "id": "3433706e",
   "metadata": {},
   "outputs": [
    {
     "data": {
      "text/plain": [
       "20"
      ]
     },
     "execution_count": 26,
     "metadata": {},
     "output_type": "execute_result"
    }
   ],
   "source": [
    "len(y)"
   ]
  },
  {
   "cell_type": "code",
   "execution_count": 27,
   "id": "3043f6c5",
   "metadata": {},
   "outputs": [],
   "source": [
    "from tensorflow.keras.models import Sequential\n",
    "from tensorflow.keras.layers import Dense"
   ]
  },
  {
   "cell_type": "code",
   "execution_count": 28,
   "id": "bb9bc594",
   "metadata": {},
   "outputs": [],
   "source": [
    "from sklearn.model_selection import train_test_split"
   ]
  },
  {
   "cell_type": "code",
   "execution_count": 29,
   "id": "bf048731",
   "metadata": {},
   "outputs": [],
   "source": [
    "# x_train, y_train, x_test, y_test = train_test_split(img1, y, test_size = 0.2, random_state = 42)\n",
    "train_images, test_images, train_labels, test_labels = train_test_split(img1, y, test_size = 0.2, random_state = 42)"
   ]
  },
  {
   "cell_type": "code",
   "execution_count": 30,
   "id": "eee08445",
   "metadata": {},
   "outputs": [
    {
     "data": {
      "text/plain": [
       "(16, 400, 200)"
      ]
     },
     "execution_count": 30,
     "metadata": {},
     "output_type": "execute_result"
    }
   ],
   "source": [
    "train_images.shape"
   ]
  },
  {
   "cell_type": "code",
   "execution_count": 31,
   "id": "6cd96032",
   "metadata": {},
   "outputs": [
    {
     "data": {
      "text/plain": [
       "(16,)"
      ]
     },
     "execution_count": 31,
     "metadata": {},
     "output_type": "execute_result"
    }
   ],
   "source": [
    "train_labels.shape"
   ]
  },
  {
   "cell_type": "code",
   "execution_count": 32,
   "id": "93d6d698",
   "metadata": {},
   "outputs": [
    {
     "data": {
      "text/plain": [
       "(4, 400, 200)"
      ]
     },
     "execution_count": 32,
     "metadata": {},
     "output_type": "execute_result"
    }
   ],
   "source": [
    "test_images.shape"
   ]
  },
  {
   "cell_type": "code",
   "execution_count": 33,
   "id": "7bef59fc",
   "metadata": {},
   "outputs": [
    {
     "data": {
      "text/plain": [
       "(4,)"
      ]
     },
     "execution_count": 33,
     "metadata": {},
     "output_type": "execute_result"
    }
   ],
   "source": [
    "test_labels.shape"
   ]
  },
  {
   "cell_type": "code",
   "execution_count": 34,
   "id": "a1c272e9",
   "metadata": {
    "scrolled": true
   },
   "outputs": [
    {
     "data": {
      "text/plain": [
       "<matplotlib.image.AxesImage at 0x21b02c934f0>"
      ]
     },
     "execution_count": 34,
     "metadata": {},
     "output_type": "execute_result"
    },
    {
     "data": {
      "image/png": "[encoded data removed]",
      "text/plain": [
       "<Figure size 640x480 with 1 Axes>"
      ]
     },
     "metadata": {},
     "output_type": "display_data"
    }
   ],
   "source": [
    "plt.imshow(train_images[0])"
   ]
  },
  {
   "cell_type": "code",
   "execution_count": 35,
   "id": "8d7eb0f9",
   "metadata": {},
   "outputs": [
    {
     "name": "stdout",
     "output_type": "stream",
     "text": [
      "[1 1 0 1 0 0 0 1 1 0 1 0 1 0 0 1]\n",
      "[1 0 0 1]\n"
     ]
    }
   ],
   "source": [
    "print(train_labels)\n",
    "print(test_labels)"
   ]
  },
  {
   "cell_type": "code",
   "execution_count": 36,
   "id": "597dcb59",
   "metadata": {},
   "outputs": [],
   "source": [
    "network = Sequential()\n",
    "network.add(Dense(128, activation = 'relu', input_shape = (400*200, )))\n",
    "network.add(Dense(1, activation = 'sigmoid'))"
   ]
  },
  {
   "cell_type": "code",
   "execution_count": 37,
   "id": "240cc360",
   "metadata": {},
   "outputs": [
    {
     "name": "stdout",
     "output_type": "stream",
     "text": [
      "Model: \"sequential\"\n",
      "_________________________________________________________________\n",
      " Layer (type)                Output Shape              Param #   \n",
      "=================================================================\n",
      " dense (Dense)               (None, 128)               10240128  \n",
      "                                                                 \n",
      " dense_1 (Dense)             (None, 1)                 129       \n",
      "                                                                 \n",
      "=================================================================\n",
      "Total params: 10240257 (39.06 MB)\n",
      "Trainable params: 10240257 (39.06 MB)\n",
      "Non-trainable params: 0 (0.00 Byte)\n",
      "_________________________________________________________________\n"
     ]
    }
   ],
   "source": [
    "network.summary()"
   ]
  },
  {
   "cell_type": "code",
   "execution_count": 38,
   "id": "5d90aa4c",
   "metadata": {},
   "outputs": [],
   "source": [
    "network.compile(optimizer = 'rmsprop', loss = 'binary_crossentropy', metrics = ['accuracy'])"
   ]
  },
  {
   "cell_type": "code",
   "execution_count": 39,
   "id": "b02876c8",
   "metadata": {},
   "outputs": [],
   "source": [
    "train_images = train_images.reshape((16, 400*200))\n",
    "train_images = train_images.astype('float32')/255\n",
    "\n",
    "test_images = test_images.reshape((4, 400*200))\n",
    "test_images = test_images.astype('float32')/255"
   ]
  },
  {
   "cell_type": "code",
   "execution_count": 40,
   "id": "9acb0910",
   "metadata": {},
   "outputs": [
    {
     "name": "stdout",
     "output_type": "stream",
     "text": [
      "(16, 80000)\n",
      "(4, 80000)\n"
     ]
    }
   ],
   "source": [
    "print(train_images.shape)\n",
    "print(test_images.shape)"
   ]
  },
  {
   "cell_type": "code",
   "execution_count": 41,
   "id": "4c518b56",
   "metadata": {},
   "outputs": [],
   "source": [
    "# from tensorflow.keras.utils import to_categorical, to"
   ]
  },
  {
   "cell_type": "code",
   "execution_count": 42,
   "id": "466dad77",
   "metadata": {},
   "outputs": [],
   "source": [
    "# train_labels = to_categorical(train_labels)"
   ]
  },
  {
   "cell_type": "code",
   "execution_count": 43,
   "id": "d238e5a3",
   "metadata": {},
   "outputs": [],
   "source": [
    "# test_labels = to_categorical(test_labels)"
   ]
  },
  {
   "cell_type": "code",
   "execution_count": 44,
   "id": "9eeaf97c",
   "metadata": {},
   "outputs": [],
   "source": [
    "# train_labels[:, 1]"
   ]
  },
  {
   "cell_type": "code",
   "execution_count": 45,
   "id": "102281fe",
   "metadata": {},
   "outputs": [
    {
     "name": "stdout",
     "output_type": "stream",
     "text": [
      "(16,)\n",
      "(16, 80000)\n"
     ]
    }
   ],
   "source": [
    "print(train_labels.shape)\n",
    "print(train_images.shape)"
   ]
  },
  {
   "cell_type": "code",
   "execution_count": 46,
   "id": "c728bd2a",
   "metadata": {},
   "outputs": [],
   "source": [
    "# train_labels = train_labels.reshape(-1, 1)\n",
    "# test_labels = test_labels.reshape(-1, 1)"
   ]
  },
  {
   "cell_type": "code",
   "execution_count": 47,
   "id": "0e9779c8",
   "metadata": {},
   "outputs": [],
   "source": [
    "# network.fit(train_images, train_labels, epochs=5, batch_size = 128)"
   ]
  },
  {
   "cell_type": "code",
   "execution_count": 48,
   "id": "bbc7844e",
   "metadata": {},
   "outputs": [
    {
     "name": "stdout",
     "output_type": "stream",
     "text": [
      "Epoch 1/5\n",
      "1/1 [==============================] - 0s 371ms/step - loss: 0.6931 - accuracy: 0.5000\n",
      "Epoch 2/5\n",
      "1/1 [==============================] - 0s 73ms/step - loss: 0.6931 - accuracy: 0.5000\n",
      "Epoch 3/5\n",
      "1/1 [==============================] - 0s 82ms/step - loss: 0.6931 - accuracy: 0.5000\n",
      "Epoch 4/5\n",
      "1/1 [==============================] - 0s 75ms/step - loss: 0.6931 - accuracy: 0.5000\n",
      "Epoch 5/5\n",
      "1/1 [==============================] - 0s 75ms/step - loss: 0.6931 - accuracy: 0.5000\n"
     ]
    },
    {
     "data": {
      "image/png": "[encoded data removed]",
      "text/plain": [
       "<Figure size 640x480 with 1 Axes>"
      ]
     },
     "metadata": {},
     "output_type": "display_data"
    }
   ],
   "source": [
    "history_X = network.fit(train_images, train_labels, epochs=5, batch_size = 128)\n",
    "plt.plot(history_X.history['loss'], label = 'train')\n",
    "plt.legend()\n",
    "plt.show()"
   ]
  },
  {
   "cell_type": "code",
   "execution_count": 49,
   "id": "32778356",
   "metadata": {},
   "outputs": [
    {
     "name": "stdout",
     "output_type": "stream",
     "text": [
      "1/1 [==============================] - 0s 94ms/step - loss: 0.6931 - accuracy: 0.5000\n",
      "test_loss 0.6931471824645996\n",
      "test_accuracy 0.5\n"
     ]
    }
   ],
   "source": [
    "test_loss, test_accuracy = network.evaluate(test_images, test_labels)\n",
    "print('test_loss ' + str(test_loss))\n",
    "print('test_accuracy ' + str(test_accuracy))"
   ]
  },
  {
   "cell_type": "code",
   "execution_count": 50,
   "id": "8ee57969",
   "metadata": {},
   "outputs": [
    {
     "name": "stdout",
     "output_type": "stream",
     "text": [
      "1/1 [==============================] - 0s 55ms/step\n",
      "Prediction is correct!\n",
      "Class probabilities: [[0.50000006]]\n"
     ]
    }
   ],
   "source": [
    "import numpy as np  # Import NumPy if not already imported\n",
    "\n",
    "# Assuming you have a single test image and its label\n",
    "single_test_image = test_images[2]  # Replace 0 with the index of the image you want to test\n",
    "single_test_label = test_labels[2]  # Replace 0 with the corresponding label\n",
    "\n",
    "# Preprocess the single test image (e.g., normalize it if needed)\n",
    "# You should apply the same preprocessing as you did during training\n",
    "# For example, if you normalized the training data, normalize this image as well\n",
    "\n",
    "# Reshape the single test image if needed\n",
    "# If your network expects a specific input shape, make sure to reshape the image accordingly\n",
    "# For example, if your network expects (28, 28, 1) shape and your image is (28, 28), do:\n",
    "# single_test_image = np.expand_dims(single_test_image, axis=-1)\n",
    "\n",
    "# Convert the single test image to a NumPy array and normalize it\n",
    "single_test_image = np.array(single_test_image) / 255.0  # Normalize assuming pixel values are in [0, 255]\n",
    "\n",
    "# Make predictions on the single test image\n",
    "predictions = network.predict(np.expand_dims(single_test_image, axis=0))  # Add an extra dimension for batch size\n",
    "\n",
    "# Calculate the predicted class label\n",
    "predicted_class = np.argmax(predictions, axis=1)[0]  # Extract the class with the highest probability\n",
    "\n",
    "# Compare the predicted class to the true class label\n",
    "if predicted_class == single_test_label:\n",
    "    print(\"Prediction is correct!\")\n",
    "else:\n",
    "    print(\"Prediction is incorrect!\")\n",
    "\n",
    "# Optionally, you can print the confidence scores for each class\n",
    "print(\"Class probabilities:\", predictions)"
   ]
  },
  {
   "cell_type": "code",
   "execution_count": null,
   "id": "d928783b",
   "metadata": {},
   "outputs": [],
   "source": []
  }
 ],
 "metadata": {
  "kernelspec": {
   "display_name": "Python 3 (ipykernel)",
   "language": "python",
   "name": "python3"
  },
  "language_info": {
   "codemirror_mode": {
    "name": "ipython",
    "version": 3
   },
   "file_extension": ".py",
   "mimetype": "text/x-python",
   "name": "python",
   "nbconvert_exporter": "python",
   "pygments_lexer": "ipython3",
   "version": "3.10.9"
  }
 },
 "nbformat": 4,
 "nbformat_minor": 5
}
