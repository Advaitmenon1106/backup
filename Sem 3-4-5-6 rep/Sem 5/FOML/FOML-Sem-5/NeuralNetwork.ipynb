{
 "cells": [
  {
   "cell_type": "code",
   "execution_count": 47,
   "metadata": {},
   "outputs": [],
   "source": [
    "import numpy as np"
   ]
  },
  {
   "cell_type": "code",
   "execution_count": 48,
   "metadata": {},
   "outputs": [
    {
     "name": "stdout",
     "output_type": "stream",
     "text": [
      "[[ 0.4000328  -0.20609846  0.21541311 -0.10875821  1.46789644  1.42853345\n",
      "  -0.30384591  0.11570455 -0.33390405  1.12292749]\n",
      " [-0.41707565 -1.26058873  0.06951175  0.93085631  1.31976343 -1.51285903\n",
      "  -0.24266279 -0.59149514  1.78175129 -2.27391685]\n",
      " [-1.07057543 -1.48687901  1.30077259 -1.10799802  0.97804079 -0.85450562\n",
      "   0.3267307  -0.86279553 -2.63713572 -0.46519335]\n",
      " [ 0.34841365 -0.24160221 -0.7015072  -0.47566197  0.21915192  1.64648567\n",
      "   0.87010797 -0.44313502  0.07252924  1.2489953 ]]\n",
      "[[False False  True False  True  True  True  True False  True]]\n"
     ]
    }
   ],
   "source": [
    "X = np.random.randn(4,10)\n",
    "print(X)\n",
    "Y = (np.random.randn(1,10)>0)\n",
    "print(Y)"
   ]
  },
  {
   "cell_type": "code",
   "execution_count": 49,
   "metadata": {},
   "outputs": [],
   "source": [
    "def sigmoid(z):\n",
    "    s = 1/(1+np.exp(-z))\n",
    "    return s"
   ]
  },
  {
   "cell_type": "code",
   "execution_count": 50,
   "metadata": {},
   "outputs": [],
   "source": [
    "def tanh(z):\n",
    "    t = (np.exp(z)-np.exp(-z)/np.exp(z)-np.exp(-z))\n",
    "    return t"
   ]
  },
  {
   "cell_type": "code",
   "execution_count": 51,
   "metadata": {},
   "outputs": [],
   "source": [
    "def relu(z):\n",
    "    r = np.maximum(0,z)\n",
    "    return r"
   ]
  },
  {
   "cell_type": "code",
   "execution_count": 52,
   "metadata": {},
   "outputs": [],
   "source": [
    "def lrelu(z):\n",
    "    lr = np.maximum(0.01,z)\n",
    "    return lr"
   ]
  },
  {
   "cell_type": "code",
   "execution_count": 53,
   "metadata": {},
   "outputs": [],
   "source": [
    "def layer_size(X,Y,node1,node2,node3,layers):\n",
    "    nx = X.shape[0]\n",
    "    nh1 = node1\n",
    "    nh2 = node2\n",
    "    nh3 = node3\n",
    "    ny = Y.shape[0]\n",
    "    return nx,nh1,nh2,nh3,ny"
   ]
  },
  {
   "cell_type": "code",
   "execution_count": 54,
   "metadata": {},
   "outputs": [],
   "source": [
    "def intz(nx,nh1,nh2,nh3,ny):\n",
    "    w1 = np.random.randn(nh1,nx)*0.01\n",
    "    b1 = np.zeros((nh1,1))\n",
    "    w2 = np.random.randn(nh2,nh1)*0.01\n",
    "    b2 = np.zeros((nh2,1))\n",
    "    w3 = np.random.randn(nh3,nh2)*0.01\n",
    "    b3 = np.zeros((nh3,1))\n",
    "    w4 = np.random.randn(ny,nh3)*0.01\n",
    "    b4 = np.zeros((ny,1))\n",
    "    \n",
    "    para = {'w1':w1,'b1':b1,'w2':w2,'b2':b2,'w3':w3,'b3':b3,'w4':w4,'b4':b4}\n",
    "    return para"
   ]
  },
  {
   "cell_type": "code",
   "execution_count": 55,
   "metadata": {},
   "outputs": [
    {
     "data": {
      "text/plain": [
       "{'w1': array([[ 0.00181398, -0.0088958 , -0.01907648, -0.00999739],\n",
       "        [-0.00335288, -0.00705272,  0.00138155,  0.01043873],\n",
       "        [ 0.01405159,  0.01069645,  0.01421725,  0.02197096],\n",
       "        [-0.01876919,  0.02096109, -0.00754625, -0.00746076]]),\n",
       " 'b1': array([[0.],\n",
       "        [0.],\n",
       "        [0.],\n",
       "        [0.]]),\n",
       " 'w2': array([[ 0.00229152,  0.00866888, -0.00504115,  0.02971864],\n",
       "        [ 0.00567617, -0.00696077, -0.00108099,  0.01339395],\n",
       "        [ 0.00704885, -0.01307961,  0.00140974,  0.00104356]]),\n",
       " 'b2': array([[0.],\n",
       "        [0.],\n",
       "        [0.]]),\n",
       " 'w3': array([[0.00684835, 0.00933651, 0.00112548],\n",
       "        [0.00441422, 0.00192864, 0.00288535]]),\n",
       " 'b3': array([[0.],\n",
       "        [0.]]),\n",
       " 'w4': array([[-0.01219217, -0.00184022]]),\n",
       " 'b4': array([[0.]])}"
      ]
     },
     "execution_count": 55,
     "metadata": {},
     "output_type": "execute_result"
    }
   ],
   "source": [
    "nx,nh1,nh2,nh3,ny = layer_size(X,Y,4,3,2,1)\n",
    "para = intz(nx,nh1,nh2,nh3,ny)\n",
    "para\n"
   ]
  },
  {
   "cell_type": "code",
   "execution_count": 58,
   "metadata": {},
   "outputs": [],
   "source": [
    "def fwd(X,para):\n",
    "    w1 = para['w1']\n",
    "    b1 = para['b2']\n",
    "    w2 = para['w2']\n",
    "    b2 = para['b2']\n",
    "    w3 = para['w3']\n",
    "    b3 = para['b3']\n",
    "    w4 = para['w4']\n",
    "    b4 = para['b4']\n",
    "    #w5 = para['w5']\n",
    "    #b5 = para['b5']\n",
    "    \n",
    "    z1 = np.dot(w1,X)+b1\n",
    "    a1 = relu(z1)     #np.tanh()\n",
    "    z2 = np.dot(w2,a1)+b2\n",
    "    a2 = relu(z2)\n",
    "    z3 = np.dot(w3,a2)+b3\n",
    "    a3 = lrelu(z3)\n",
    "    z4 = np.dot(w4,a3)+b4\n",
    "    a4 = sigmoid(z4)\n",
    "    #z5 = np.dot(w5,a4)+b5\n",
    "    #a5 = sigmoid(z5)\n",
    "    \n",
    "    cache = {'z1':z1,'a1':a1,'z2':z2,'a2':a2,'z3':z3,'a3':a3,'z4':z4,'a4':a4}\n",
    "    return a4,cache"
   ]
  },
  {
   "cell_type": "code",
   "execution_count": 59,
   "metadata": {},
   "outputs": [
    {
     "ename": "ValueError",
     "evalue": "operands could not be broadcast together with shapes (4,10) (3,1) ",
     "output_type": "error",
     "traceback": [
      "\u001b[1;31m---------------------------------------------------------------------------\u001b[0m",
      "\u001b[1;31mValueError\u001b[0m                                Traceback (most recent call last)",
      "\u001b[1;32mc:\\Users\\Kavita manoj\\OneDrive\\Desktop\\FOML-Sem-5\\NeuralNetwork.ipynb Cell 11\u001b[0m in \u001b[0;36m1\n\u001b[1;32m----> <a href='vscode-notebook-cell:/c%3A/Users/Kavita%20manoj/OneDrive/Desktop/FOML-Sem-5/NeuralNetwork.ipynb#X13sZmlsZQ%3D%3D?line=0'>1</a>\u001b[0m f \u001b[39m=\u001b[39m fwd(X,para)\n\u001b[0;32m      <a href='vscode-notebook-cell:/c%3A/Users/Kavita%20manoj/OneDrive/Desktop/FOML-Sem-5/NeuralNetwork.ipynb#X13sZmlsZQ%3D%3D?line=1'>2</a>\u001b[0m f\n",
      "\u001b[1;32mc:\\Users\\Kavita manoj\\OneDrive\\Desktop\\FOML-Sem-5\\NeuralNetwork.ipynb Cell 11\u001b[0m in \u001b[0;36m1\n\u001b[0;32m      <a href='vscode-notebook-cell:/c%3A/Users/Kavita%20manoj/OneDrive/Desktop/FOML-Sem-5/NeuralNetwork.ipynb#X13sZmlsZQ%3D%3D?line=8'>9</a>\u001b[0m b4 \u001b[39m=\u001b[39m para[\u001b[39m'\u001b[39m\u001b[39mb4\u001b[39m\u001b[39m'\u001b[39m]\n\u001b[0;32m     <a href='vscode-notebook-cell:/c%3A/Users/Kavita%20manoj/OneDrive/Desktop/FOML-Sem-5/NeuralNetwork.ipynb#X13sZmlsZQ%3D%3D?line=9'>10</a>\u001b[0m \u001b[39m#w5 = para['w5']\u001b[39;00m\n\u001b[0;32m     <a href='vscode-notebook-cell:/c%3A/Users/Kavita%20manoj/OneDrive/Desktop/FOML-Sem-5/NeuralNetwork.ipynb#X13sZmlsZQ%3D%3D?line=10'>11</a>\u001b[0m \u001b[39m#b5 = para['b5']\u001b[39;00m\n\u001b[1;32m---> <a href='vscode-notebook-cell:/c%3A/Users/Kavita%20manoj/OneDrive/Desktop/FOML-Sem-5/NeuralNetwork.ipynb#X13sZmlsZQ%3D%3D?line=12'>13</a>\u001b[0m z1 \u001b[39m=\u001b[39m np\u001b[39m.\u001b[39;49mdot(w1,X)\u001b[39m+\u001b[39;49mb1\n\u001b[0;32m     <a href='vscode-notebook-cell:/c%3A/Users/Kavita%20manoj/OneDrive/Desktop/FOML-Sem-5/NeuralNetwork.ipynb#X13sZmlsZQ%3D%3D?line=13'>14</a>\u001b[0m a1 \u001b[39m=\u001b[39m relu(z1)     \u001b[39m#np.tanh()\u001b[39;00m\n\u001b[0;32m     <a href='vscode-notebook-cell:/c%3A/Users/Kavita%20manoj/OneDrive/Desktop/FOML-Sem-5/NeuralNetwork.ipynb#X13sZmlsZQ%3D%3D?line=14'>15</a>\u001b[0m z2 \u001b[39m=\u001b[39m np\u001b[39m.\u001b[39mdot(w2,a1)\u001b[39m+\u001b[39mb2\n",
      "\u001b[1;31mValueError\u001b[0m: operands could not be broadcast together with shapes (4,10) (3,1) "
     ]
    }
   ],
   "source": [
    "f = fwd(X,para)\n",
    "f"
   ]
  },
  {
   "cell_type": "code",
   "execution_count": null,
   "metadata": {},
   "outputs": [],
   "source": []
  }
 ],
 "metadata": {
  "kernelspec": {
   "display_name": "Python 3",
   "language": "python",
   "name": "python3"
  },
  "language_info": {
   "codemirror_mode": {
    "name": "ipython",
    "version": 3
   },
   "file_extension": ".py",
   "mimetype": "text/x-python",
   "name": "python",
   "nbconvert_exporter": "python",
   "pygments_lexer": "ipython3",
   "version": "3.10.4"
  },
  "orig_nbformat": 4
 },
 "nbformat": 4,
 "nbformat_minor": 2
}
