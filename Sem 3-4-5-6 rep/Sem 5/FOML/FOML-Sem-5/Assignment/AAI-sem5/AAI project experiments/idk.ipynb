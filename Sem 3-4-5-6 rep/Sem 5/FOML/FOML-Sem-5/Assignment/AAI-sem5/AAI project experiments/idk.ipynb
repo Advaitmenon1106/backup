{
 "cells": [
  {
   "cell_type": "code",
   "execution_count": 2,
   "metadata": {},
   "outputs": [
    {
     "name": "stdout",
     "output_type": "stream",
     "text": [
      "Anagrams for 'bard': darb\n"
     ]
    }
   ],
   "source": [
    "from collections import Counter\n",
    "\n",
    "# Load a dictionary of words (replace with a larger dictionary if needed)\n",
    "with open('wordlist.txt', 'r') as file:\n",
    "    dictionary = set(file.read().split())\n",
    "\n",
    "def find_anagrams(word):\n",
    "    word = word.lower()\n",
    "    word_count = Counter(word)\n",
    "\n",
    "    anagrams = []\n",
    "    for candidate in dictionary:\n",
    "        candidate = candidate.strip().lower()\n",
    "        if len(candidate) != len(word):\n",
    "            continue\n",
    "\n",
    "        if Counter(candidate) == word_count and candidate != word:\n",
    "            anagrams.append(candidate)\n",
    "\n",
    "    return anagrams\n",
    "\n",
    "# Input word for which you want to find anagrams\n",
    "input_word = input(\"Enter a word: \")\n",
    "\n",
    "anagrams = find_anagrams(input_word)\n",
    "\n",
    "if anagrams:\n",
    "    print(f\"Anagrams for '{input_word}': {', '.join(anagrams)}\")\n",
    "else:\n",
    "    print(f\"No anagrams found for '{input_word}'.\")"
   ]
  },
  {
   "cell_type": "code",
   "execution_count": null,
   "metadata": {},
   "outputs": [],
   "source": []
  }
 ],
 "metadata": {
  "kernelspec": {
   "display_name": "Python 3",
   "language": "python",
   "name": "python3"
  },
  "language_info": {
   "codemirror_mode": {
    "name": "ipython",
    "version": 3
   },
   "file_extension": ".py",
   "mimetype": "text/x-python",
   "name": "python",
   "nbconvert_exporter": "python",
   "pygments_lexer": "ipython3",
   "version": "3.11.5"
  }
 },
 "nbformat": 4,
 "nbformat_minor": 2
}
