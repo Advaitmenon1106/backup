{
 "cells": [
  {
   "cell_type": "code",
   "execution_count": 6,
   "metadata": {},
   "outputs": [],
   "source": [
    "class Node():\n",
    "    def __init__(self, currentState, parent, action) -> None:\n",
    "        self.currentState = currentState\n",
    "        self.parent = parent\n",
    "        self.action = action\n",
    "        # self.md = md"
   ]
  },
  {
   "cell_type": "code",
   "execution_count": 7,
   "metadata": {},
   "outputs": [],
   "source": [
    "class StackFrontier():\n",
    "    def __init__(self) -> None:\n",
    "        self.frontier = []\n",
    "    def add(self, node):\n",
    "        self.frontier.append(node)\n",
    "    def containsState(self, state):\n",
    "        return any(node.state == state for node in self.frontier)\n",
    "    def empty(self):\n",
    "        return len(self.frontier) == 0\n",
    "    def remove(self):\n",
    "        if self.empty():\n",
    "            raise Exception('Frontier is empty')\n",
    "        else:\n",
    "            poppedNode = self.frontier.pop() # LIFO\n",
    "            return poppedNode"
   ]
  },
  {
   "cell_type": "code",
   "execution_count": 9,
   "metadata": {},
   "outputs": [],
   "source": [
    "class QueueFrontier(StackFrontier):\n",
    "    def remove(self):\n",
    "        if self.empty():\n",
    "            raise Exception('Fronter is empty')\n",
    "        else:\n",
    "            node = self.frontier[0] # FIFO\n",
    "            self.frontier = self.frontier[1:]\n",
    "            return node"
   ]
  },
  {
   "cell_type": "code",
   "execution_count": 10,
   "metadata": {},
   "outputs": [],
   "source": [
    "class Maze():\n",
    "    def __init__(self, filename) -> None:\n",
    "        with open(filename) as f:\n",
    "            contents = f.read()\n",
    "        if contents.count('A')!=1:\n",
    "            raise Exception('Maze must have a start point')\n",
    "        if contents.count('B')!=1:\n",
    "            raise Exception('Maze must have a goal')\n",
    "        \n",
    "        contents = contents.splitlines() # everytime an escape character is detected: the part previous and next to it would be 2 entries of a list\n",
    "        self.height = len(contents) # number of lines = len (contents)\n",
    "        self.width = max(len(c) for c in contents) # Contents currently has each line of the maze, thus a string of max len would be the total width of the maze\n",
    "\n",
    "        self.walls = []\n",
    "        for i in range (self.height):\n",
    "            row = []"
   ]
  },
  {
   "cell_type": "code",
   "execution_count": 15,
   "metadata": {},
   "outputs": [
    {
     "data": {
      "text/plain": [
       "['hello world', 'hi', 'hi']"
      ]
     },
     "execution_count": 15,
     "metadata": {},
     "output_type": "execute_result"
    }
   ],
   "source": [
    "str = 'hello world\\nhi\\nhi'\n",
    "str.splitlines()"
   ]
  },
  {
   "cell_type": "code",
   "execution_count": null,
   "metadata": {},
   "outputs": [],
   "source": []
  },
  {
   "cell_type": "code",
   "execution_count": null,
   "metadata": {},
   "outputs": [],
   "source": []
  }
 ],
 "metadata": {
  "kernelspec": {
   "display_name": "base",
   "language": "python",
   "name": "python3"
  },
  "language_info": {
   "codemirror_mode": {
    "name": "ipython",
    "version": 3
   },
   "file_extension": ".py",
   "mimetype": "text/x-python",
   "name": "python",
   "nbconvert_exporter": "python",
   "pygments_lexer": "ipython3",
   "version": "3.10.9"
  },
  "orig_nbformat": 4
 },
 "nbformat": 4,
 "nbformat_minor": 2
}
