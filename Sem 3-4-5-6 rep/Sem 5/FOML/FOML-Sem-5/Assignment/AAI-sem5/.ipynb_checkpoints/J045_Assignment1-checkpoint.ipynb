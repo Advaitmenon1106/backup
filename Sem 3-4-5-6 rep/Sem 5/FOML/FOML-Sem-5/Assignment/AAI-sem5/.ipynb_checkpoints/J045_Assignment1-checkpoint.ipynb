{
 "cells": [
  {
   "cell_type": "code",
   "execution_count": 196,
   "metadata": {},
   "outputs": [],
   "source": [
    "class testClass:\n",
    "    x = 5"
   ]
  },
  {
   "cell_type": "code",
   "execution_count": 197,
   "metadata": {},
   "outputs": [
    {
     "data": {
      "text/plain": [
       "5"
      ]
     },
     "execution_count": 197,
     "metadata": {},
     "output_type": "execute_result"
    }
   ],
   "source": [
    "aClass = testClass()\n",
    "aClass.x"
   ]
  },
  {
   "cell_type": "code",
   "execution_count": 198,
   "metadata": {},
   "outputs": [],
   "source": [
    "class Person:\n",
    "    def __init__(self, name, age) -> None:\n",
    "        self.name = name\n",
    "        self.age = age\n",
    "    def introduce(self):\n",
    "        x = 5\n",
    "        print('Hello, this person\\'s name is', self.name, 'of age', self.age, 'the number is', x)"
   ]
  },
  {
   "cell_type": "code",
   "execution_count": 199,
   "metadata": {},
   "outputs": [
    {
     "name": "stdout",
     "output_type": "stream",
     "text": [
      "Hello, this person's name is John of age 20 the number is 5\n"
     ]
    }
   ],
   "source": [
    "p1 = Person('John', 20)\n",
    "p1.introduce()"
   ]
  },
  {
   "cell_type": "code",
   "execution_count": 200,
   "metadata": {},
   "outputs": [],
   "source": [
    "class nmims:\n",
    "    college_name='NMIMS'\n",
    "    def __init__(self, name, strength, sr, hod, year) -> None:\n",
    "        self.name = name\n",
    "        self.strength = strength\n",
    "        self.sr = sr\n",
    "        self.hod = hod\n",
    "        self.year = year\n",
    "    def printDetails(self):\n",
    "        print('The course:', self.name)\n",
    "        print('Strength:', self.strength)\n",
    "        print('The SR:', self.sr)"
   ]
  },
  {
   "cell_type": "code",
   "execution_count": 201,
   "metadata": {},
   "outputs": [],
   "source": [
    "btds = nmims('btds', 63, 'abcd', 'xyz', 2025)"
   ]
  },
  {
   "cell_type": "code",
   "execution_count": 202,
   "metadata": {},
   "outputs": [
    {
     "data": {
      "text/plain": [
       "63"
      ]
     },
     "execution_count": 202,
     "metadata": {},
     "output_type": "execute_result"
    }
   ],
   "source": [
    "btds.strength"
   ]
  },
  {
   "cell_type": "code",
   "execution_count": 203,
   "metadata": {},
   "outputs": [
    {
     "name": "stdout",
     "output_type": "stream",
     "text": [
      "The course: btds\n",
      "Strength: 63\n",
      "The SR: abcd\n"
     ]
    }
   ],
   "source": [
    "btds.printDetails()"
   ]
  },
  {
   "cell_type": "code",
   "execution_count": 204,
   "metadata": {},
   "outputs": [],
   "source": [
    "class tsec(nmims):\n",
    "    def __init__(self, name, strength, sr, hod, year,rank,inceptionYear) -> None:\n",
    "        super().__init__(name, strength, sr, hod, year)\n",
    "        self.rank=rank\n",
    "        self.inceptionYear = inceptionYear\n",
    "    def printFullDetails(self):\n",
    "        print('The course:', self.name)\n",
    "        print('Strength:', self.strength)\n",
    "        print('The SR:', self.sr)\n",
    "        print('The college is ranked', self.rank)\n",
    "        print('The college was founded in', self.inceptionYear)"
   ]
  },
  {
   "cell_type": "code",
   "execution_count": 205,
   "metadata": {},
   "outputs": [],
   "source": [
    "extc = tsec('extc', 70, 'abcd', 'syz', 2025, 4, 1970)"
   ]
  },
  {
   "cell_type": "code",
   "execution_count": 206,
   "metadata": {},
   "outputs": [
    {
     "name": "stdout",
     "output_type": "stream",
     "text": [
      "The course: extc\n",
      "Strength: 70\n",
      "The SR: abcd\n"
     ]
    }
   ],
   "source": [
    "extc.printDetails()"
   ]
  },
  {
   "cell_type": "code",
   "execution_count": 207,
   "metadata": {},
   "outputs": [
    {
     "name": "stdout",
     "output_type": "stream",
     "text": [
      "The course: extc\n",
      "Strength: 70\n",
      "The SR: abcd\n",
      "The college is ranked 4\n",
      "The college was founded in 1970\n"
     ]
    }
   ],
   "source": [
    "extc.printFullDetails()"
   ]
  },
  {
   "cell_type": "markdown",
   "metadata": {},
   "source": [
    "#### Assignent Starts\n",
    "\n",
    "#### Question/Problem Statement:-\n",
    "\n",
    "- [x] An excel sheet is given, which has flight details of some n passengers. These details would form your variables in the class you construct (My class name is Passenger)\n",
    "- [x] Use some means of storing this data and displaying it/part of it\n",
    "- [ ] Also define a method within the class which allows user input"
   ]
  },
  {
   "cell_type": "code",
   "execution_count": 208,
   "metadata": {},
   "outputs": [],
   "source": [
    "import numpy as np\n",
    "import pandas as pd"
   ]
  },
  {
   "cell_type": "code",
   "execution_count": 209,
   "metadata": {},
   "outputs": [],
   "source": [
    "flightDet = pd.read_excel(\"C:/Users/Kavita manoj/Downloads/ClassData.xlsx\", sheet_name='Sheet1')"
   ]
  },
  {
   "cell_type": "code",
   "execution_count": 210,
   "metadata": {},
   "outputs": [],
   "source": [
    "passengerList = []\n",
    "class Passenger:\n",
    "    def __init__(self, name, age, gender, passport_number, preference, destination, meal_pref, custom_declare, visa_type) -> None:\n",
    "        self.name = name\n",
    "        self.age = age\n",
    "        self.gender = gender\n",
    "        self.passport_number = passport_number\n",
    "        self.preference = preference\n",
    "        self.destination = destination\n",
    "        self.meal_pref = meal_pref\n",
    "        self.custom_declare = custom_declare\n",
    "        self.visa_type = visa_type\n"
   ]
  },
  {
   "cell_type": "code",
   "execution_count": 211,
   "metadata": {},
   "outputs": [
    {
     "data": {
      "text/html": [
       "<div>\n",
       "<style scoped>\n",
       "    .dataframe tbody tr th:only-of-type {\n",
       "        vertical-align: middle;\n",
       "    }\n",
       "\n",
       "    .dataframe tbody tr th {\n",
       "        vertical-align: top;\n",
       "    }\n",
       "\n",
       "    .dataframe thead th {\n",
       "        text-align: right;\n",
       "    }\n",
       "</style>\n",
       "<table border=\"1\" class=\"dataframe\">\n",
       "  <thead>\n",
       "    <tr style=\"text-align: right;\">\n",
       "      <th></th>\n",
       "      <th>Name</th>\n",
       "      <th>Age</th>\n",
       "      <th>Gender</th>\n",
       "      <th>Passport_Number</th>\n",
       "      <th>Preference</th>\n",
       "      <th>Destination</th>\n",
       "      <th>Meal_Preference</th>\n",
       "      <th>Custom_Declare</th>\n",
       "      <th>Visa_Type</th>\n",
       "    </tr>\n",
       "  </thead>\n",
       "  <tbody>\n",
       "    <tr>\n",
       "      <th>0</th>\n",
       "      <td>Prince</td>\n",
       "      <td>23</td>\n",
       "      <td>Male</td>\n",
       "      <td>53836326</td>\n",
       "      <td>Coach</td>\n",
       "      <td>BOM</td>\n",
       "      <td>Vegan</td>\n",
       "      <td>Cash</td>\n",
       "      <td>Tourist</td>\n",
       "    </tr>\n",
       "    <tr>\n",
       "      <th>1</th>\n",
       "      <td>Harsh</td>\n",
       "      <td>24</td>\n",
       "      <td>Male</td>\n",
       "      <td>25347263</td>\n",
       "      <td>Coach</td>\n",
       "      <td>BKK</td>\n",
       "      <td>Salad</td>\n",
       "      <td>Gold</td>\n",
       "      <td>Tourist</td>\n",
       "    </tr>\n",
       "    <tr>\n",
       "      <th>2</th>\n",
       "      <td>Sana</td>\n",
       "      <td>26</td>\n",
       "      <td>Female</td>\n",
       "      <td>62946273</td>\n",
       "      <td>First Class</td>\n",
       "      <td>DXB</td>\n",
       "      <td>Chicken Meal</td>\n",
       "      <td>Rolex</td>\n",
       "      <td>Tourist</td>\n",
       "    </tr>\n",
       "    <tr>\n",
       "      <th>3</th>\n",
       "      <td>Aneri</td>\n",
       "      <td>28</td>\n",
       "      <td>Female</td>\n",
       "      <td>52638463</td>\n",
       "      <td>Buisness Class</td>\n",
       "      <td>KTM</td>\n",
       "      <td>Vegan</td>\n",
       "      <td>NaN</td>\n",
       "      <td>Tourist</td>\n",
       "    </tr>\n",
       "    <tr>\n",
       "      <th>4</th>\n",
       "      <td>Rohan</td>\n",
       "      <td>23</td>\n",
       "      <td>Male</td>\n",
       "      <td>68354983</td>\n",
       "      <td>Coach</td>\n",
       "      <td>GOI</td>\n",
       "      <td>Vegan</td>\n",
       "      <td>NaN</td>\n",
       "      <td>Tourist</td>\n",
       "    </tr>\n",
       "  </tbody>\n",
       "</table>\n",
       "</div>"
      ],
      "text/plain": [
       "     Name  Age  Gender  Passport_Number      Preference Destination  \\\n",
       "0  Prince   23    Male         53836326           Coach         BOM   \n",
       "1   Harsh   24    Male         25347263           Coach         BKK   \n",
       "2    Sana   26  Female         62946273     First Class         DXB   \n",
       "3   Aneri   28  Female         52638463  Buisness Class         KTM   \n",
       "4   Rohan   23    Male         68354983           Coach         GOI   \n",
       "\n",
       "  Meal_Preference Custom_Declare Visa_Type  \n",
       "0           Vegan           Cash   Tourist  \n",
       "1           Salad           Gold   Tourist  \n",
       "2    Chicken Meal          Rolex   Tourist  \n",
       "3           Vegan            NaN   Tourist  \n",
       "4           Vegan            NaN   Tourist  "
      ]
     },
     "execution_count": 211,
     "metadata": {},
     "output_type": "execute_result"
    }
   ],
   "source": [
    "flightDet.head()"
   ]
  },
  {
   "cell_type": "code",
   "execution_count": 212,
   "metadata": {},
   "outputs": [],
   "source": [
    "for i in range (0, len(flightDet.Name)):\n",
    "    passenger = Passenger(flightDet['Name'][i], flightDet['Age'][i], flightDet['Gender'][i], flightDet['Passport_Number'][i], flightDet['Preference'][i], flightDet['Destination'][i], flightDet['Meal_Preference'][i], flightDet['Custom_Declare'][i], flightDet['Visa_Type'][i])\n",
    "    passengerList.append(passenger)\n",
    "\n",
    "# Use cases of passengerList (object array):-\n",
    "# Displaying passengerList will give nothing of relevance\n",
    "# Displaying passengerList[index].attribute is more important and useful"
   ]
  },
  {
   "cell_type": "code",
   "execution_count": 213,
   "metadata": {},
   "outputs": [
    {
     "name": "stdout",
     "output_type": "stream",
     "text": [
      "Prince\n",
      "Harsh 23\n"
     ]
    }
   ],
   "source": [
    "print(passengerList[0].name)\n",
    "print(passengerList[1].name, passengerList[0].age)"
   ]
  },
  {
   "cell_type": "code",
   "execution_count": 214,
   "metadata": {},
   "outputs": [
    {
     "name": "stdout",
     "output_type": "stream",
     "text": [
      "0 {'name': 'Prince', 'age': 23, 'gender': 'Male', 'passport_number': 53836326, 'preference': 'Coach', 'destination': 'BOM', 'meal_pref': 'Vegan', 'custom_declare': 'Cash', 'visa_type': 'Tourist'}\n",
      "1 {'name': 'Harsh', 'age': 24, 'gender': 'Male', 'passport_number': 25347263, 'preference': 'Coach', 'destination': 'BKK', 'meal_pref': 'Salad', 'custom_declare': 'Gold', 'visa_type': 'Tourist'}\n",
      "2 {'name': 'Sana', 'age': 26, 'gender': 'Female', 'passport_number': 62946273, 'preference': 'First Class', 'destination': 'DXB', 'meal_pref': 'Chicken Meal', 'custom_declare': 'Rolex', 'visa_type': 'Tourist'}\n",
      "3 {'name': 'Aneri', 'age': 28, 'gender': 'Female', 'passport_number': 52638463, 'preference': 'Buisness Class', 'destination': 'KTM', 'meal_pref': 'Vegan', 'custom_declare': nan, 'visa_type': 'Tourist'}\n",
      "4 {'name': 'Rohan', 'age': 23, 'gender': 'Male', 'passport_number': 68354983, 'preference': 'Coach', 'destination': 'GOI', 'meal_pref': 'Vegan', 'custom_declare': nan, 'visa_type': 'Tourist'}\n",
      "5 {'name': 'Sumit', 'age': 32, 'gender': 'Male', 'passport_number': 65482734, 'preference': 'Buisness Class', 'destination': 'CMB', 'meal_pref': 'Chicken Meal', 'custom_declare': 'Cash', 'visa_type': 'Buisness'}\n",
      "6 {'name': 'Hiten', 'age': 12, 'gender': 'Male', 'passport_number': 25463749, 'preference': 'First Class', 'destination': 'JFK', 'meal_pref': 'Salad', 'custom_declare': 'Cash', 'visa_type': 'Tourist'}\n",
      "7 {'name': 'Sparsh', 'age': 45, 'gender': 'Male', 'passport_number': 45663527, 'preference': 'First Class', 'destination': 'JFK', 'meal_pref': 'Vegan', 'custom_declare': 'Gold', 'visa_type': 'Buisness'}\n",
      "8 {'name': 'Vedant', 'age': 22, 'gender': 'Male', 'passport_number': 25374528, 'preference': 'Coach', 'destination': 'BKK', 'meal_pref': 'Chicken Meal', 'custom_declare': 'Gold', 'visa_type': 'Tourist'}\n",
      "9 {'name': 'Mahek', 'age': 20, 'gender': 'Male', 'passport_number': 36492648, 'preference': 'Coach', 'destination': 'BKK', 'meal_pref': 'Salad', 'custom_declare': nan, 'visa_type': 'Tourist'}\n"
     ]
    }
   ],
   "source": [
    "for x in range (0, len(passengerList)):\n",
    "    print(x, passengerList[x].__dict__)"
   ]
  },
  {
   "cell_type": "code",
   "execution_count": 215,
   "metadata": {},
   "outputs": [
    {
     "name": "stdout",
     "output_type": "stream",
     "text": [
      "Index out of range\n",
      "{'name': 'Sana', 'age': 26, 'gender': 'Female', 'passport_number': 62946273, 'preference': 'First Class', 'destination': 'DXB', 'meal_pref': 'Chicken Meal', 'custom_declare': 'Rolex', 'visa_type': 'Tourist'}\n"
     ]
    }
   ],
   "source": [
    "## Uncomment the following and run this for user defined inputs to obtain data\n",
    "\"\"\"\n",
    "indexVal = int(input(\"Enter the ticket number (df index) to show all details: \"))\n",
    "try:\n",
    "    print(passengerList[indexVal].__dict__)\n",
    "except IndexError:\n",
    "    print('Index out of range')\n",
    "    indexVal = int(input(\"Try again. Enter the ticket number (df index) to show all details: \"))\n",
    "    print(passengerList[indexVal].__dict__)\n",
    "\"\"\""
   ]
  },
  {
   "cell_type": "code",
   "execution_count": null,
   "metadata": {},
   "outputs": [],
   "source": []
  }
 ],
 "metadata": {
  "kernelspec": {
   "display_name": "Python 3 (ipykernel)",
   "language": "python",
   "name": "python3"
  },
  "language_info": {
   "codemirror_mode": {
    "name": "ipython",
    "version": 3
   },
   "file_extension": ".py",
   "mimetype": "text/x-python",
   "name": "python",
   "nbconvert_exporter": "python",
   "pygments_lexer": "ipython3",
   "version": "3.10.9"
  }
 },
 "nbformat": 4,
 "nbformat_minor": 2
}
