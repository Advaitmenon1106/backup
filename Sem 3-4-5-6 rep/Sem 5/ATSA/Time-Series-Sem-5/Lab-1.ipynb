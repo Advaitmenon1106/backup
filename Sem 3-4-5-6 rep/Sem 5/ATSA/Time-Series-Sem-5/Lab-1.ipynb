{
 "cells": [
  {
   "cell_type": "markdown",
   "metadata": {},
   "source": [
    "### Pandas program to create:-\n",
    "\n",
    "- [ ] 1. Datetime object for Jan 11, 2023\n",
    "- [ ] 2. Specific date and time of 9.20 pm\n",
    "- [ ] 3. Local date and time\n",
    "- [ ] 4. A Date without time\n",
    "- [ ] 5. Current date\n",
    "- [ ] 6. Time from a datetime\n",
    "- [ ] 7. Current Local Time"
   ]
  },
  {
   "cell_type": "code",
   "execution_count": 29,
   "metadata": {},
   "outputs": [],
   "source": [
    "import datetime as dt\n",
    "from datetime import datetime"
   ]
  },
  {
   "cell_type": "code",
   "execution_count": 30,
   "metadata": {},
   "outputs": [
    {
     "name": "stdout",
     "output_type": "stream",
     "text": [
      "2023-01-11 00:00:00\n"
     ]
    }
   ],
   "source": [
    "#1 \n",
    "jan11 = datetime(2023, 1, 11, tzinfo=None)\n",
    "print(jan11)"
   ]
  },
  {
   "cell_type": "code",
   "execution_count": 31,
   "metadata": {},
   "outputs": [],
   "source": [
    "#3\n",
    "localTime = datetime.now()"
   ]
  },
  {
   "cell_type": "code",
   "execution_count": 32,
   "metadata": {},
   "outputs": [
    {
     "data": {
      "text/plain": [
       "datetime.datetime(2023, 8, 7, 10, 48, 16, 430924)"
      ]
     },
     "execution_count": 32,
     "metadata": {},
     "output_type": "execute_result"
    }
   ],
   "source": [
    "localTime"
   ]
  },
  {
   "cell_type": "code",
   "execution_count": 33,
   "metadata": {},
   "outputs": [
    {
     "data": {
      "text/plain": [
       "[(datetime.date(2019, 1, 14), 'Makar Sankranti / Pongal'),\n",
       " (datetime.date(2019, 1, 26), 'Republic Day'),\n",
       " (datetime.date(2019, 8, 15), 'Independence Day'),\n",
       " (datetime.date(2019, 10, 2), 'Gandhi Jayanti'),\n",
       " (datetime.date(2019, 5, 1), 'Labour Day'),\n",
       " (datetime.date(2019, 10, 27), 'Diwali'),\n",
       " (datetime.date(2019, 3, 21), 'Holi'),\n",
       " (datetime.date(2019, 9, 9), 'Day of Ashura* (*estimated)'),\n",
       " (datetime.date(2019, 11, 9), 'Mawlid* (*estimated)'),\n",
       " (datetime.date(2019, 6, 4), 'Eid ul-Fitr* (*estimated)'),\n",
       " (datetime.date(2019, 6, 5), 'Eid ul-Fitr* (*estimated)'),\n",
       " (datetime.date(2019, 8, 11), 'Eid al-Adha* (*estimated)'),\n",
       " (datetime.date(2019, 8, 12), 'Eid al-Adha* (*estimated)'),\n",
       " (datetime.date(2019, 4, 14), 'Palm Sunday'),\n",
       " (datetime.date(2019, 4, 19), 'Good Friday'),\n",
       " (datetime.date(2019, 4, 21), 'Easter Sunday'),\n",
       " (datetime.date(2019, 6, 9), 'Feast of Pentecost'),\n",
       " (datetime.date(2019, 12, 25), 'Christmas Day')]"
      ]
     },
     "execution_count": 33,
     "metadata": {},
     "output_type": "execute_result"
    }
   ],
   "source": [
    "import holidays\n",
    "holidayList=[]\n",
    "for days in holidays.India(years=2019).items():\n",
    "    holidayList.append(days)\n",
    "\n",
    "holidayList"
   ]
  },
  {
   "cell_type": "code",
   "execution_count": null,
   "metadata": {},
   "outputs": [],
   "source": []
  },
  {
   "cell_type": "code",
   "execution_count": 34,
   "metadata": {},
   "outputs": [],
   "source": [
    "def convertToDate(day, year):\n",
    "    return datetime(year, 1, 1)+dt.timedelta(day-1) #Why???"
   ]
  },
  {
   "cell_type": "code",
   "execution_count": 37,
   "metadata": {},
   "outputs": [
    {
     "name": "stdout",
     "output_type": "stream",
     "text": [
      "2015-01-01 00:00:00\n"
     ]
    }
   ],
   "source": [
    "print(convertToDate(1, 2015))"
   ]
  },
  {
   "cell_type": "code",
   "execution_count": null,
   "metadata": {},
   "outputs": [],
   "source": []
  },
  {
   "cell_type": "code",
   "execution_count": null,
   "metadata": {},
   "outputs": [],
   "source": []
  }
 ],
 "metadata": {
  "kernelspec": {
   "display_name": "Python 3",
   "language": "python",
   "name": "python3"
  },
  "language_info": {
   "codemirror_mode": {
    "name": "ipython",
    "version": 3
   },
   "file_extension": ".py",
   "mimetype": "text/x-python",
   "name": "python",
   "nbconvert_exporter": "python",
   "pygments_lexer": "ipython3",
   "version": "3.10.4"
  },
  "orig_nbformat": 4
 },
 "nbformat": 4,
 "nbformat_minor": 2
}
