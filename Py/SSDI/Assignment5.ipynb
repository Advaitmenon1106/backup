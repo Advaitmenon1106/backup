{
 "cells": [
  {
   "cell_type": "code",
   "execution_count": 51,
   "metadata": {},
   "outputs": [],
   "source": [
    "import numpy as np\n",
    "import pandas as pd"
   ]
  },
  {
   "cell_type": "code",
   "execution_count": 52,
   "metadata": {},
   "outputs": [
    {
     "name": "stdout",
     "output_type": "stream",
     "text": [
      "20 20\n"
     ]
    }
   ],
   "source": [
    "X_i = [\"X1\",\"X1\",\"X1\",\"X1\",\"X1\", \"X2\",\"X2\",\"X2\",\"X2\", \"X3\",\"X3\",\"X3\",\"X3\",\"X3\",\"X3\",\"X3\",\"X4\",\"X4\",\"X4\",\"X4\"]\n",
    "Values = [15, 13, 18, 16, 13, 16, 17, 19, 12, 20, 14, 15, 15, 18, 17, 14, 29, 31, 28, 27]\n",
    "print(len(X_i), len(Values))"
   ]
  },
  {
   "cell_type": "code",
   "execution_count": 53,
   "metadata": {},
   "outputs": [
    {
     "name": "stdout",
     "output_type": "stream",
     "text": [
      "   XValues  Values\n",
      "0       X1      15\n",
      "1       X1      13\n",
      "2       X1      18\n",
      "3       X1      16\n",
      "4       X1      13\n",
      "5       X2      16\n",
      "6       X2      17\n",
      "7       X2      19\n",
      "8       X2      12\n",
      "9       X3      20\n",
      "10      X3      14\n",
      "11      X3      15\n",
      "12      X3      15\n",
      "13      X3      18\n",
      "14      X3      17\n",
      "15      X3      14\n",
      "16      X4      29\n",
      "17      X4      31\n",
      "18      X4      28\n",
      "19      X4      27\n"
     ]
    }
   ],
   "source": [
    "Dict = {\"X1\": [15, 13, 18, 16, 13], \"X2\": [16, 17, 19, 12], \"X3\": [20, 14, 15, 15, 18, 17, 14], \"X4\" : [29, 31, 28, 27]}\n",
    "df1 = pd.DataFrame({\"XValues\": X_i, \"Values\": Values})\n",
    "print (df1)"
   ]
  },
  {
   "cell_type": "code",
   "execution_count": 54,
   "metadata": {},
   "outputs": [],
   "source": [
    "import statsmodels.api as sm\n",
    "from statsmodels.formula.api import ols"
   ]
  },
  {
   "cell_type": "code",
   "execution_count": 55,
   "metadata": {},
   "outputs": [],
   "source": [
    "lm = ols(\"Values~XValues\", data=df1).fit()\n",
    "anova = sm.stats.anova_lm(lm, type=1)"
   ]
  },
  {
   "cell_type": "code",
   "execution_count": 56,
   "metadata": {},
   "outputs": [
    {
     "data": {
      "text/html": [
       "<div>\n",
       "<style scoped>\n",
       "    .dataframe tbody tr th:only-of-type {\n",
       "        vertical-align: middle;\n",
       "    }\n",
       "\n",
       "    .dataframe tbody tr th {\n",
       "        vertical-align: top;\n",
       "    }\n",
       "\n",
       "    .dataframe thead th {\n",
       "        text-align: right;\n",
       "    }\n",
       "</style>\n",
       "<table border=\"1\" class=\"dataframe\">\n",
       "  <thead>\n",
       "    <tr style=\"text-align: right;\">\n",
       "      <th></th>\n",
       "      <th>df</th>\n",
       "      <th>sum_sq</th>\n",
       "      <th>mean_sq</th>\n",
       "      <th>F</th>\n",
       "      <th>PR(&gt;F)</th>\n",
       "    </tr>\n",
       "  </thead>\n",
       "  <tbody>\n",
       "    <tr>\n",
       "      <th>XValues</th>\n",
       "      <td>3.0</td>\n",
       "      <td>544.942857</td>\n",
       "      <td>181.647619</td>\n",
       "      <td>34.762124</td>\n",
       "      <td>3.072133e-07</td>\n",
       "    </tr>\n",
       "    <tr>\n",
       "      <th>Residual</th>\n",
       "      <td>16.0</td>\n",
       "      <td>83.607143</td>\n",
       "      <td>5.225446</td>\n",
       "      <td>NaN</td>\n",
       "      <td>NaN</td>\n",
       "    </tr>\n",
       "  </tbody>\n",
       "</table>\n",
       "</div>"
      ],
      "text/plain": [
       "            df      sum_sq     mean_sq          F        PR(>F)\n",
       "XValues    3.0  544.942857  181.647619  34.762124  3.072133e-07\n",
       "Residual  16.0   83.607143    5.225446        NaN           NaN"
      ]
     },
     "execution_count": 56,
     "metadata": {},
     "output_type": "execute_result"
    }
   ],
   "source": [
    "anova\n",
    "#residuals ssw"
   ]
  },
  {
   "cell_type": "code",
   "execution_count": 57,
   "metadata": {},
   "outputs": [
    {
     "data": {
      "text/html": [
       "<table class=\"simpletable\">\n",
       "<caption>Multiple Comparison of Means - Tukey HSD, FWER=0.05</caption>\n",
       "<tr>\n",
       "  <th>group1</th> <th>group2</th> <th>meandiff</th>  <th>p-adj</th>  <th>lower</th>   <th>upper</th>  <th>reject</th>\n",
       "</tr>\n",
       "<tr>\n",
       "    <td>X1</td>     <td>X2</td>      <td>1.0</td>   <td>0.9133</td> <td>-3.3872</td> <td>5.3872</td>   <td>False</td>\n",
       "</tr>\n",
       "<tr>\n",
       "    <td>X1</td>     <td>X3</td>    <td>1.1429</td>   <td>0.828</td> <td>-2.6866</td> <td>4.9723</td>   <td>False</td>\n",
       "</tr>\n",
       "<tr>\n",
       "    <td>X1</td>     <td>X4</td>     <td>13.75</td>    <td>0.0</td>  <td>9.3628</td>  <td>18.1372</td>  <td>True</td> \n",
       "</tr>\n",
       "<tr>\n",
       "    <td>X2</td>     <td>X3</td>    <td>0.1429</td>  <td>0.9996</td> <td>-3.9564</td> <td>4.2421</td>   <td>False</td>\n",
       "</tr>\n",
       "<tr>\n",
       "    <td>X2</td>     <td>X4</td>     <td>12.75</td>    <td>0.0</td>  <td>8.1255</td>  <td>17.3745</td>  <td>True</td> \n",
       "</tr>\n",
       "<tr>\n",
       "    <td>X3</td>     <td>X4</td>    <td>12.6071</td>   <td>0.0</td>  <td>8.5079</td>  <td>16.7064</td>  <td>True</td> \n",
       "</tr>\n",
       "</table>"
      ],
      "text/plain": [
       "<class 'statsmodels.iolib.table.SimpleTable'>"
      ]
     },
     "execution_count": 57,
     "metadata": {},
     "output_type": "execute_result"
    }
   ],
   "source": [
    "from statsmodels.stats.multicomp import pairwise_tukeyhsd\n",
    "tukey = pairwise_tukeyhsd(df1[\"Values\"], groups=df1[\"XValues\"])\n",
    "tukey._results_table"
   ]
  },
  {
   "cell_type": "code",
   "execution_count": 58,
   "metadata": {},
   "outputs": [
    {
     "name": "stdout",
     "output_type": "stream",
     "text": [
      "Ttest_indResult(statistic=-10.772585267723974, pvalue=0.9999933944881405)\n",
      "Ttest_indResult(statistic=-0.5710402407201608, pvalue=0.7043764252521443)\n"
     ]
    }
   ],
   "source": [
    "from scipy import stats\n",
    "print(stats.ttest_ind(Dict[\"X1\"], Dict[\"X4\"], equal_var=False, alternative=\"greater\"))\n",
    "print (stats.ttest_ind(Dict[\"X1\"], Dict[\"X2\"], equal_var=False, alternative=\"greater\"))"
   ]
  }
 ],
 "metadata": {
  "kernelspec": {
   "display_name": "Python 3",
   "language": "python",
   "name": "python3"
  },
  "language_info": {
   "codemirror_mode": {
    "name": "ipython",
    "version": 3
   },
   "file_extension": ".py",
   "mimetype": "text/x-python",
   "name": "python",
   "nbconvert_exporter": "python",
   "pygments_lexer": "ipython3",
   "version": "3.10.4"
  },
  "orig_nbformat": 4,
  "vscode": {
   "interpreter": {
    "hash": "79faa210a4d4b910022c04f6ce8980c16d31a28838e0d99a1f5f82f062c85742"
   }
  }
 },
 "nbformat": 4,
 "nbformat_minor": 2
}
