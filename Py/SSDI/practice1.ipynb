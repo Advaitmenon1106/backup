{
 "cells": [
  {
   "cell_type": "code",
   "execution_count": 17,
   "metadata": {},
   "outputs": [],
   "source": [
    "import numpy as np\n",
    "import pandas as pd\n",
    "import matplotlib.pyplot as plt\n",
    "from scipy.stats import norm"
   ]
  },
  {
   "cell_type": "code",
   "execution_count": 18,
   "metadata": {},
   "outputs": [
    {
     "data": {
      "text/plain": [
       "     fun: 239.55596859354426\n",
       "     jac: array([-0.0015049 , -0.00026894])\n",
       " message: 'Optimization terminated successfully'\n",
       "    nfev: 43\n",
       "     nit: 11\n",
       "    njev: 11\n",
       "  status: 0\n",
       " success: True\n",
       "       x: array([2.18164257, 2.6554591 ])"
      ]
     },
     "execution_count": 18,
     "metadata": {},
     "output_type": "execute_result"
    }
   ],
   "source": [
    "np.random.seed(1)\n",
    "mean1 = 2\n",
    "sd1 = 3\n",
    "n = 100\n",
    "X = np.random.normal(mean1, sd1, (n, ))\n",
    "p = [1, 1]\n",
    "def maxL(p, X):\n",
    "    mu = p[0]\n",
    "    sd = p[1]\n",
    "    l = np.sum(np.log(norm.pdf(X, mu, sd)))\n",
    "    return -l\n",
    "\n",
    "from scipy.optimize import minimize\n",
    "def cons(k):\n",
    "    return k\n",
    "con = {\"type\" : \"ineq\", \"fun\": cons}\n",
    "minimize(maxL,p, args=(X, ), constraints=con)"
   ]
  },
  {
   "cell_type": "code",
   "execution_count": 19,
   "metadata": {},
   "outputs": [
    {
     "data": {
      "text/plain": [
       "1.4758840487820273"
      ]
     },
     "execution_count": 19,
     "metadata": {},
     "output_type": "execute_result"
    }
   ],
   "source": [
    "from scipy.stats import t\n",
    "scores = np.array([62, 92, 75, 68, 83, 95])\n",
    "mean = scores.mean()\n",
    "standdev = scores.std()\n",
    "t.ppf(0.9, 5)"
   ]
  },
  {
   "cell_type": "code",
   "execution_count": 20,
   "metadata": {},
   "outputs": [
    {
     "data": {
      "text/plain": [
       "1.8680774921376846"
      ]
     },
     "execution_count": 20,
     "metadata": {},
     "output_type": "execute_result"
    }
   ],
   "source": [
    "tcalc = (mean-70)/(standdev/np.sqrt(6))\n",
    "tcalc"
   ]
  }
 ],
 "metadata": {
  "kernelspec": {
   "display_name": "Python 3",
   "language": "python",
   "name": "python3"
  },
  "language_info": {
   "codemirror_mode": {
    "name": "ipython",
    "version": 3
   },
   "file_extension": ".py",
   "mimetype": "text/x-python",
   "name": "python",
   "nbconvert_exporter": "python",
   "pygments_lexer": "ipython3",
   "version": "3.10.4 (tags/v3.10.4:9d38120, Mar 23 2022, 23:13:41) [MSC v.1929 64 bit (AMD64)]"
  },
  "orig_nbformat": 4,
  "vscode": {
   "interpreter": {
    "hash": "79faa210a4d4b910022c04f6ce8980c16d31a28838e0d99a1f5f82f062c85742"
   }
  }
 },
 "nbformat": 4,
 "nbformat_minor": 2
}
