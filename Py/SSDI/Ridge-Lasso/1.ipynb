{
 "cells": [
  {
   "cell_type": "code",
   "execution_count": 54,
   "metadata": {},
   "outputs": [],
   "source": [
    "import numpy as np\n",
    "import pandas as pd\n",
    "import matplotlib.pyplot as plt\n",
    "from sklearn.linear_model import LinearRegression\n",
    "from sklearn.linear_model import Ridge\n",
    "from sklearn.linear_model import Lasso\n",
    "import statsmodels.formula.api as sm\n",
    "from sklearn.preprocessing import scale\n",
    "import seaborn as sns\n",
    "import statsmodels.api as smf\n",
    "from statsmodels.stats.outliers_influence import variance_inflation_factor\n",
    "from sklearn.model_selection import train_test_split, LeaveOneOut, KFold, cross_val_score\n",
    "from sklearn.metrics import mean_squared_error"
   ]
  },
  {
   "cell_type": "code",
   "execution_count": 55,
   "metadata": {},
   "outputs": [],
   "source": [
    "auto = pd.read_csv(\"C:/Users/Kavita manoj/Downloads/Auto.csv\", na_values='?').dropna()"
   ]
  },
  {
   "cell_type": "code",
   "execution_count": 56,
   "metadata": {},
   "outputs": [],
   "source": [
    "X = auto.iloc[:, 1:8]\n",
    "Y = auto.iloc[:, 0]"
   ]
  },
  {
   "cell_type": "code",
   "execution_count": 57,
   "metadata": {},
   "outputs": [
    {
     "data": {
      "text/html": [
       "<table class=\"simpletable\">\n",
       "<caption>OLS Regression Results</caption>\n",
       "<tr>\n",
       "  <th>Dep. Variable:</th>           <td>mpg</td>       <th>  R-squared:         </th> <td>   0.821</td> \n",
       "</tr>\n",
       "<tr>\n",
       "  <th>Model:</th>                   <td>OLS</td>       <th>  Adj. R-squared:    </th> <td>   0.818</td> \n",
       "</tr>\n",
       "<tr>\n",
       "  <th>Method:</th>             <td>Least Squares</td>  <th>  F-statistic:       </th> <td>   252.4</td> \n",
       "</tr>\n",
       "<tr>\n",
       "  <th>Date:</th>             <td>Thu, 30 Mar 2023</td> <th>  Prob (F-statistic):</th> <td>2.04e-139</td>\n",
       "</tr>\n",
       "<tr>\n",
       "  <th>Time:</th>                 <td>10:29:54</td>     <th>  Log-Likelihood:    </th> <td> -1023.5</td> \n",
       "</tr>\n",
       "<tr>\n",
       "  <th>No. Observations:</th>      <td>   392</td>      <th>  AIC:               </th> <td>   2063.</td> \n",
       "</tr>\n",
       "<tr>\n",
       "  <th>Df Residuals:</th>          <td>   384</td>      <th>  BIC:               </th> <td>   2095.</td> \n",
       "</tr>\n",
       "<tr>\n",
       "  <th>Df Model:</th>              <td>     7</td>      <th>                     </th>     <td> </td>    \n",
       "</tr>\n",
       "<tr>\n",
       "  <th>Covariance Type:</th>      <td>nonrobust</td>    <th>                     </th>     <td> </td>    \n",
       "</tr>\n",
       "</table>\n",
       "<table class=\"simpletable\">\n",
       "<tr>\n",
       "        <td></td>          <th>coef</th>     <th>std err</th>      <th>t</th>      <th>P>|t|</th>  <th>[0.025</th>    <th>0.975]</th>  \n",
       "</tr>\n",
       "<tr>\n",
       "  <th>Intercept</th>    <td>  -17.2184</td> <td>    4.644</td> <td>   -3.707</td> <td> 0.000</td> <td>  -26.350</td> <td>   -8.087</td>\n",
       "</tr>\n",
       "<tr>\n",
       "  <th>cylinders</th>    <td>   -0.4934</td> <td>    0.323</td> <td>   -1.526</td> <td> 0.128</td> <td>   -1.129</td> <td>    0.142</td>\n",
       "</tr>\n",
       "<tr>\n",
       "  <th>displacement</th> <td>    0.0199</td> <td>    0.008</td> <td>    2.647</td> <td> 0.008</td> <td>    0.005</td> <td>    0.035</td>\n",
       "</tr>\n",
       "<tr>\n",
       "  <th>horsepower</th>   <td>   -0.0170</td> <td>    0.014</td> <td>   -1.230</td> <td> 0.220</td> <td>   -0.044</td> <td>    0.010</td>\n",
       "</tr>\n",
       "<tr>\n",
       "  <th>weight</th>       <td>   -0.0065</td> <td>    0.001</td> <td>   -9.929</td> <td> 0.000</td> <td>   -0.008</td> <td>   -0.005</td>\n",
       "</tr>\n",
       "<tr>\n",
       "  <th>acceleration</th> <td>    0.0806</td> <td>    0.099</td> <td>    0.815</td> <td> 0.415</td> <td>   -0.114</td> <td>    0.275</td>\n",
       "</tr>\n",
       "<tr>\n",
       "  <th>year</th>         <td>    0.7508</td> <td>    0.051</td> <td>   14.729</td> <td> 0.000</td> <td>    0.651</td> <td>    0.851</td>\n",
       "</tr>\n",
       "<tr>\n",
       "  <th>origin</th>       <td>    1.4261</td> <td>    0.278</td> <td>    5.127</td> <td> 0.000</td> <td>    0.879</td> <td>    1.973</td>\n",
       "</tr>\n",
       "</table>\n",
       "<table class=\"simpletable\">\n",
       "<tr>\n",
       "  <th>Omnibus:</th>       <td>31.906</td> <th>  Durbin-Watson:     </th> <td>   1.309</td>\n",
       "</tr>\n",
       "<tr>\n",
       "  <th>Prob(Omnibus):</th> <td> 0.000</td> <th>  Jarque-Bera (JB):  </th> <td>  53.100</td>\n",
       "</tr>\n",
       "<tr>\n",
       "  <th>Skew:</th>          <td> 0.529</td> <th>  Prob(JB):          </th> <td>2.95e-12</td>\n",
       "</tr>\n",
       "<tr>\n",
       "  <th>Kurtosis:</th>      <td> 4.460</td> <th>  Cond. No.          </th> <td>8.59e+04</td>\n",
       "</tr>\n",
       "</table><br/><br/>Notes:<br/>[1] Standard Errors assume that the covariance matrix of the errors is correctly specified.<br/>[2] The condition number is large, 8.59e+04. This might indicate that there are<br/>strong multicollinearity or other numerical problems."
      ],
      "text/plain": [
       "<class 'statsmodels.iolib.summary.Summary'>\n",
       "\"\"\"\n",
       "                            OLS Regression Results                            \n",
       "==============================================================================\n",
       "Dep. Variable:                    mpg   R-squared:                       0.821\n",
       "Model:                            OLS   Adj. R-squared:                  0.818\n",
       "Method:                 Least Squares   F-statistic:                     252.4\n",
       "Date:                Thu, 30 Mar 2023   Prob (F-statistic):          2.04e-139\n",
       "Time:                        10:29:54   Log-Likelihood:                -1023.5\n",
       "No. Observations:                 392   AIC:                             2063.\n",
       "Df Residuals:                     384   BIC:                             2095.\n",
       "Df Model:                           7                                         \n",
       "Covariance Type:            nonrobust                                         \n",
       "================================================================================\n",
       "                   coef    std err          t      P>|t|      [0.025      0.975]\n",
       "--------------------------------------------------------------------------------\n",
       "Intercept      -17.2184      4.644     -3.707      0.000     -26.350      -8.087\n",
       "cylinders       -0.4934      0.323     -1.526      0.128      -1.129       0.142\n",
       "displacement     0.0199      0.008      2.647      0.008       0.005       0.035\n",
       "horsepower      -0.0170      0.014     -1.230      0.220      -0.044       0.010\n",
       "weight          -0.0065      0.001     -9.929      0.000      -0.008      -0.005\n",
       "acceleration     0.0806      0.099      0.815      0.415      -0.114       0.275\n",
       "year             0.7508      0.051     14.729      0.000       0.651       0.851\n",
       "origin           1.4261      0.278      5.127      0.000       0.879       1.973\n",
       "==============================================================================\n",
       "Omnibus:                       31.906   Durbin-Watson:                   1.309\n",
       "Prob(Omnibus):                  0.000   Jarque-Bera (JB):               53.100\n",
       "Skew:                           0.529   Prob(JB):                     2.95e-12\n",
       "Kurtosis:                       4.460   Cond. No.                     8.59e+04\n",
       "==============================================================================\n",
       "\n",
       "Notes:\n",
       "[1] Standard Errors assume that the covariance matrix of the errors is correctly specified.\n",
       "[2] The condition number is large, 8.59e+04. This might indicate that there are\n",
       "strong multicollinearity or other numerical problems.\n",
       "\"\"\""
      ]
     },
     "execution_count": 57,
     "metadata": {},
     "output_type": "execute_result"
    }
   ],
   "source": [
    "lm = sm.ols('mpg~cylinders+displacement+horsepower+weight+acceleration+year+origin', data=auto).fit()\n",
    "lm.summary()"
   ]
  },
  {
   "cell_type": "code",
   "execution_count": 58,
   "metadata": {},
   "outputs": [
    {
     "data": {
      "text/plain": [
       "array([-0.49337632,  0.01989564, -0.01695114, -0.00647404,  0.08057584,\n",
       "        0.75077268,  1.4261405 ])"
      ]
     },
     "execution_count": 58,
     "metadata": {},
     "output_type": "execute_result"
    }
   ],
   "source": [
    "lm_fit = LinearRegression()\n",
    "lm_fit.fit(X, Y)\n",
    "lm_fit.coef_"
   ]
  },
  {
   "cell_type": "code",
   "execution_count": 59,
   "metadata": {},
   "outputs": [
    {
     "data": {
      "text/plain": [
       "array([-0.00401002, -0.00383521, -0.02857067, -0.00576105,  0.00326937,\n",
       "        0.22625175,  0.01979579])"
      ]
     },
     "execution_count": 59,
     "metadata": {},
     "output_type": "execute_result"
    }
   ],
   "source": [
    "regi = Ridge(alpha=10000) #alpha = lambda in py\n",
    "regi.fit(X, Y)\n",
    "regi.coef_"
   ]
  },
  {
   "cell_type": "code",
   "execution_count": 60,
   "metadata": {},
   "outputs": [
    {
     "data": {
      "text/plain": [
       "array([-0.        , -0.        , -0.        , -0.00750838,  0.        ,\n",
       "        0.        ,  0.        ])"
      ]
     },
     "execution_count": 60,
     "metadata": {},
     "output_type": "execute_result"
    }
   ],
   "source": [
    "regi = Lasso(alpha=100) #alpha = lambda in py\n",
    "regi.fit(X, Y)\n",
    "regi.coef_"
   ]
  },
  {
   "cell_type": "code",
   "execution_count": 61,
   "metadata": {},
   "outputs": [
    {
     "data": {
      "text/plain": [
       "0.005"
      ]
     },
     "execution_count": 61,
     "metadata": {},
     "output_type": "execute_result"
    }
   ],
   "source": [
    "alphas = 10**np.linspace(10, -2, 100)*0.5\n",
    "alphas.min()"
   ]
  },
  {
   "cell_type": "code",
   "execution_count": 62,
   "metadata": {},
   "outputs": [
    {
     "data": {
      "text/plain": [
       "5000000000.0"
      ]
     },
     "execution_count": 62,
     "metadata": {},
     "output_type": "execute_result"
    }
   ],
   "source": [
    "alphas.max()"
   ]
  },
  {
   "cell_type": "code",
   "execution_count": 63,
   "metadata": {},
   "outputs": [],
   "source": [
    "from sklearn.linear_model import RidgeCV, LassoCV\n",
    "ridge = Ridge()\n",
    "coefs = []\n",
    "\n",
    "for a in alphas:\n",
    "    ridge.set_params(alpha=a)\n",
    "    ridge.fit(X, Y)\n",
    "    coefs.append(ridge.coef_)"
   ]
  },
  {
   "cell_type": "code",
   "execution_count": 64,
   "metadata": {},
   "outputs": [
    {
     "data": {
      "text/html": [
       "<div>\n",
       "<style scoped>\n",
       "    .dataframe tbody tr th:only-of-type {\n",
       "        vertical-align: middle;\n",
       "    }\n",
       "\n",
       "    .dataframe tbody tr th {\n",
       "        vertical-align: top;\n",
       "    }\n",
       "\n",
       "    .dataframe thead th {\n",
       "        text-align: right;\n",
       "    }\n",
       "</style>\n",
       "<table border=\"1\" class=\"dataframe\">\n",
       "  <thead>\n",
       "    <tr style=\"text-align: right;\">\n",
       "      <th></th>\n",
       "      <th>0</th>\n",
       "      <th>1</th>\n",
       "      <th>2</th>\n",
       "      <th>3</th>\n",
       "      <th>4</th>\n",
       "      <th>5</th>\n",
       "      <th>6</th>\n",
       "    </tr>\n",
       "  </thead>\n",
       "  <tbody>\n",
       "    <tr>\n",
       "      <th>0</th>\n",
       "      <td>-7.673770e-07</td>\n",
       "      <td>-0.000049</td>\n",
       "      <td>-0.000017</td>\n",
       "      <td>-0.000408</td>\n",
       "      <td>6.809623e-07</td>\n",
       "      <td>0.000001</td>\n",
       "      <td>2.648944e-07</td>\n",
       "    </tr>\n",
       "    <tr>\n",
       "      <th>1</th>\n",
       "      <td>-9.977224e-07</td>\n",
       "      <td>-0.000063</td>\n",
       "      <td>-0.000023</td>\n",
       "      <td>-0.000530</td>\n",
       "      <td>8.875824e-07</td>\n",
       "      <td>0.000002</td>\n",
       "      <td>3.450354e-07</td>\n",
       "    </tr>\n",
       "    <tr>\n",
       "      <th>2</th>\n",
       "      <td>-1.290874e-06</td>\n",
       "      <td>-0.000082</td>\n",
       "      <td>-0.000029</td>\n",
       "      <td>-0.000685</td>\n",
       "      <td>1.152153e-06</td>\n",
       "      <td>0.000002</td>\n",
       "      <td>4.474845e-07</td>\n",
       "    </tr>\n",
       "    <tr>\n",
       "      <th>3</th>\n",
       "      <td>-1.659879e-06</td>\n",
       "      <td>-0.000105</td>\n",
       "      <td>-0.000038</td>\n",
       "      <td>-0.000880</td>\n",
       "      <td>1.487916e-06</td>\n",
       "      <td>0.000003</td>\n",
       "      <td>5.772174e-07</td>\n",
       "    </tr>\n",
       "    <tr>\n",
       "      <th>4</th>\n",
       "      <td>-2.118044e-06</td>\n",
       "      <td>-0.000134</td>\n",
       "      <td>-0.000048</td>\n",
       "      <td>-0.001121</td>\n",
       "      <td>1.909402e-06</td>\n",
       "      <td>0.000004</td>\n",
       "      <td>7.395981e-07</td>\n",
       "    </tr>\n",
       "    <tr>\n",
       "      <th>...</th>\n",
       "      <td>...</td>\n",
       "      <td>...</td>\n",
       "      <td>...</td>\n",
       "      <td>...</td>\n",
       "      <td>...</td>\n",
       "      <td>...</td>\n",
       "      <td>...</td>\n",
       "    </tr>\n",
       "    <tr>\n",
       "      <th>95</th>\n",
       "      <td>-4.932882e-01</td>\n",
       "      <td>0.019893</td>\n",
       "      <td>-0.016949</td>\n",
       "      <td>-0.006474</td>\n",
       "      <td>8.057596e-02</td>\n",
       "      <td>0.750770</td>\n",
       "      <td>1.425982e+00</td>\n",
       "    </tr>\n",
       "    <tr>\n",
       "      <th>96</th>\n",
       "      <td>-4.933096e-01</td>\n",
       "      <td>0.019894</td>\n",
       "      <td>-0.016950</td>\n",
       "      <td>-0.006474</td>\n",
       "      <td>8.057593e-02</td>\n",
       "      <td>0.750771</td>\n",
       "      <td>1.426021e+00</td>\n",
       "    </tr>\n",
       "    <tr>\n",
       "      <th>97</th>\n",
       "      <td>-4.933259e-01</td>\n",
       "      <td>0.019894</td>\n",
       "      <td>-0.016950</td>\n",
       "      <td>-0.006474</td>\n",
       "      <td>8.057591e-02</td>\n",
       "      <td>0.750771</td>\n",
       "      <td>1.426050e+00</td>\n",
       "    </tr>\n",
       "    <tr>\n",
       "      <th>98</th>\n",
       "      <td>-4.933382e-01</td>\n",
       "      <td>0.019895</td>\n",
       "      <td>-0.016950</td>\n",
       "      <td>-0.006474</td>\n",
       "      <td>8.057589e-02</td>\n",
       "      <td>0.750772</td>\n",
       "      <td>1.426072e+00</td>\n",
       "    </tr>\n",
       "    <tr>\n",
       "      <th>99</th>\n",
       "      <td>-4.933475e-01</td>\n",
       "      <td>0.019895</td>\n",
       "      <td>-0.016951</td>\n",
       "      <td>-0.006474</td>\n",
       "      <td>8.057588e-02</td>\n",
       "      <td>0.750772</td>\n",
       "      <td>1.426089e+00</td>\n",
       "    </tr>\n",
       "  </tbody>\n",
       "</table>\n",
       "<p>100 rows × 7 columns</p>\n",
       "</div>"
      ],
      "text/plain": [
       "               0         1         2         3             4         5  \\\n",
       "0  -7.673770e-07 -0.000049 -0.000017 -0.000408  6.809623e-07  0.000001   \n",
       "1  -9.977224e-07 -0.000063 -0.000023 -0.000530  8.875824e-07  0.000002   \n",
       "2  -1.290874e-06 -0.000082 -0.000029 -0.000685  1.152153e-06  0.000002   \n",
       "3  -1.659879e-06 -0.000105 -0.000038 -0.000880  1.487916e-06  0.000003   \n",
       "4  -2.118044e-06 -0.000134 -0.000048 -0.001121  1.909402e-06  0.000004   \n",
       "..           ...       ...       ...       ...           ...       ...   \n",
       "95 -4.932882e-01  0.019893 -0.016949 -0.006474  8.057596e-02  0.750770   \n",
       "96 -4.933096e-01  0.019894 -0.016950 -0.006474  8.057593e-02  0.750771   \n",
       "97 -4.933259e-01  0.019894 -0.016950 -0.006474  8.057591e-02  0.750771   \n",
       "98 -4.933382e-01  0.019895 -0.016950 -0.006474  8.057589e-02  0.750772   \n",
       "99 -4.933475e-01  0.019895 -0.016951 -0.006474  8.057588e-02  0.750772   \n",
       "\n",
       "               6  \n",
       "0   2.648944e-07  \n",
       "1   3.450354e-07  \n",
       "2   4.474845e-07  \n",
       "3   5.772174e-07  \n",
       "4   7.395981e-07  \n",
       "..           ...  \n",
       "95  1.425982e+00  \n",
       "96  1.426021e+00  \n",
       "97  1.426050e+00  \n",
       "98  1.426072e+00  \n",
       "99  1.426089e+00  \n",
       "\n",
       "[100 rows x 7 columns]"
      ]
     },
     "execution_count": 64,
     "metadata": {},
     "output_type": "execute_result"
    }
   ],
   "source": [
    "coefsDf = pd.DataFrame(coefs)\n",
    "coefsDf"
   ]
  },
  {
   "cell_type": "code",
   "execution_count": 65,
   "metadata": {},
   "outputs": [
    {
     "data": {
      "text/html": [
       "<div>\n",
       "<style scoped>\n",
       "    .dataframe tbody tr th:only-of-type {\n",
       "        vertical-align: middle;\n",
       "    }\n",
       "\n",
       "    .dataframe tbody tr th {\n",
       "        vertical-align: top;\n",
       "    }\n",
       "\n",
       "    .dataframe thead th {\n",
       "        text-align: right;\n",
       "    }\n",
       "</style>\n",
       "<table border=\"1\" class=\"dataframe\">\n",
       "  <thead>\n",
       "    <tr style=\"text-align: right;\">\n",
       "      <th></th>\n",
       "      <th>0</th>\n",
       "      <th>1</th>\n",
       "      <th>2</th>\n",
       "      <th>3</th>\n",
       "      <th>4</th>\n",
       "      <th>5</th>\n",
       "      <th>6</th>\n",
       "    </tr>\n",
       "  </thead>\n",
       "  <tbody>\n",
       "    <tr>\n",
       "      <th>95</th>\n",
       "      <td>-0.493288</td>\n",
       "      <td>0.019893</td>\n",
       "      <td>-0.016949</td>\n",
       "      <td>-0.006474</td>\n",
       "      <td>0.080576</td>\n",
       "      <td>0.750770</td>\n",
       "      <td>1.425982</td>\n",
       "    </tr>\n",
       "    <tr>\n",
       "      <th>96</th>\n",
       "      <td>-0.493310</td>\n",
       "      <td>0.019894</td>\n",
       "      <td>-0.016950</td>\n",
       "      <td>-0.006474</td>\n",
       "      <td>0.080576</td>\n",
       "      <td>0.750771</td>\n",
       "      <td>1.426021</td>\n",
       "    </tr>\n",
       "    <tr>\n",
       "      <th>97</th>\n",
       "      <td>-0.493326</td>\n",
       "      <td>0.019894</td>\n",
       "      <td>-0.016950</td>\n",
       "      <td>-0.006474</td>\n",
       "      <td>0.080576</td>\n",
       "      <td>0.750771</td>\n",
       "      <td>1.426050</td>\n",
       "    </tr>\n",
       "    <tr>\n",
       "      <th>98</th>\n",
       "      <td>-0.493338</td>\n",
       "      <td>0.019895</td>\n",
       "      <td>-0.016950</td>\n",
       "      <td>-0.006474</td>\n",
       "      <td>0.080576</td>\n",
       "      <td>0.750772</td>\n",
       "      <td>1.426072</td>\n",
       "    </tr>\n",
       "    <tr>\n",
       "      <th>99</th>\n",
       "      <td>-0.493347</td>\n",
       "      <td>0.019895</td>\n",
       "      <td>-0.016951</td>\n",
       "      <td>-0.006474</td>\n",
       "      <td>0.080576</td>\n",
       "      <td>0.750772</td>\n",
       "      <td>1.426089</td>\n",
       "    </tr>\n",
       "  </tbody>\n",
       "</table>\n",
       "</div>"
      ],
      "text/plain": [
       "           0         1         2         3         4         5         6\n",
       "95 -0.493288  0.019893 -0.016949 -0.006474  0.080576  0.750770  1.425982\n",
       "96 -0.493310  0.019894 -0.016950 -0.006474  0.080576  0.750771  1.426021\n",
       "97 -0.493326  0.019894 -0.016950 -0.006474  0.080576  0.750771  1.426050\n",
       "98 -0.493338  0.019895 -0.016950 -0.006474  0.080576  0.750772  1.426072\n",
       "99 -0.493347  0.019895 -0.016951 -0.006474  0.080576  0.750772  1.426089"
      ]
     },
     "execution_count": 65,
     "metadata": {},
     "output_type": "execute_result"
    }
   ],
   "source": [
    "coefsDf.tail()"
   ]
  },
  {
   "cell_type": "code",
   "execution_count": 66,
   "metadata": {},
   "outputs": [
    {
     "data": {
      "text/plain": [
       "Text(0, 0.5, 'weights')"
      ]
     },
     "execution_count": 66,
     "metadata": {},
     "output_type": "execute_result"
    },
    {
     "data": {
      "image/png": "[encoded data removed]",
      "text/plain": [
       "<Figure size 640x480 with 1 Axes>"
      ]
     },
     "metadata": {},
     "output_type": "display_data"
    }
   ],
   "source": [
    "ax = plt.gca()\n",
    "ax.plot(alphas, coefs)\n",
    "ax.set_xscale('log')\n",
    "plt.axis('tight')\n",
    "plt.xlabel('alpha')\n",
    "plt.ylabel('weights')"
   ]
  },
  {
   "cell_type": "code",
   "execution_count": 67,
   "metadata": {},
   "outputs": [],
   "source": [
    "from sklearn.linear_model import RidgeCV, LassoCV\n",
    "lasso = Lasso()\n",
    "coefs = []\n",
    "\n",
    "for a in alphas:\n",
    "    ridge.set_params(alpha=a)\n",
    "    ridge.fit(X, Y)\n",
    "    coefs.append(ridge.coef_)"
   ]
  },
  {
   "cell_type": "code",
   "execution_count": 68,
   "metadata": {},
   "outputs": [],
   "source": [
    "from sklearn.model_selection import train_test_split\n",
    "X_train, X_test, y_train, y_test = train_test_split(X, Y, test_size=0.5)"
   ]
  },
  {
   "cell_type": "code",
   "execution_count": 69,
   "metadata": {},
   "outputs": [
    {
     "data": {
      "text/plain": [
       "0      18.0\n",
       "339    26.6\n",
       "23     26.0\n",
       "315    24.3\n",
       "343    39.1\n",
       "       ... \n",
       "306    28.8\n",
       "62     13.0\n",
       "157    15.0\n",
       "100    18.0\n",
       "6      14.0\n",
       "Name: mpg, Length: 196, dtype: float64"
      ]
     },
     "execution_count": 69,
     "metadata": {},
     "output_type": "execute_result"
    }
   ],
   "source": [
    "y_train"
   ]
  },
  {
   "cell_type": "code",
   "execution_count": 70,
   "metadata": {},
   "outputs": [
    {
     "name": "stdout",
     "output_type": "stream",
     "text": [
      "cylinders      -0.175023\n",
      "displacement   -0.001371\n",
      "horsepower     -0.008832\n",
      "weight         -0.005876\n",
      "acceleration   -0.116152\n",
      "year            0.665740\n",
      "origin          0.653599\n",
      "dtype: float64\n",
      "12.916783259481402\n"
     ]
    }
   ],
   "source": [
    "ridge2 = Ridge(alpha=100)\n",
    "ridge2.fit(X_train, y_train)\n",
    "pred2 = ridge2.predict(X_test)\n",
    "print(pd.Series(ridge2.coef_, index=X.columns))\n",
    "print(mean_squared_error(y_test, pred2))"
   ]
  },
  {
   "cell_type": "code",
   "execution_count": 71,
   "metadata": {},
   "outputs": [
    {
     "data": {
      "text/plain": [
       "array([-0.17502321, -0.00137141, -0.00883239, -0.00587578, -0.11615178,\n",
       "        0.66573968,  0.65359858])"
      ]
     },
     "execution_count": 71,
     "metadata": {},
     "output_type": "execute_result"
    }
   ],
   "source": [
    "ridge2.coef_"
   ]
  },
  {
   "cell_type": "code",
   "execution_count": 72,
   "metadata": {},
   "outputs": [
    {
     "data": {
      "text/plain": [
       "9.369087114301934"
      ]
     },
     "execution_count": 72,
     "metadata": {},
     "output_type": "execute_result"
    }
   ],
   "source": [
    "ridgecv = RidgeCV(alphas=alphas, scoring='neg_mean_squared_error')\n",
    "ridgecv.fit(X_train, y_train)\n",
    "ridgecv.alpha_"
   ]
  },
  {
   "cell_type": "code",
   "execution_count": null,
   "metadata": {},
   "outputs": [],
   "source": []
  },
  {
   "cell_type": "code",
   "execution_count": null,
   "metadata": {},
   "outputs": [],
   "source": []
  }
 ],
 "metadata": {
  "kernelspec": {
   "display_name": "Python 3",
   "language": "python",
   "name": "python3"
  },
  "language_info": {
   "codemirror_mode": {
    "name": "ipython",
    "version": 3
   },
   "file_extension": ".py",
   "mimetype": "text/x-python",
   "name": "python",
   "nbconvert_exporter": "python",
   "pygments_lexer": "ipython3",
   "version": "3.10.4"
  },
  "orig_nbformat": 4
 },
 "nbformat": 4,
 "nbformat_minor": 2
}
