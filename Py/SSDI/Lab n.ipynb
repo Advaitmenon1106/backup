{
 "cells": [
  {
   "cell_type": "code",
   "execution_count": 162,
   "metadata": {},
   "outputs": [],
   "source": [
    "import numpy as np\n",
    "import pandas as pd\n",
    "from scipy.stats import t\n",
    "from scipy import stats"
   ]
  },
  {
   "cell_type": "code",
   "execution_count": 163,
   "metadata": {},
   "outputs": [
    {
     "name": "stdout",
     "output_type": "stream",
     "text": [
      "-12.5\n",
      "2.0638985616280205 -2.063898561628021\n"
     ]
    }
   ],
   "source": [
    "\"\"\"\n",
    "1.\n",
    "H0 : mu = 25\n",
    "Ha : mu =/= 25\n",
    "\"\"\"\n",
    "\n",
    "#2.\n",
    "mu = 25\n",
    "xbar = 20\n",
    "n = 25\n",
    "sigma = 2\n",
    "s_error = sigma/np.sqrt(n)\n",
    "\n",
    "#3.\n",
    "t_cal = (xbar-mu)/s_error\n",
    "print(t_cal)\n",
    "\n",
    "#4\n",
    "r_t_table = t.ppf(0.975, (n-1))\n",
    "l_t_table = t.ppf(0.025, (n-1))\n",
    "print (r_t_table, l_t_table)\n",
    "\n",
    "# Reject H0\n"
   ]
  },
  {
   "cell_type": "code",
   "execution_count": 164,
   "metadata": {},
   "outputs": [
    {
     "name": "stdout",
     "output_type": "stream",
     "text": [
      "6.714285714285714 3.6384193323605842\n",
      "-12.5\n",
      "1.9431802803927818\n"
     ]
    },
    {
     "data": {
      "text/plain": [
       "Ttest_1sampResult(statistic=0.5194075207983329, pvalue=0.3110363259933919)"
      ]
     },
     "execution_count": 164,
     "metadata": {},
     "output_type": "execute_result"
    }
   ],
   "source": [
    "df = np.array([2, 3, 7, 8, 12, 5, 10])\n",
    "mu = 6\n",
    "n = len(df)\n",
    "xbar = np.mean(df)\n",
    "s_sd = np.std(df, ddof=1)\n",
    "print (xbar, s_sd)\n",
    "s_error = s_sd/np.sqrt(n)\n",
    "print (t_cal)\n",
    "print (t.ppf(0.95, (n-1)))\n",
    "\n",
    "#1. H0 : mu<=6\n",
    "#   Ha : mu>6\n",
    "\n",
    "stats.ttest_1samp(df, popmean=6, alternative=\"greater\")"
   ]
  },
  {
   "cell_type": "code",
   "execution_count": 165,
   "metadata": {},
   "outputs": [
    {
     "data": {
      "text/plain": [
       "Ttest_1sampResult(statistic=0.0, pvalue=1.0)"
      ]
     },
     "execution_count": 165,
     "metadata": {},
     "output_type": "execute_result"
    }
   ],
   "source": [
    "mu = 2\n",
    "df = np.array([10, 12, 13, 14, 15, 2, 7, 8])\n",
    "xbar = np.mean(df)\n",
    "# Two sided, less, greater\n",
    "\n",
    "stats.ttest_1samp(df, popmean=xbar, alternative=\"two-sided\")"
   ]
  },
  {
   "cell_type": "code",
   "execution_count": 166,
   "metadata": {},
   "outputs": [
    {
     "data": {
      "text/plain": [
       "Ttest_1sampResult(statistic=0.0, pvalue=0.5)"
      ]
     },
     "execution_count": 166,
     "metadata": {},
     "output_type": "execute_result"
    }
   ],
   "source": [
    "stats.ttest_1samp(df, popmean=xbar, alternative=\"less\")"
   ]
  },
  {
   "cell_type": "code",
   "execution_count": 167,
   "metadata": {},
   "outputs": [
    {
     "data": {
      "text/plain": [
       "Ttest_1sampResult(statistic=0.0, pvalue=0.5)"
      ]
     },
     "execution_count": 167,
     "metadata": {},
     "output_type": "execute_result"
    }
   ],
   "source": [
    "stats.ttest_1samp(df, popmean=xbar, alternative=\"greater\")"
   ]
  },
  {
   "cell_type": "code",
   "execution_count": 168,
   "metadata": {},
   "outputs": [
    {
     "name": "stdout",
     "output_type": "stream",
     "text": [
      "0.04026936331284146\n",
      "-0.6375982524533221\n",
      "-1.655285436606691\n"
     ]
    }
   ],
   "source": [
    "pbar = 85/148\n",
    "p = 0.6\n",
    "n = 148\n",
    "\n",
    "#1 H0 : p>=0.6\n",
    "#  H1 : p< 0.6\n",
    "\n",
    "s_error = np.sqrt(p*(1-p)/n)\n",
    "print (s_error)\n",
    "#3\n",
    "t_cal = (pbar - p)/s_error\n",
    "print(t_cal)\n",
    "\n",
    "# Step 4\n",
    "\n",
    "l_t_table = t.ppf(0.05, (n-1))\n",
    "print (l_t_table)"
   ]
  },
  {
   "cell_type": "code",
   "execution_count": 169,
   "metadata": {},
   "outputs": [],
   "source": [
    "from statsmodels.stats.proportion import proportions_ztest"
   ]
  },
  {
   "cell_type": "code",
   "execution_count": 170,
   "metadata": {},
   "outputs": [
    {
     "data": {
      "text/plain": [
       "(-0.6317346770183859, 0.2637801323087673)"
      ]
     },
     "execution_count": 170,
     "metadata": {},
     "output_type": "execute_result"
    }
   ],
   "source": [
    "proportions_ztest(85, 148, 0.6, alternative=\"smaller\")"
   ]
  },
  {
   "cell_type": "code",
   "execution_count": 171,
   "metadata": {},
   "outputs": [
    {
     "name": "stdout",
     "output_type": "stream",
     "text": [
      "3.5777087639996634\n",
      "-1.734063606617536 2.10092204024096\n"
     ]
    }
   ],
   "source": [
    "# Two sample with standard deviation known\n",
    "# The null hypothesis is that u1-u2 = 0. \n",
    "xbar1 = 121\n",
    "xbar2 = 112\n",
    "#1. H0 : u1-u2 = 0\n",
    "#   Ha : u1-u2 =/= 0\n",
    "sigma1 = 8\n",
    "sigma2 = 8\n",
    "n1 = 10\n",
    "n2 = 10\n",
    "#2\n",
    "\n",
    "s_error= np.sqrt((sigma1**2/n1)+(sigma2**2/n2))\n",
    "print (s_error)\n",
    "\n",
    "t_cal = ((xbar1-xbar2)-0)/s_error\n",
    "r_t_table = t.ppf(0.975, (n1+n2-2))\n",
    "l_t_table = t.ppf(0.05, (n1+n2-2))\n",
    "print (l_t_table, r_t_table)"
   ]
  },
  {
   "cell_type": "code",
   "execution_count": 172,
   "metadata": {},
   "outputs": [
    {
     "data": {
      "text/plain": [
       "Ttest_indResult(statistic=1.7429179791369673, pvalue=0.13196265410193714)"
      ]
     },
     "execution_count": 172,
     "metadata": {},
     "output_type": "execute_result"
    }
   ],
   "source": [
    "from scipy import stats\n",
    "a = np.array([56, 128.6, 12, 128.8, 64.34, 78, 763.3])\n",
    "b = np.array([1.1, 2.9, 5.2])\n",
    "stats.ttest_ind(a, b, equal_var=False, alternative=\"two-sided\")"
   ]
  },
  {
   "cell_type": "code",
   "execution_count": null,
   "metadata": {},
   "outputs": [],
   "source": []
  }
 ],
 "metadata": {
  "kernelspec": {
   "display_name": "Python 3",
   "language": "python",
   "name": "python3"
  },
  "language_info": {
   "codemirror_mode": {
    "name": "ipython",
    "version": 3
   },
   "file_extension": ".py",
   "mimetype": "text/x-python",
   "name": "python",
   "nbconvert_exporter": "python",
   "pygments_lexer": "ipython3",
   "version": "3.10.4"
  },
  "orig_nbformat": 4,
  "vscode": {
   "interpreter": {
    "hash": "79faa210a4d4b910022c04f6ce8980c16d31a28838e0d99a1f5f82f062c85742"
   }
  }
 },
 "nbformat": 4,
 "nbformat_minor": 2
}
