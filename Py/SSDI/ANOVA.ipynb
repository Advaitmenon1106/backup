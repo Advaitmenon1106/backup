{
 "cells": [
  {
   "cell_type": "code",
   "execution_count": 144,
   "metadata": {},
   "outputs": [],
   "source": [
    "import numpy as np\n",
    "import pandas as pd\n",
    "import matplotlib.pyplot as plt"
   ]
  },
  {
   "cell_type": "code",
   "execution_count": 145,
   "metadata": {},
   "outputs": [
    {
     "name": "stdout",
     "output_type": "stream",
     "text": [
      "   Drink 1  Drink 2  Drink 3\n",
      "0        2        2       10\n",
      "1        3        5       13\n",
      "2        7        9       14\n",
      "3        2        1       13\n",
      "4        6        6       15\n"
     ]
    }
   ],
   "source": [
    "df = pd.DataFrame({\"Drink 1\" : [2, 3, 7, 2, 6], \n",
    "\"Drink 2\" : [2, 5, 9, 1, 6], \n",
    "\"Drink 3\" : [10, 13, 14, 13, 15]})\n",
    "\n",
    "print (df)"
   ]
  },
  {
   "cell_type": "code",
   "execution_count": 146,
   "metadata": {},
   "outputs": [
    {
     "name": "stdout",
     "output_type": "stream",
     "text": [
      "    index Treatments  Sweetness\n",
      "0       0    Drink 1          2\n",
      "1       1    Drink 1          3\n",
      "2       2    Drink 1          7\n",
      "3       3    Drink 1          2\n",
      "4       4    Drink 1          6\n",
      "5       0    Drink 2          2\n",
      "6       1    Drink 2          5\n",
      "7       2    Drink 2          9\n",
      "8       3    Drink 2          1\n",
      "9       4    Drink 2          6\n",
      "10      0    Drink 3         10\n",
      "11      1    Drink 3         13\n",
      "12      2    Drink 3         14\n",
      "13      3    Drink 3         13\n",
      "14      4    Drink 3         15\n"
     ]
    }
   ],
   "source": [
    "df1 = pd.melt(df.reset_index(), id_vars=[\"index\"], value_vars=[\"Drink 1\", \"Drink 2\", \"Drink 3\"])\n",
    "df1.columns = [\"index\", \"Treatments\", \"Sweetness\"]\n",
    "print (df1)"
   ]
  },
  {
   "cell_type": "code",
   "execution_count": 147,
   "metadata": {},
   "outputs": [],
   "source": [
    "import statsmodels.api as sm\n",
    "from statsmodels.formula.api import ols"
   ]
  },
  {
   "cell_type": "code",
   "execution_count": 148,
   "metadata": {},
   "outputs": [],
   "source": [
    "lm = ols(\"Sweetness~Treatments\", data=df1).fit()\n",
    "anova = sm.stats.anova_lm(lm, type=1)"
   ]
  },
  {
   "cell_type": "code",
   "execution_count": 149,
   "metadata": {},
   "outputs": [
    {
     "data": {
      "text/html": [
       "<div>\n",
       "<style scoped>\n",
       "    .dataframe tbody tr th:only-of-type {\n",
       "        vertical-align: middle;\n",
       "    }\n",
       "\n",
       "    .dataframe tbody tr th {\n",
       "        vertical-align: top;\n",
       "    }\n",
       "\n",
       "    .dataframe thead th {\n",
       "        text-align: right;\n",
       "    }\n",
       "</style>\n",
       "<table border=\"1\" class=\"dataframe\">\n",
       "  <thead>\n",
       "    <tr style=\"text-align: right;\">\n",
       "      <th></th>\n",
       "      <th>df</th>\n",
       "      <th>sum_sq</th>\n",
       "      <th>mean_sq</th>\n",
       "      <th>F</th>\n",
       "      <th>PR(&gt;F)</th>\n",
       "    </tr>\n",
       "  </thead>\n",
       "  <tbody>\n",
       "    <tr>\n",
       "      <th>Treatments</th>\n",
       "      <td>2.0</td>\n",
       "      <td>253.2</td>\n",
       "      <td>126.600000</td>\n",
       "      <td>19.678756</td>\n",
       "      <td>0.000163</td>\n",
       "    </tr>\n",
       "    <tr>\n",
       "      <th>Residual</th>\n",
       "      <td>12.0</td>\n",
       "      <td>77.2</td>\n",
       "      <td>6.433333</td>\n",
       "      <td>NaN</td>\n",
       "      <td>NaN</td>\n",
       "    </tr>\n",
       "  </tbody>\n",
       "</table>\n",
       "</div>"
      ],
      "text/plain": [
       "              df  sum_sq     mean_sq          F    PR(>F)\n",
       "Treatments   2.0   253.2  126.600000  19.678756  0.000163\n",
       "Residual    12.0    77.2    6.433333        NaN       NaN"
      ]
     },
     "execution_count": 149,
     "metadata": {},
     "output_type": "execute_result"
    }
   ],
   "source": [
    "anova\n",
    "#residuals = ssw"
   ]
  },
  {
   "cell_type": "code",
   "execution_count": 150,
   "metadata": {},
   "outputs": [
    {
     "data": {
      "text/html": [
       "<table class=\"simpletable\">\n",
       "<caption>Multiple Comparison of Means - Tukey HSD, FWER=0.05</caption>\n",
       "<tr>\n",
       "  <th>group1</th>  <th>group2</th>  <th>meandiff</th>  <th>p-adj</th>  <th>lower</th>   <th>upper</th>  <th>reject</th>\n",
       "</tr>\n",
       "<tr>\n",
       "  <td>Drink 1</td> <td>Drink 2</td>    <td>0.6</td>   <td>0.9262</td> <td>-3.6797</td> <td>4.8797</td>   <td>False</td>\n",
       "</tr>\n",
       "<tr>\n",
       "  <td>Drink 1</td> <td>Drink 3</td>    <td>9.0</td>   <td>0.0003</td> <td>4.7203</td>  <td>13.2797</td>  <td>True</td> \n",
       "</tr>\n",
       "<tr>\n",
       "  <td>Drink 2</td> <td>Drink 3</td>    <td>8.4</td>   <td>0.0006</td> <td>4.1203</td>  <td>12.6797</td>  <td>True</td> \n",
       "</tr>\n",
       "</table>"
      ],
      "text/plain": [
       "<class 'statsmodels.iolib.table.SimpleTable'>"
      ]
     },
     "execution_count": 150,
     "metadata": {},
     "output_type": "execute_result"
    }
   ],
   "source": [
    "from statsmodels.stats.multicomp import pairwise_tukeyhsd\n",
    "tukey = pairwise_tukeyhsd(df1[\"Sweetness\"], groups=df1[\"Treatments\"])\n",
    "tukey._results_table"
   ]
  },
  {
   "cell_type": "code",
   "execution_count": 151,
   "metadata": {},
   "outputs": [
    {
     "data": {
      "text/plain": [
       "Ttest_indResult(statistic=-0.337526370277807, pvalue=0.6274058914404141)"
      ]
     },
     "execution_count": 151,
     "metadata": {},
     "output_type": "execute_result"
    }
   ],
   "source": [
    "from scipy import stats\n",
    "stats.ttest_ind(df[\"Drink 1\"], df[\"Drink 2\"], equal_var=False, alternative=\"greater\")"
   ]
  }
 ],
 "metadata": {
  "kernelspec": {
   "display_name": "Python 3",
   "language": "python",
   "name": "python3"
  },
  "language_info": {
   "codemirror_mode": {
    "name": "ipython",
    "version": 3
   },
   "file_extension": ".py",
   "mimetype": "text/x-python",
   "name": "python",
   "nbconvert_exporter": "python",
   "pygments_lexer": "ipython3",
   "version": "3.10.4"
  },
  "orig_nbformat": 4,
  "vscode": {
   "interpreter": {
    "hash": "79faa210a4d4b910022c04f6ce8980c16d31a28838e0d99a1f5f82f062c85742"
   }
  }
 },
 "nbformat": 4,
 "nbformat_minor": 2
}
