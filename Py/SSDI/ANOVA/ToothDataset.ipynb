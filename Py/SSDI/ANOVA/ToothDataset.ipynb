{
 "cells": [
  {
   "cell_type": "code",
   "execution_count": 3,
   "metadata": {},
   "outputs": [],
   "source": [
    "import numpy as np\n",
    "import pandas as pd"
   ]
  },
  {
   "cell_type": "code",
   "execution_count": 4,
   "metadata": {},
   "outputs": [
    {
     "name": "stdout",
     "output_type": "stream",
     "text": [
      "     len supp  dose\n",
      "0    4.2   VC   0.5\n",
      "1   11.5   VC   0.5\n",
      "2    7.3   VC   0.5\n",
      "3    5.8   VC   0.5\n",
      "4    6.4   VC   0.5\n",
      "5   10.0   VC   0.5\n",
      "6   11.2   VC   0.5\n",
      "7   11.2   VC   0.5\n",
      "8    5.2   VC   0.5\n",
      "9    7.0   VC   0.5\n",
      "10  16.5   VC   1.0\n",
      "11  16.5   VC   1.0\n",
      "12  15.2   VC   1.0\n",
      "13  17.3   VC   1.0\n",
      "14  22.5   VC   1.0\n",
      "15  17.3   VC   1.0\n",
      "16  13.6   VC   1.0\n",
      "17  14.5   VC   1.0\n",
      "18  18.8   VC   1.0\n",
      "19  15.5   VC   1.0\n",
      "20  23.6   VC   2.0\n",
      "21  18.5   VC   2.0\n",
      "22  33.9   VC   2.0\n",
      "23  25.5   VC   2.0\n",
      "24  26.4   VC   2.0\n",
      "25  32.5   VC   2.0\n",
      "26  26.7   VC   2.0\n",
      "27  21.5   VC   2.0\n",
      "28  23.3   VC   2.0\n",
      "29  29.5   VC   2.0\n",
      "30  15.2   OJ   0.5\n",
      "31  21.5   OJ   0.5\n",
      "32  17.6   OJ   0.5\n",
      "33   9.7   OJ   0.5\n",
      "34  14.5   OJ   0.5\n",
      "35  10.0   OJ   0.5\n",
      "36   8.2   OJ   0.5\n",
      "37   9.4   OJ   0.5\n",
      "38  16.5   OJ   0.5\n",
      "39   9.7   OJ   0.5\n",
      "40  19.7   OJ   1.0\n",
      "41  23.3   OJ   1.0\n",
      "42  23.6   OJ   1.0\n",
      "43  26.4   OJ   1.0\n",
      "44  20.0   OJ   1.0\n",
      "45  25.2   OJ   1.0\n",
      "46  25.8   OJ   1.0\n",
      "47  21.2   OJ   1.0\n",
      "48  14.5   OJ   1.0\n",
      "49  27.3   OJ   1.0\n",
      "50  25.5   OJ   2.0\n",
      "51  26.4   OJ   2.0\n",
      "52  22.4   OJ   2.0\n",
      "53  24.5   OJ   2.0\n",
      "54  24.8   OJ   2.0\n",
      "55  30.9   OJ   2.0\n",
      "56  26.4   OJ   2.0\n",
      "57  27.3   OJ   2.0\n",
      "58  29.4   OJ   2.0\n",
      "59  23.0   OJ   2.0\n"
     ]
    }
   ],
   "source": [
    "df = pd.read_csv(\"ToothDataset.csv\")\n",
    "print (df)"
   ]
  },
  {
   "cell_type": "code",
   "execution_count": null,
   "metadata": {},
   "outputs": [],
   "source": []
  }
 ],
 "metadata": {
  "kernelspec": {
   "display_name": "Python 3",
   "language": "python",
   "name": "python3"
  },
  "language_info": {
   "codemirror_mode": {
    "name": "ipython",
    "version": 3
   },
   "file_extension": ".py",
   "mimetype": "text/x-python",
   "name": "python",
   "nbconvert_exporter": "python",
   "pygments_lexer": "ipython3",
   "version": "3.10.4"
  },
  "orig_nbformat": 4
 },
 "nbformat": 4,
 "nbformat_minor": 2
}
