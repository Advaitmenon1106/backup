{
 "cells": [
  {
   "cell_type": "code",
   "execution_count": 7,
   "metadata": {},
   "outputs": [],
   "source": [
    "import numpy as np\n",
    "import pandas as pd"
   ]
  },
  {
   "cell_type": "code",
   "execution_count": 8,
   "metadata": {},
   "outputs": [
    {
     "name": "stdout",
     "output_type": "stream",
     "text": [
      "    Density  Block  Fertilizer       Yield\n",
      "0         1      1           1  177.228692\n",
      "1         2      2           1  177.550041\n",
      "2         1      3           1  176.408462\n",
      "3         2      4           1  177.703625\n",
      "4         1      1           1  177.125486\n",
      "..      ...    ...         ...         ...\n",
      "91        2      4           3  177.405292\n",
      "92        1      1           3  178.141644\n",
      "93        2      2           3  177.710612\n",
      "94        1      3           3  177.687264\n",
      "95        2      4           3  177.118176\n",
      "\n",
      "[96 rows x 4 columns]\n"
     ]
    }
   ],
   "source": [
    "df = pd.read_csv(\"Crops.csv\")\n",
    "df.isna().sum()\n",
    "print (df)"
   ]
  },
  {
   "cell_type": "code",
   "execution_count": 9,
   "metadata": {},
   "outputs": [
    {
     "data": {
      "text/html": [
       "<div>\n",
       "<style scoped>\n",
       "    .dataframe tbody tr th:only-of-type {\n",
       "        vertical-align: middle;\n",
       "    }\n",
       "\n",
       "    .dataframe tbody tr th {\n",
       "        vertical-align: top;\n",
       "    }\n",
       "\n",
       "    .dataframe thead th {\n",
       "        text-align: right;\n",
       "    }\n",
       "</style>\n",
       "<table border=\"1\" class=\"dataframe\">\n",
       "  <thead>\n",
       "    <tr style=\"text-align: right;\">\n",
       "      <th></th>\n",
       "      <th>df</th>\n",
       "      <th>sum_sq</th>\n",
       "      <th>mean_sq</th>\n",
       "      <th>F</th>\n",
       "      <th>PR(&gt;F)</th>\n",
       "    </tr>\n",
       "  </thead>\n",
       "  <tbody>\n",
       "    <tr>\n",
       "      <th>Density</th>\n",
       "      <td>1.0</td>\n",
       "      <td>5.121681</td>\n",
       "      <td>5.121681</td>\n",
       "      <td>15.396888</td>\n",
       "      <td>0.000168</td>\n",
       "    </tr>\n",
       "    <tr>\n",
       "      <th>Block</th>\n",
       "      <td>1.0</td>\n",
       "      <td>0.486088</td>\n",
       "      <td>0.486088</td>\n",
       "      <td>1.461286</td>\n",
       "      <td>0.229823</td>\n",
       "    </tr>\n",
       "    <tr>\n",
       "      <th>Fertilizer</th>\n",
       "      <td>1.0</td>\n",
       "      <td>5.743223</td>\n",
       "      <td>5.743223</td>\n",
       "      <td>17.265379</td>\n",
       "      <td>0.000073</td>\n",
       "    </tr>\n",
       "    <tr>\n",
       "      <th>Residual</th>\n",
       "      <td>92.0</td>\n",
       "      <td>30.603241</td>\n",
       "      <td>0.332644</td>\n",
       "      <td>NaN</td>\n",
       "      <td>NaN</td>\n",
       "    </tr>\n",
       "  </tbody>\n",
       "</table>\n",
       "</div>"
      ],
      "text/plain": [
       "              df     sum_sq   mean_sq          F    PR(>F)\n",
       "Density      1.0   5.121681  5.121681  15.396888  0.000168\n",
       "Block        1.0   0.486088  0.486088   1.461286  0.229823\n",
       "Fertilizer   1.0   5.743223  5.743223  17.265379  0.000073\n",
       "Residual    92.0  30.603241  0.332644        NaN       NaN"
      ]
     },
     "execution_count": 9,
     "metadata": {},
     "output_type": "execute_result"
    }
   ],
   "source": [
    "import statsmodels.api as sm\n",
    "from statsmodels.formula.api import ols\n",
    "fit = ols('Yield~Density+Block+Fertilizer', data=df).fit()\n",
    "anova = sm.stats.anova_lm(fit, type=3)\n",
    "anova"
   ]
  },
  {
   "cell_type": "code",
   "execution_count": 10,
   "metadata": {},
   "outputs": [
    {
     "name": "stdout",
     "output_type": "stream",
     "text": [
      "Multiple Comparison of Means - Tukey HSD, FWER=0.05 \n",
      "====================================================\n",
      "group1 group2 meandiff p-adj   lower   upper  reject\n",
      "----------------------------------------------------\n",
      "     1      2   0.4605 0.0607 -0.0143  0.9353  False\n",
      "     1      3  -0.1438 0.8577 -0.6185   0.331  False\n",
      "     1      4   0.3196 0.2984 -0.1551  0.7944  False\n",
      "     2      3  -0.6043 0.0067  -1.079 -0.1295   True\n",
      "     2      4  -0.1409  0.865 -0.6156  0.3339  False\n",
      "     3      4   0.4634 0.0584 -0.0114  0.9382  False\n",
      "---------------------------------------------------- Multiple Comparison of Means - Tukey HSD, FWER=0.05\n",
      "==================================================\n",
      "group1 group2 meandiff p-adj  lower  upper  reject\n",
      "--------------------------------------------------\n",
      "     1      2    0.462 0.0005 0.2083 0.7157   True\n",
      "-------------------------------------------------- Multiple Comparison of Means - Tukey HSD, FWER=0.05\n",
      "===================================================\n",
      "group1 group2 meandiff p-adj   lower  upper  reject\n",
      "---------------------------------------------------\n",
      "     1      2   0.1762 0.4955 -0.1937 0.5461  False\n",
      "     1      3   0.5991 0.0006  0.2292  0.969   True\n",
      "     2      3    0.423 0.0209  0.0531 0.7928   True\n",
      "---------------------------------------------------\n"
     ]
    }
   ],
   "source": [
    "from statsmodels.stats.multicomp import pairwise_tukeyhsd\n",
    "tukey = pairwise_tukeyhsd(df[\"Yield\"], df['Block'])\n",
    "tukey2 = pairwise_tukeyhsd(df[\"Yield\"], df['Density'])\n",
    "tukey3 = pairwise_tukeyhsd(df[\"Yield\"], df['Fertilizer'])\n",
    "print (tukey, tukey2, tukey3)"
   ]
  }
 ],
 "metadata": {
  "kernelspec": {
   "display_name": "Python 3",
   "language": "python",
   "name": "python3"
  },
  "language_info": {
   "codemirror_mode": {
    "name": "ipython",
    "version": 3
   },
   "file_extension": ".py",
   "mimetype": "text/x-python",
   "name": "python",
   "nbconvert_exporter": "python",
   "pygments_lexer": "ipython3",
   "version": "3.10.4"
  },
  "orig_nbformat": 4,
  "vscode": {
   "interpreter": {
    "hash": "79faa210a4d4b910022c04f6ce8980c16d31a28838e0d99a1f5f82f062c85742"
   }
  }
 },
 "nbformat": 4,
 "nbformat_minor": 2
}
