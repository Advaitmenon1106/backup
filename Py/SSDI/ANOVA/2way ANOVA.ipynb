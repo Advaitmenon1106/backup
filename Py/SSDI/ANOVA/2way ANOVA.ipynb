{
 "cells": [
  {
   "cell_type": "code",
   "execution_count": 17,
   "metadata": {},
   "outputs": [],
   "source": [
    "import numpy as np\n",
    "import pandas as pd\n",
    "import statsmodels.api as sm\n",
    "from statsmodels.formula.api import ols\n",
    "from statsmodels.stats.multicomp import pairwise_tukeyhsd"
   ]
  },
  {
   "cell_type": "code",
   "execution_count": 18,
   "metadata": {},
   "outputs": [
    {
     "name": "stdout",
     "output_type": "stream",
     "text": [
      "     water   sun  height\n",
      "0    daily   low       6\n",
      "1    daily   low       6\n",
      "2    daily   low       6\n",
      "3    daily   low       5\n",
      "4    daily   low       6\n",
      "5    daily   med       5\n",
      "6    daily   med       5\n",
      "7    daily   med       6\n",
      "8    daily   med       4\n",
      "9    daily   med       5\n",
      "10   daily  high       6\n",
      "11   daily  high       6\n",
      "12   daily  high       7\n",
      "13   daily  high       8\n",
      "14   daily  high       7\n",
      "15  weekly   low       3\n",
      "16  weekly   low       4\n",
      "17  weekly   low       4\n",
      "18  weekly   low       4\n",
      "19  weekly   low       5\n",
      "20  weekly   med       4\n",
      "21  weekly   med       4\n",
      "22  weekly   med       4\n",
      "23  weekly   med       4\n",
      "24  weekly   med       4\n",
      "25  weekly  high       5\n",
      "26  weekly  high       6\n",
      "27  weekly  high       6\n",
      "28  weekly  high       7\n",
      "29  weekly  high       8\n"
     ]
    }
   ],
   "source": [
    "df = pd.DataFrame({'water': np.repeat(['daily', 'weekly'], 15), \n",
    "'sun' : np.tile(np.repeat(['low', 'med', 'high'], 5), 2),\n",
    "'height' : [6, 6, 6, 5, 6, 5, 5, 6, 4, 5, 6, 6, 7, 8, 7, 3, 4, 4, 4, 5, 4, 4, 4, 4, 4, 5, 6, 6, 7, 8]})\n",
    "\n",
    "print (df)"
   ]
  },
  {
   "cell_type": "code",
   "execution_count": 19,
   "metadata": {},
   "outputs": [
    {
     "data": {
      "text/html": [
       "<div>\n",
       "<style scoped>\n",
       "    .dataframe tbody tr th:only-of-type {\n",
       "        vertical-align: middle;\n",
       "    }\n",
       "\n",
       "    .dataframe tbody tr th {\n",
       "        vertical-align: top;\n",
       "    }\n",
       "\n",
       "    .dataframe thead th {\n",
       "        text-align: right;\n",
       "    }\n",
       "</style>\n",
       "<table border=\"1\" class=\"dataframe\">\n",
       "  <thead>\n",
       "    <tr style=\"text-align: right;\">\n",
       "      <th></th>\n",
       "      <th>df</th>\n",
       "      <th>sum_sq</th>\n",
       "      <th>mean_sq</th>\n",
       "      <th>F</th>\n",
       "      <th>PR(&gt;F)</th>\n",
       "    </tr>\n",
       "  </thead>\n",
       "  <tbody>\n",
       "    <tr>\n",
       "      <th>sun</th>\n",
       "      <td>2.0</td>\n",
       "      <td>24.866667</td>\n",
       "      <td>12.433333</td>\n",
       "      <td>23.3125</td>\n",
       "      <td>0.000002</td>\n",
       "    </tr>\n",
       "    <tr>\n",
       "      <th>water</th>\n",
       "      <td>1.0</td>\n",
       "      <td>8.533333</td>\n",
       "      <td>8.533333</td>\n",
       "      <td>16.0000</td>\n",
       "      <td>0.000527</td>\n",
       "    </tr>\n",
       "    <tr>\n",
       "      <th>sun:water</th>\n",
       "      <td>2.0</td>\n",
       "      <td>2.466667</td>\n",
       "      <td>1.233333</td>\n",
       "      <td>2.3125</td>\n",
       "      <td>0.120667</td>\n",
       "    </tr>\n",
       "    <tr>\n",
       "      <th>Residual</th>\n",
       "      <td>24.0</td>\n",
       "      <td>12.800000</td>\n",
       "      <td>0.533333</td>\n",
       "      <td>NaN</td>\n",
       "      <td>NaN</td>\n",
       "    </tr>\n",
       "  </tbody>\n",
       "</table>\n",
       "</div>"
      ],
      "text/plain": [
       "             df     sum_sq    mean_sq        F    PR(>F)\n",
       "sun         2.0  24.866667  12.433333  23.3125  0.000002\n",
       "water       1.0   8.533333   8.533333  16.0000  0.000527\n",
       "sun:water   2.0   2.466667   1.233333   2.3125  0.120667\n",
       "Residual   24.0  12.800000   0.533333      NaN       NaN"
      ]
     },
     "execution_count": 19,
     "metadata": {},
     "output_type": "execute_result"
    }
   ],
   "source": [
    "fit2 = ols('height~sun+water+sun*water', data=df).fit()\n",
    "anova2 = sm.stats.anova_lm(fit2, type = 2)\n",
    "anova2\n",
    "# if p value less than 0.05, reject null hypothesis i.e., theyre not same\n",
    "# effect of sun IS there\n",
    "# impact of water IS there\n",
    "# impact of combination of sun and water? NOT impactful"
   ]
  },
  {
   "cell_type": "code",
   "execution_count": 20,
   "metadata": {},
   "outputs": [
    {
     "name": "stdout",
     "output_type": "stream",
     "text": [
      "    Multiple Comparison of Means - Tukey HSD, FWER=0.05     \n",
      "============================================================\n",
      "  group1     group2   meandiff p-adj   lower   upper  reject\n",
      "------------------------------------------------------------\n",
      " highdaily highweekly     -0.4  0.951 -1.8281  1.0281  False\n",
      " highdaily   lowdaily     -1.0 0.2898 -2.4281  0.4281  False\n",
      " highdaily  lowweekly     -2.8    0.0 -4.2281 -1.3719   True\n",
      " highdaily   meddaily     -1.8 0.0079 -3.2281 -0.3719   True\n",
      " highdaily  medweekly     -2.8    0.0 -4.2281 -1.3719   True\n",
      "highweekly   lowdaily     -0.6 0.7827 -2.0281  0.8281  False\n",
      "highweekly  lowweekly     -2.4 0.0003 -3.8281 -0.9719   True\n",
      "highweekly   meddaily     -1.4  0.057 -2.8281  0.0281  False\n",
      "highweekly  medweekly     -2.4 0.0003 -3.8281 -0.9719   True\n",
      "  lowdaily  lowweekly     -1.8 0.0079 -3.2281 -0.3719   True\n",
      "  lowdaily   meddaily     -0.8 0.5252 -2.2281  0.6281  False\n",
      "  lowdaily  medweekly     -1.8 0.0079 -3.2281 -0.3719   True\n",
      " lowweekly   meddaily      1.0 0.2898 -0.4281  2.4281  False\n",
      " lowweekly  medweekly      0.0    1.0 -1.4281  1.4281  False\n",
      "  meddaily  medweekly     -1.0 0.2898 -2.4281  0.4281  False\n",
      "------------------------------------------------------------\n"
     ]
    }
   ],
   "source": [
    "tukey = pairwise_tukeyhsd(df[\"height\"], groups=df['sun']+df['water'])\n",
    "print (tukey)"
   ]
  },
  {
   "cell_type": "code",
   "execution_count": 21,
   "metadata": {},
   "outputs": [
    {
     "data": {
      "text/html": [
       "<div>\n",
       "<style scoped>\n",
       "    .dataframe tbody tr th:only-of-type {\n",
       "        vertical-align: middle;\n",
       "    }\n",
       "\n",
       "    .dataframe tbody tr th {\n",
       "        vertical-align: top;\n",
       "    }\n",
       "\n",
       "    .dataframe thead th {\n",
       "        text-align: right;\n",
       "    }\n",
       "</style>\n",
       "<table border=\"1\" class=\"dataframe\">\n",
       "  <thead>\n",
       "    <tr style=\"text-align: right;\">\n",
       "      <th></th>\n",
       "      <th>df</th>\n",
       "      <th>sum_sq</th>\n",
       "      <th>mean_sq</th>\n",
       "      <th>F</th>\n",
       "      <th>PR(&gt;F)</th>\n",
       "    </tr>\n",
       "  </thead>\n",
       "  <tbody>\n",
       "    <tr>\n",
       "      <th>Type</th>\n",
       "      <td>3.0</td>\n",
       "      <td>153.419376</td>\n",
       "      <td>51.139792</td>\n",
       "      <td>234.831806</td>\n",
       "      <td>3.075955e-23</td>\n",
       "    </tr>\n",
       "    <tr>\n",
       "      <th>Country</th>\n",
       "      <td>2.0</td>\n",
       "      <td>4.876221</td>\n",
       "      <td>2.438110</td>\n",
       "      <td>11.195701</td>\n",
       "      <td>1.743296e-04</td>\n",
       "    </tr>\n",
       "    <tr>\n",
       "      <th>Type:Country</th>\n",
       "      <td>6.0</td>\n",
       "      <td>3.329018</td>\n",
       "      <td>0.554836</td>\n",
       "      <td>2.547786</td>\n",
       "      <td>3.747193e-02</td>\n",
       "    </tr>\n",
       "    <tr>\n",
       "      <th>Residual</th>\n",
       "      <td>35.0</td>\n",
       "      <td>7.622020</td>\n",
       "      <td>0.217772</td>\n",
       "      <td>NaN</td>\n",
       "      <td>NaN</td>\n",
       "    </tr>\n",
       "  </tbody>\n",
       "</table>\n",
       "</div>"
      ],
      "text/plain": [
       "                df      sum_sq    mean_sq           F        PR(>F)\n",
       "Type           3.0  153.419376  51.139792  234.831806  3.075955e-23\n",
       "Country        2.0    4.876221   2.438110   11.195701  1.743296e-04\n",
       "Type:Country   6.0    3.329018   0.554836    2.547786  3.747193e-02\n",
       "Residual      35.0    7.622020   0.217772         NaN           NaN"
      ]
     },
     "execution_count": 21,
     "metadata": {},
     "output_type": "execute_result"
    }
   ],
   "source": [
    "df1 = pd.read_csv (\"Cricketers.csv\")\n",
    "fit3 = ols('Eco_Rate~Type+Country+Type*Country', data=df1).fit()\n",
    "anova2 = sm.stats.anova_lm(fit3, type = 2)\n",
    "anova2"
   ]
  },
  {
   "cell_type": "code",
   "execution_count": 22,
   "metadata": {},
   "outputs": [
    {
     "name": "stdout",
     "output_type": "stream",
     "text": [
      "   Multiple Comparison of Means - Tukey HSD, FWER=0.05    \n",
      "==========================================================\n",
      "  group1    group2  meandiff p-adj   lower   upper  reject\n",
      "----------------------------------------------------------\n",
      "AUSOneDay    AUST20    2.962    0.0  1.9659  3.9581   True\n",
      "AUSOneDay  AUSTest    -1.878    0.0 -2.8741 -0.8819   True\n",
      "AUSOneDay ENGOneDay     0.88 0.1214 -0.1161  1.8761  False\n",
      "AUSOneDay    ENGT20    3.198    0.0  2.2019  4.1941   True\n",
      "AUSOneDay   ENGTest   -1.564 0.1027 -3.2892  0.1612  False\n",
      "AUSOneDay  ENGTest    -1.819 0.0001 -2.8755 -0.7625   True\n",
      "AUSOneDay INDOneDay   -0.032    1.0 -1.0281  0.9641  False\n",
      "AUSOneDay    INDT20    1.828    0.0  0.8319  2.8241   True\n",
      "AUSOneDay  INDTest    -1.924    0.0 -2.9201 -0.9279   True\n",
      "   AUST20  AUSTest     -4.84    0.0 -5.8361 -3.8439   True\n",
      "   AUST20 ENGOneDay   -2.082    0.0 -3.0781 -1.0859   True\n",
      "   AUST20    ENGT20    0.236 0.9981 -0.7601  1.2321  False\n",
      "   AUST20   ENGTest   -4.526    0.0 -6.2512 -2.8008   True\n",
      "   AUST20  ENGTest    -4.781    0.0 -5.8375 -3.7245   True\n",
      "   AUST20 INDOneDay   -2.994    0.0 -3.9901 -1.9979   True\n",
      "   AUST20    INDT20   -1.134 0.0155 -2.1301 -0.1379   True\n",
      "   AUST20  INDTest    -4.886    0.0 -5.8821 -3.8899   True\n",
      " AUSTest  ENGOneDay    2.758    0.0  1.7619  3.7541   True\n",
      " AUSTest     ENGT20    5.076    0.0  4.0799  6.0721   True\n",
      " AUSTest    ENGTest    0.314 0.9998 -1.4112  2.0392  False\n",
      " AUSTest   ENGTest     0.059    1.0 -0.9975  1.1155  False\n",
      " AUSTest  INDOneDay    1.846    0.0  0.8499  2.8421   True\n",
      " AUSTest     INDT20    3.706    0.0  2.7099  4.7021   True\n",
      " AUSTest   INDTest    -0.046    1.0 -1.0421  0.9501  False\n",
      "ENGOneDay    ENGT20    2.318    0.0  1.3219  3.3141   True\n",
      "ENGOneDay   ENGTest   -2.444 0.0011 -4.1692 -0.7188   True\n",
      "ENGOneDay  ENGTest    -2.699    0.0 -3.7555 -1.6425   True\n",
      "ENGOneDay INDOneDay   -0.912 0.0961 -1.9081  0.0841  False\n",
      "ENGOneDay    INDT20    0.948 0.0731 -0.0481  1.9441  False\n",
      "ENGOneDay  INDTest    -2.804    0.0 -3.8001 -1.8079   True\n",
      "   ENGT20   ENGTest   -4.762    0.0 -6.4872 -3.0368   True\n",
      "   ENGT20  ENGTest    -5.017    0.0 -6.0735 -3.9605   True\n",
      "   ENGT20 INDOneDay    -3.23    0.0 -4.2261 -2.2339   True\n",
      "   ENGT20    INDT20    -1.37 0.0017 -2.3661 -0.3739   True\n",
      "   ENGT20  INDTest    -5.122    0.0 -6.1181 -4.1259   True\n",
      "  ENGTest  ENGTest    -0.255    1.0 -2.0158  1.5058  False\n",
      "  ENGTest INDOneDay    1.532 0.1175 -0.1932  3.2572  False\n",
      "  ENGTest    INDT20    3.392    0.0  1.6668  5.1172   True\n",
      "  ENGTest  INDTest     -0.36 0.9993 -2.0852  1.3652  False\n",
      " ENGTest  INDOneDay    1.787 0.0001  0.7305  2.8435   True\n",
      " ENGTest     INDT20    3.647    0.0  2.5905  4.7035   True\n",
      " ENGTest   INDTest    -0.105    1.0 -1.1615  0.9515  False\n",
      "INDOneDay    INDT20     1.86    0.0  0.8639  2.8561   True\n",
      "INDOneDay  INDTest    -1.892    0.0 -2.8881 -0.8959   True\n",
      "   INDT20  INDTest    -3.752    0.0 -4.7481 -2.7559   True\n",
      "----------------------------------------------------------\n"
     ]
    }
   ],
   "source": [
    "tukey = pairwise_tukeyhsd(df1[\"Eco_Rate\"], groups=df1['Country']+ df1['Type'])\n",
    "print (tukey)"
   ]
  }
 ],
 "metadata": {
  "kernelspec": {
   "display_name": "Python 3",
   "language": "python",
   "name": "python3"
  },
  "language_info": {
   "codemirror_mode": {
    "name": "ipython",
    "version": 3
   },
   "file_extension": ".py",
   "mimetype": "text/x-python",
   "name": "python",
   "nbconvert_exporter": "python",
   "pygments_lexer": "ipython3",
   "version": "3.10.4"
  },
  "orig_nbformat": 4,
  "vscode": {
   "interpreter": {
    "hash": "79faa210a4d4b910022c04f6ce8980c16d31a28838e0d99a1f5f82f062c85742"
   }
  }
 },
 "nbformat": 4,
 "nbformat_minor": 2
}
