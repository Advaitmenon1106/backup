import numpy as np
import pandas as pd
import matplotlib.pyplot as plt
"""
Problem Statement / Question :-
In the Forbes 2000 list, what are the changes undergone by companies between 2019 (pre pandemic)
and 2020 (pandemic era)
Note 1 : only companies common to both the 2019 and 2020 listed in 2020 on the Forbes 2000
list are being compared, so the row length does not sum up to 2000 

Note 2: The source (CSV) file had to be standardised (to billions of USD) before utiling the same for the code.

Note for self: Methodology of database calculations: https://www.forbes.com/2011/04/20/global-2000-11-methodology.html?sh=29be8cf72a22
"""
df1 = pd.read_csv("Forbes 2019.csv")
df2 = pd.read_csv("Forbes 2020 Final.csv")

# Top 10 company data in 2019

print (df1.iloc[:10])

#Top 10 company data in 2020

print (df2.iloc[:10])

# merging common companies from 2019 and 2020 on the basis of common company names:- 
df3 = pd.merge(df1, df2, on="Name")
print (df3)
"""
as a result of the merge, the company details from 2019 are termed as <column name>_x
while company details from 2020 are named as <column name>_y
"""

# Change in rank between 2019 and 2020

rankChange = pd.to_numeric(df3["Rank_y"])-pd.to_numeric(df3["Rank_x"])
df3["Change in Rank"] = rankChange

# Change in Market Value between 2019 and 2020

mktChange = pd.to_numeric(df3["Market Value_y"])-pd.to_numeric(df3["Market Value_x"])
df3["Change in Market Value"] = mktChange

# How did the company's assets change between 2019 and 2020?

assetsChange = pd.to_numeric(df3["Assets_y"])-pd.to_numeric(df3["Assets_x"])
df3["Changes in Assets Owned"] = assetsChange

print (df3)

# Grouped chart for various numerical yearly parameters:-

# Comparing Ranks graphically

x0 = np.arange(len(df3["Name"]))
width0 = 0.40
plt.bar(x0-0.2, df3["Rank_x"], width0)
plt.bar(x0+0.2, df3["Rank_y"], width0)
plt.xticks(x0, df3["Name"])
plt.xlabel("Company Names")
plt.ylabel("Market Values")
plt.legend([2019, 2020])
plt.show()

# Comparing market values graphically

plt.bar(x0-0.2, df3["Market Value_x"], width0)
plt.bar(x0+0.2, df3["Market Value_y"], width0)
plt.xticks(x0, df3["Name"])
plt.xlabel("Company Names")
plt.ylabel("Market Values")
plt.legend([2019, 2020])
plt.show()

# Comparing assets graphically

plt.bar(x0-0.2, df3["Assets_x"], width0)
plt.bar(x0+0.2, df3["Assets_y"], width0)
plt.xticks(x0, df3["Name"])
plt.xlabel("Company Names")
plt.ylabel("Assets")
plt.legend([2019, 2020])
plt.show()